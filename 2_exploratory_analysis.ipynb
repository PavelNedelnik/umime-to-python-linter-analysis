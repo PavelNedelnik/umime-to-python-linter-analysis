{
 "cells": [
  {
   "cell_type": "markdown",
   "metadata": {},
   "source": [
    "# set up"
   ]
  },
  {
   "cell_type": "code",
   "execution_count": null,
   "metadata": {},
   "outputs": [],
   "source": [
    "import math\n",
    "import os\n",
    "from pathlib import Path\n",
    "\n",
    "import matplotlib.pyplot as plt\n",
    "import matplotlib as mpl\n",
    "from matplotlib.colors import ListedColormap\n",
    "import seaborn as sns\n",
    "import plotly.express as px\n",
    "import pandas as pd\n",
    "import numpy as np\n",
    "from ipywidgets import Output\n",
    "from IPython.display import display, HTML\n",
    "\n",
    "from src.code_processing import parse_code_string, generate_linter_messages\n",
    "import src.ipython_loader as loader\n",
    "\n",
    "RESOLUTION = 300 # dpi\n",
    "data_path = Path('data')\n",
    "ipython_path = data_path / 'ipython_new'\n",
    "image_dir = Path('images') / 'exploratory'\n",
    "defect_distribution_images = image_dir / \"defect_distribution\"\n",
    "task_distribution_images = image_dir / \"task_distribution\"\n",
    "\n",
    "os.makedirs(defect_distribution_images, exist_ok=True)\n",
    "os.makedirs(task_distribution_images, exist_ok=True)"
   ]
  },
  {
   "cell_type": "code",
   "execution_count": null,
   "metadata": {},
   "outputs": [],
   "source": [
    "def get_regression_line(x: pd.Series, y: pd.Series) -> np.ndarray:\n",
    "    \"\"\"Get the regression line between two series.\"\"\"\n",
    "    slope, intercept = np.polyfit(x, y, 1)\n",
    "    return slope * x + intercept"
   ]
  },
  {
   "cell_type": "markdown",
   "metadata": {},
   "source": [
    "# loading data"
   ]
  },
  {
   "cell_type": "code",
   "execution_count": null,
   "metadata": {},
   "outputs": [],
   "source": [
    "items, log, defects, defect_log, code_to_defect_id = loader.load(ipython_path, data_path, only_presence=False)\n",
    "defect_presence = defect_log > 0"
   ]
  },
  {
   "cell_type": "markdown",
   "metadata": {},
   "source": [
    "# grouping by defect"
   ]
  },
  {
   "cell_type": "markdown",
   "metadata": {},
   "source": [
    "## defect frequency"
   ]
  },
  {
   "cell_type": "code",
   "execution_count": null,
   "metadata": {},
   "outputs": [],
   "source": [
    "frequencies = defect_presence.mean(axis=0).sort_values(ascending=False)\n",
    "\n",
    "defect_names = defects.loc[frequencies.index, 'defect name']\n",
    "defect_types = defects.loc[frequencies.index, 'defect type']\n",
    "\n",
    "unique_types = list(set(defects['defect type']))\n",
    "color_map = {dtype: plt.get_cmap('Paired')(i / (len(unique_types) - 1)) for i, dtype in enumerate(unique_types)}\n",
    "\n",
    "plt.figure(figsize=(12, 8))\n",
    "plt.bar(\n",
    "    x = defect_names,\n",
    "    height = frequencies,\n",
    "    color=[color_map[dtype] for dtype in defect_types]\n",
    ")\n",
    "\n",
    "plt.title('Relative Frequency of Defects by Category', fontsize=16)\n",
    "plt.xlabel('Defect Name', fontsize=12)\n",
    "plt.ylabel('Relative Frequency', fontsize=12)\n",
    "plt.xticks(rotation=45, ha='right')\n",
    "plt.tight_layout()\n",
    "\n",
    "handles = [plt.Rectangle((0, 0), 1, 1, color=color_map[dtype]) for dtype in unique_types]\n",
    "plt.legend(handles, unique_types, title='Defect Type', loc='upper right')\n",
    "\n",
    "plt.savefig(defect_distribution_images / 'defect_frequency.png', dpi=RESOLUTION)\n",
    "plt.close()"
   ]
  },
  {
   "cell_type": "markdown",
   "metadata": {},
   "source": [
    "### defect frequencies without poor formatting"
   ]
  },
  {
   "cell_type": "code",
   "execution_count": null,
   "metadata": {},
   "outputs": [],
   "source": [
    "frequencies = defect_presence.mean(axis=0).sort_values(ascending=False)\n",
    "\n",
    "# filter out poor formatting\n",
    "frequencies = frequencies.loc[defects['defect type'] != 'poor formatting']\n",
    "\n",
    "defect_names = defects.loc[frequencies.index, 'defect name']\n",
    "defect_types = defects.loc[frequencies.index, 'defect type']\n",
    "\n",
    "unique_types = list(set(defects['defect type']))\n",
    "color_map = {dtype: plt.get_cmap('Paired')(i / (len(unique_types) - 1)) for i, dtype in enumerate(unique_types)}\n",
    "\n",
    "plt.figure(figsize=(12, 8))\n",
    "plt.bar(\n",
    "    x = defect_names,\n",
    "    height = frequencies,\n",
    "    color=[color_map[dtype] for dtype in defect_types]\n",
    ")\n",
    "\n",
    "plt.title('Relative Frequency of Defects by Category', fontsize=16)\n",
    "plt.xlabel('Defect Name', fontsize=12)\n",
    "plt.ylabel('Relative Frequency', fontsize=12)\n",
    "plt.xticks(rotation=45, ha='right')\n",
    "plt.tight_layout()\n",
    "\n",
    "handles = [plt.Rectangle((0, 0), 1, 1, color=color_map[dtype]) for dtype in unique_types]\n",
    "plt.legend(handles, unique_types, title='Defect Type', loc='upper right')\n",
    "\n",
    "plt.savefig(defect_distribution_images / 'defect_frequency_without_formatting.png', dpi=RESOLUTION)\n",
    "plt.close()"
   ]
  },
  {
   "cell_type": "markdown",
   "metadata": {},
   "source": [
    "### defect frequencies by severity"
   ]
  },
  {
   "cell_type": "code",
   "execution_count": null,
   "metadata": {},
   "outputs": [],
   "source": [
    "unique_types = list(set(defects['defect type']))\n",
    "color_map = {dtype: plt.get_cmap('Paired')(i / (len(unique_types) - 1)) for i, dtype in enumerate(unique_types)}\n",
    "\n",
    "unique_severities = sorted(defects['severity'].unique())\n",
    "\n",
    "fig, axes = plt.subplots(2, 2, figsize=(18, 12))\n",
    "axes = axes.flatten()\n",
    "\n",
    "for i, severity_level in enumerate(unique_severities):\n",
    "    ax = axes[i]\n",
    "\n",
    "    # Filter defects by the current severity level\n",
    "    filtered_defects = defects[defects['severity'] == severity_level].index\n",
    "\n",
    "    # Filter df_log columns and calculate sums\n",
    "    frequencies = defect_presence.loc[:, filtered_defects].mean(axis=0).sort_values(ascending=False)\n",
    "\n",
    "    # filter out poor formatting\n",
    "    frequencies = frequencies.loc[defects['defect type'] != 'poor formatting']\n",
    "\n",
    "    defect_names = defects.loc[frequencies.index, 'defect name']\n",
    "    defect_types = defects.loc[frequencies.index, 'defect type']\n",
    "\n",
    "    # Plot on the current subplot\n",
    "    ax.bar(\n",
    "        defect_names,\n",
    "        frequencies,\n",
    "        color=[color_map[dtype] for dtype in defect_types]\n",
    "    )\n",
    "\n",
    "    ax.set_title(f'Severity: {severity_level}', fontsize=14)\n",
    "    ax.set_xlabel('Defect Name')\n",
    "    ax.set_ylabel('Relative Frequency')\n",
    "\n",
    "    ax.set_xticks(range(len(defect_names)))\n",
    "    ax.set_xticklabels(defect_names, rotation=45, ha='right')\n",
    "\n",
    "# Add a single legend for the entire figure\n",
    "handles = [plt.Rectangle((0, 0), 1, 1, color=color_map[dtype]) for dtype in unique_types]\n",
    "fig.legend(handles, unique_types, title='Defect Type', loc='upper right')\n",
    "\n",
    "plt.tight_layout(rect=[0, 0, 0.9, 1])\n",
    "plt.savefig(defect_distribution_images / 'defect_frequency_by_severity.png', dpi=RESOLUTION)\n",
    "plt.close()"
   ]
  },
  {
   "cell_type": "markdown",
   "metadata": {},
   "source": [
    "### defect frequencies by type"
   ]
  },
  {
   "cell_type": "code",
   "execution_count": null,
   "metadata": {},
   "outputs": [],
   "source": [
    "unique_types = sorted(list(set(defects['defect type'])))\n",
    "num_types = len(unique_types)\n",
    "\n",
    "cols = 2\n",
    "rows = math.ceil(num_types / cols)\n",
    "\n",
    "fig, axes = plt.subplots(rows, cols, figsize=(18, 6 * rows))\n",
    "axes = axes.flatten()\n",
    "\n",
    "color_map = {dtype: plt.get_cmap('Paired')(i / (num_types - 1)) for i, dtype in enumerate(unique_types)}\n",
    "\n",
    "for i, defect_type in enumerate(unique_types):\n",
    "    ax = axes[i]\n",
    "\n",
    "    # Filter defects by the current type\n",
    "    filtered_defects_ids = defects[defects['defect type'] == defect_type].index\n",
    "\n",
    "    # Filter defect presence data and calculate relative frequencies\n",
    "    if not filtered_defects_ids.empty:\n",
    "        frequencies = defect_presence.loc[:, filtered_defects_ids].mean(axis=0).sort_values(ascending=False)\n",
    "\n",
    "        defect_names = defects.loc[frequencies.index, 'defect name']\n",
    "\n",
    "        # Plot on the current subplot\n",
    "        ax.bar(\n",
    "            defect_names,\n",
    "            frequencies,\n",
    "            color=color_map[defect_type]\n",
    "        )\n",
    "\n",
    "        ax.set_title(f'Defect Type: {defect_type}', fontsize=14)\n",
    "        ax.set_xlabel('Defect Name')\n",
    "        ax.set_ylabel('Relative Frequency')\n",
    "\n",
    "        ax.set_xticks(range(len(defect_names)))\n",
    "        ax.set_xticklabels(defect_names, rotation=45, ha='right')\n",
    "\n",
    "# Hide any unused subplots\n",
    "for j in range(i + 1, len(axes)):\n",
    "    axes[j].set_visible(False)\n",
    "\n",
    "# Add a single legend for the entire figure\n",
    "handles = [plt.Rectangle((0, 0), 1, 1, color=color_map[dtype]) for dtype in unique_types]\n",
    "fig.legend(handles, unique_types, title='Defect Type', loc='upper right')\n",
    "\n",
    "plt.tight_layout(rect=[0, 0, 0.9, 1])\n",
    "plt.savefig(defect_distribution_images / 'defect_frequency_by_type.png', dpi=RESOLUTION)\n",
    "plt.close()"
   ]
  },
  {
   "cell_type": "markdown",
   "metadata": {},
   "source": [
    "### defect frequency by severity and type"
   ]
  },
  {
   "cell_type": "code",
   "execution_count": null,
   "metadata": {},
   "outputs": [],
   "source": [
    "df = pd.crosstab(defects['severity'], defects['defect type'])\n",
    "for i in range(1, 6):\n",
    "    if i not in df.index:\n",
    "        df.loc[i] = np.zeros(len(df.columns), dtype=int)\n",
    "df.sort_index(inplace=True)\n",
    "\n",
    "fig, ax = plt.subplots(figsize=(10, 8), layout=\"constrained\")\n",
    "\n",
    "sns.heatmap(df, annot=True, cmap=\"Blues\", fmt=\"d\", ax=ax)\n",
    "for i, column in enumerate(df.columns):\n",
    "    ax.scatter(i + 0.5, (df[column] * df.index).sum() / df[column].sum() - 0.5, marker='X', color='red', s=100)\n",
    "ax.invert_yaxis()\n",
    "colorbar = ax.collections[0].colorbar\n",
    "colorbar.set_label('Number of Unique Defects', rotation=90, labelpad=15)\n",
    "plt.title('Distribution of Defects by Severity and Type')\n",
    "\n",
    "fig.savefig(defect_distribution_images / 'defect_severity_type_heatmap.png', dpi=RESOLUTION)\n",
    "plt.close()"
   ]
  },
  {
   "cell_type": "code",
   "execution_count": null,
   "metadata": {},
   "outputs": [],
   "source": [
    "defect_counts = defect_presence.loc[:, defects[defects['defect type'] != 'poor formatting'].index].sum()\n",
    "\n",
    "counts_df = pd.DataFrame(defect_counts, columns=['count'])\n",
    "counts_df = counts_df.join(defects[['severity', 'defect type']])\n",
    "\n",
    "heatmap_data = pd.pivot_table(\n",
    "    counts_df,\n",
    "    values='count',\n",
    "    index='severity',\n",
    "    columns='defect type',\n",
    "    aggfunc=\"sum\",\n",
    "    fill_value=0\n",
    ").sort_index()\n",
    "\n",
    "fig, ax = plt.subplots(figsize=(10, 8), layout=\"constrained\")\n",
    "sns.heatmap(heatmap_data, annot=True, cmap=\"Blues\", fmt=\"d\", ax=ax)\n",
    "\n",
    "for i, col in enumerate(heatmap_data.columns):\n",
    "    ax.scatter(i + 0.5, (heatmap_data[col] * heatmap_data.index).sum() / heatmap_data[col].sum() - 0.5, marker='X', color='red', s=100)\n",
    "    \n",
    "ax.invert_yaxis()\n",
    "colorbar = ax.collections[0].colorbar\n",
    "colorbar.set_label('Total Defect Count', rotation=90, labelpad=15)\n",
    "plt.title('Distribution of Defects by Severity and Type (Total Counts)')\n",
    "plt.savefig(defect_distribution_images / 'defect_severity_type_heatmap_total_counts.png', dpi=RESOLUTION)\n",
    "plt.close()"
   ]
  },
  {
   "cell_type": "markdown",
   "metadata": {},
   "source": [
    "## defect count"
   ]
  },
  {
   "cell_type": "markdown",
   "metadata": {},
   "source": [
    "### number of unique defects in each submission"
   ]
  },
  {
   "cell_type": "code",
   "execution_count": null,
   "metadata": {},
   "outputs": [],
   "source": [
    "counts = defect_log.sum(axis=1).value_counts()\n",
    "\n",
    "num_of_submissions = [str(i) for i in range(5)] + ['>=5']\n",
    "defect_counts= list(counts[:5]) + [counts[5:].sum()]\n",
    "defect_percentage = list(map(lambda x: x / len(defect_log) * 100, defect_counts))\n",
    "\n",
    "fig, ax = plt.subplots(layout=\"constrained\", figsize=(10, 6))\n",
    "\n",
    "p = ax.bar(num_of_submissions, defect_percentage)\n",
    "\n",
    "ax.bar_label(p, labels = defect_counts, label_type='edge')\n",
    "\n",
    "ax.set_ylabel('% of submissions')\n",
    "ax.set_xlabel('Number of defects')\n",
    "ax.set_title('Submissions by the number of unique defects ({} submissions in total)'.format(len(defect_log)))\n",
    "\n",
    "plt.savefig(defect_distribution_images / 'unique_defect_counts.png', dpi=RESOLUTION)\n",
    "plt.close()"
   ]
  },
  {
   "cell_type": "markdown",
   "metadata": {},
   "source": [
    "### count when present"
   ]
  },
  {
   "cell_type": "code",
   "execution_count": null,
   "metadata": {},
   "outputs": [],
   "source": [
    "df_long = pd.melt(defect_log, var_name='defect_id', value_name='count')\n",
    "df_long = df_long[df_long['count'] > 0]\n",
    "\n",
    "df_long = pd.merge(df_long, defects.set_index('id')[['defect name', 'defect type']], left_on='defect_id', right_index=True)\n",
    "\n",
    "mean_order = df_long.groupby('defect name')['count'].mean().sort_values(ascending=False).index\n",
    "\n",
    "# 4. Create the box plot for each defect, ordered by the mean count\n",
    "plt.figure(figsize=(10, 20))\n",
    "sns.boxplot(\n",
    "    data=df_long,\n",
    "    y='defect name',\n",
    "    x='count',\n",
    "    orient='h',\n",
    "    order=mean_order,\n",
    "    showfliers=False,\n",
    "    notch=True,\n",
    "    palette=color_map,\n",
    "    hue='defect type',\n",
    ")\n",
    "\n",
    "plt.xlabel('Number of Defects')\n",
    "plt.ylabel('Defect Name')\n",
    "plt.title('Distribution of Defect Count When Present per Defect (Outliers Removed)')\n",
    "plt.tight_layout()\n",
    "plt.legend(title='Defect Type', loc='center right')\n",
    "plt.savefig(defect_distribution_images / 'defect_counts_when_present.png', dpi=RESOLUTION)\n",
    "plt.close()"
   ]
  },
  {
   "cell_type": "markdown",
   "metadata": {},
   "source": [
    "## defect co-occurance"
   ]
  },
  {
   "cell_type": "markdown",
   "metadata": {},
   "source": [
    "### correlation"
   ]
  },
  {
   "cell_type": "code",
   "execution_count": null,
   "metadata": {},
   "outputs": [],
   "source": [
    "plt.figure(figsize=(20, 20), layout=\"constrained\")\n",
    "correlations = defect_log.corr().values\n",
    "np.fill_diagonal(correlations, 0)\n",
    "defect_names = defects['defect name'].loc[defect_log.columns]\n",
    "sns.heatmap(correlations, xticklabels=defect_names.apply(lambda x: x[:20]), yticklabels=defect_names, vmin=-1, vmax=1, cmap=\"vlag\")\n",
    "\n",
    "plt.xticks(rotation = 90, ha='right')\n",
    "plt.yticks(rotation = 0, ha='right')\n",
    "\n",
    "plt.title('Correlation between the presence of defects (pearson)'.format(len(defect_log)))\n",
    "plt.savefig(defect_distribution_images / 'defect_correlation.png', dpi=300)\n",
    "plt.show()"
   ]
  },
  {
   "cell_type": "markdown",
   "metadata": {},
   "source": [
    "### co-occurance"
   ]
  },
  {
   "cell_type": "code",
   "execution_count": null,
   "metadata": {},
   "outputs": [],
   "source": [
    "co_occurances = (defect_log.T.dot(defect_log)).values\n",
    "np.fill_diagonal(co_occurances, 0)\n",
    "defect_names = [defects['defect name'].loc[idx] for idx in defect_log.columns]\n",
    "\n",
    "thresholded = co_occurances.copy()\n",
    "thresholded[thresholded < 100] = 0\n",
    "thresholded[thresholded >= 1000] = 3\n",
    "thresholded[thresholded >= 250] = 2\n",
    "thresholded[thresholded >= 100] = 1\n",
    "\n",
    "cmap = ListedColormap(sns.color_palette(\"Blues\", 4))\n",
    "\n",
    "fig, ax = plt.subplots(figsize=(20, 20), layout=\"constrained\")\n",
    "\n",
    "p = ax.imshow(thresholded, cmap=cmap, vmin=0, vmax=3)\n",
    "\n",
    "ax.set_yticks(np.arange(len(defect_names)))\n",
    "ax.set_yticklabels(defect_names)\n",
    "\n",
    "ax.set_title('Co-occurrence of defects thresholded at different levels')\n",
    "\n",
    "cbar = fig.colorbar(p, ax=ax, ticks=[0, 1, 2, 3], shrink=0.8)\n",
    "cbar.set_label('Thresholded Co-occurrence Levels')\n",
    "\n",
    "cbar.set_ticks([0, 1, 2, 3])\n",
    "cbar.set_ticklabels(['< 100', '100 - 250', '250 - 1000', '>= 1000'])\n",
    "\n",
    "plt.show()\n"
   ]
  },
  {
   "cell_type": "markdown",
   "metadata": {},
   "source": [
    "# grouping by task"
   ]
  },
  {
   "cell_type": "markdown",
   "metadata": {},
   "source": [
    "## task frequency"
   ]
  },
  {
   "cell_type": "code",
   "execution_count": null,
   "metadata": {},
   "outputs": [],
   "source": [
    "merged_df = pd.merge(\n",
    "    log['item'].value_counts().rename('submission_count'),\n",
    "    items,\n",
    "    left_index=True,\n",
    "    right_on='id'\n",
    ").sort_values(by='submission_count', ascending=True)\n",
    "\n",
    "ordered_topics = merged_df[['topic', 'topic order']].drop_duplicates().sort_values(by='topic order')\n",
    "topic_list = ordered_topics['topic'].tolist()\n",
    "\n",
    "color_map = {topic: mpl.colormaps['tab20'](i / (len(topic_list) - 1)) for i, topic in enumerate(topic_list)}\n",
    "\n",
    "bar_colors = [color_map[topic] for topic in merged_df['topic']]\n",
    "\n",
    "fig, ax = plt.subplots(layout=\"constrained\", figsize=(10, 20))\n",
    "ax.barh(merged_df['name'], merged_df['submission_count'], color=bar_colors)\n",
    "\n",
    "# 6. Add a legend inside the graph at the right bottom, sorted by topic order\n",
    "handles = [plt.Rectangle((0, 0), 1, 1, color=color_map[topic]) for topic in topic_list]\n",
    "ax.legend(handles, topic_list, title='Topic', loc='lower right')\n",
    "\n",
    "ax.set_xlabel('Number of Submissions')\n",
    "ax.set_ylabel('Task')\n",
    "ax.set_title('Distribution of Submissions Over Items by Topic')\n",
    "\n",
    "plt.savefig(task_distribution_images / 'task_frequency.png', dpi=RESOLUTION)\n",
    "plt.close()"
   ]
  },
  {
   "cell_type": "markdown",
   "metadata": {},
   "source": [
    "## topic frequency"
   ]
  },
  {
   "cell_type": "code",
   "execution_count": null,
   "metadata": {},
   "outputs": [],
   "source": [
    "counts = log['item'].value_counts().reset_index()\n",
    "counts.columns = ['item_id', 'submission_count']\n",
    "\n",
    "merged_df = pd.merge(counts, items, left_on='item_id', right_on='id')\n",
    "\n",
    "topic_submissions = merged_df.groupby('topic').agg({\n",
    "    'submission_count': 'sum',\n",
    "    'topic order': 'first'\n",
    "}).sort_values(by='topic order')\n",
    "\n",
    "fig, ax = plt.subplots(figsize=(15, 8))\n",
    "\n",
    "ax.bar(topic_submissions.index, topic_submissions['submission_count'])\n",
    "\n",
    "ax.set_xlabel('Topic')\n",
    "ax.set_ylabel('Total Number of Submissions')\n",
    "ax.set_title('Total Submissions by Topic')\n",
    "plt.xticks(rotation=45, ha='right')\n",
    "plt.tight_layout()\n",
    "plt.savefig(task_distribution_images / 'topic_frequency.png', dpi=RESOLUTION)\n",
    "plt.close()"
   ]
  },
  {
   "cell_type": "code",
   "execution_count": null,
   "metadata": {},
   "outputs": [],
   "source": [
    "item_counts = log['item'].value_counts().reset_index()\n",
    "item_counts.columns = ['id', 'submission_count']\n",
    "\n",
    "# 2. Merge counts with item metadata\n",
    "merged_df = pd.merge(item_counts, items, on='id')\n",
    "\n",
    "# 3. Create a pivot table for the stacked bar chart\n",
    "# The rows are the topics, columns are the item names, and values are the submission counts.\n",
    "pivot_df = merged_df.pivot_table(\n",
    "    values='submission_count',\n",
    "    index=['topic', 'topic order'],\n",
    "    columns='name', # Use 'names' for column headers\n",
    "    fill_value=0\n",
    ")\n",
    "\n",
    "# 4. Sort the pivot table by 'topic order' to ensure correct x-axis order\n",
    "pivot_df = pivot_df.reset_index().sort_values(by='topic order').drop(columns='topic order').set_index('topic')\n",
    "\n",
    "# 5. Create the stacked bar chart\n",
    "fig, ax = plt.subplots(figsize=(15, 8))\n",
    "pivot_df.plot(kind='bar', stacked=True, ax=ax)\n",
    "\n",
    "# 6. Add labels and a title\n",
    "ax.set_xlabel('Topic')\n",
    "ax.set_ylabel('Number of Submissions')\n",
    "ax.set_title('Distribution of Submissions by Topic and Task')\n",
    "ax.get_legend().remove()\n",
    "\n",
    "plt.xticks(rotation=45, ha='right')\n",
    "plt.tight_layout()\n",
    "plt.savefig(task_distribution_images / 'topic_frequency_stacked.png', dpi=RESOLUTION)\n",
    "plt.close()"
   ]
  },
  {
   "cell_type": "markdown",
   "metadata": {},
   "source": [
    "## task-defect z-score anomalies"
   ]
  },
  {
   "cell_type": "markdown",
   "metadata": {},
   "source": [
    "### all"
   ]
  },
  {
   "cell_type": "code",
   "execution_count": null,
   "metadata": {},
   "outputs": [],
   "source": [
    "common_defects = (defect_presence.groupby(log[\"item\"]).mean() - defect_presence.mean(axis=0)) / defect_presence.std(axis=0)\n",
    "\n",
    "defect_names = [defects['defect name'].loc[idx] for idx in defect_presence.columns]\n",
    "task_names = [items['name'].loc[idx] for idx in common_defects.index]\n",
    "\n",
    "plt.figure(figsize=(25, 10), layout=\"constrained\")\n",
    "\n",
    "biggest_value = common_defects.abs().values.max()\n",
    "\n",
    "sns.heatmap(common_defects.T, xticklabels=task_names, yticklabels=defect_names, cmap=\"vlag\", cbar=True, vmin=-biggest_value, vmax=biggest_value)\n",
    "\n",
    "plt.title(\"Task-Level Defect Anomalies (Z-scores) for All Tasks\")\n",
    "plt.xlabel(\"Task\")\n",
    "plt.ylabel(\"Defect Name\")\n",
    "plt.xticks(rotation=90, ha='center')\n",
    "\n",
    "plt.savefig(task_distribution_images / 'task_anomalies_all.png', dpi=RESOLUTION)\n",
    "plt.close()"
   ]
  },
  {
   "cell_type": "markdown",
   "metadata": {},
   "source": [
    "### min support"
   ]
  },
  {
   "cell_type": "code",
   "execution_count": null,
   "metadata": {},
   "outputs": [],
   "source": [
    "min_threshold = 10\n",
    "\n",
    "common_defects = (defect_presence.groupby(log[\"item\"]).mean() - defect_presence.mean(axis=0)) / defect_presence.std(axis=0)\n",
    "\n",
    "# Filter out task-defect pairs with less than 10 submissions\n",
    "count_mask = defect_presence.groupby(log[\"item\"]).sum() >= 10\n",
    "common_defects = common_defects.mask(~count_mask)\n",
    "\n",
    "defect_names = [defects['defect name'].loc[idx] for idx in defect_presence.columns]\n",
    "task_names = [items['name'].loc[idx] for idx in common_defects.index]\n",
    "\n",
    "plt.figure(figsize=(25, 10), layout=\"constrained\")\n",
    "\n",
    "biggest_value = common_defects.abs().values.max()\n",
    "\n",
    "sns.heatmap(common_defects.T, xticklabels=task_names, yticklabels=defect_names, cmap=\"vlag\", cbar=True, vmin=-biggest_value, vmax=biggest_value)\n",
    "\n",
    "plt.title(\"Task-Defect Z-scores for All Pairs With At Least {} Submissions\".format(min_threshold))\n",
    "plt.xlabel(\"Task\")\n",
    "plt.ylabel(\"Defect Name\")\n",
    "plt.xticks(rotation=90, ha='center')\n",
    "\n",
    "plt.savefig(task_distribution_images / 'task_anomalies_min_threshold.png', dpi=RESOLUTION)\n",
    "plt.close()"
   ]
  },
  {
   "cell_type": "markdown",
   "metadata": {},
   "source": [
    "### high variance"
   ]
  },
  {
   "cell_type": "code",
   "execution_count": null,
   "metadata": {},
   "outputs": [],
   "source": [
    "common_defects = (defect_presence.groupby(log[\"item\"]).mean() - defect_presence.mean(axis=0)) / defect_presence.std(axis=0)\n",
    "highest_variance_tasks = common_defects.var(axis=1).sort_values(ascending=False)[:30].index\n",
    "defect_names = [defects['defect name'].loc[idx] for idx in defect_presence.columns]\n",
    "task_names = [items['name'].loc[idx] for idx in highest_variance_tasks]\n",
    "\n",
    "plt.figure(figsize=(10, 10), layout=\"constrained\")\n",
    "biggest_value = common_defects.abs().values.max()\n",
    "sns.heatmap(common_defects.loc[highest_variance_tasks].T, xticklabels=task_names, yticklabels=defect_names, cmap=\"vlag\", cbar=True, vmin=-biggest_value, vmax=biggest_value)\n",
    "plt.title(\"Task-Level Defect Anomalies (Z-scores, Tasks With Highest Variance)\")\n",
    "plt.xlabel(\"\")\n",
    "plt.ylabel(\"\")\n",
    "\n",
    "plt.savefig(task_distribution_images / 'task_anomalies_highest_variance.png', dpi=RESOLUTION)\n",
    "plt.close()"
   ]
  },
  {
   "cell_type": "markdown",
   "metadata": {},
   "source": [
    "### defects in task templates"
   ]
  },
  {
   "cell_type": "markdown",
   "metadata": {},
   "source": [
    "some anomalies can be explained by task templates and democode"
   ]
  },
  {
   "cell_type": "code",
   "execution_count": null,
   "metadata": {},
   "outputs": [],
   "source": [
    "import pandas as pd\n",
    "import subprocess\n",
    "import shutil\n",
    "import re\n",
    "from pathlib import Path\n",
    "from tempfile import mkdtemp\n",
    "from typing import List, Tuple, Dict, Any\n",
    "\n",
    "# The expected format for a linter message\n",
    "LINTER_MESSAGE_PATTERN = re.compile(\n",
    "    r\"^(.*?):(?:\\d+:\\d+:)?\\s*([A-Z]\\d{3,4}):?\\s*(.*)$\"\n",
    ")\n",
    "\n",
    "def _parse_linter_output(\n",
    "    output: str, temp_file_map: Dict[str, Any]\n",
    ") -> List[Tuple[Any, Tuple[str, str]]]:\n",
    "    \"\"\"Parse linter output to extract messages and their associated code.\n",
    "\n",
    "    Arguments:\n",
    "        output -- The stdout string from the linter subprocess.\n",
    "        temp_file_map -- A dictionary mapping temporary file paths to original IDs.\n",
    "\n",
    "    Returns:\n",
    "        A list of tuples: (original_id, (defect_code, message_body))\n",
    "    \"\"\"\n",
    "    parsed_messages = []\n",
    "    \n",
    "    for message in output.split(\"\\n\"):\n",
    "        if not message:\n",
    "            continue\n",
    "            \n",
    "        if message.startswith(\"*********\"):\n",
    "            continue\n",
    "\n",
    "        match = LINTER_MESSAGE_PATTERN.match(message.strip())\n",
    "        if not match:\n",
    "            continue\n",
    "\n",
    "        file_path_str, code, msg_body = match.groups()\n",
    "        \n",
    "        # Use a more reliable way to get the original ID\n",
    "        original_id = temp_file_map.get(file_path_str)\n",
    "        \n",
    "        if original_id and code != \"W292\":  # Ignore newline errors\n",
    "            parsed_messages.append(\n",
    "                (original_id, (code, msg_body))\n",
    "            )\n",
    "\n",
    "    return parsed_messages\n",
    "\n",
    "def generate_linter_messages(code_series: pd.Series) -> Dict[Any, List[Tuple[str, str]]]:\n",
    "    \"\"\"Generate linter messages for a batch of code strings from a pandas Series.\n",
    "\n",
    "    Arguments:\n",
    "        code_series -- A pandas Series with code strings and an index of IDs.\n",
    "\n",
    "    Returns:\n",
    "        A dictionary mapping the Series IDs to a list of error codes and messages.\n",
    "    \"\"\"\n",
    "    temp_dir = Path(mkdtemp())\n",
    "    temp_file_map = {}\n",
    "    \n",
    "    try:\n",
    "        file_paths = []\n",
    "        for original_id, code_string in code_series.items():\n",
    "            temp_file = temp_dir / f\"temp_{original_id}.py\"\n",
    "            with open(temp_file, \"w\") as f:\n",
    "                f.write(code_string)\n",
    "            file_paths.append(temp_file)\n",
    "            temp_file_map[str(temp_file)] = original_id\n",
    "\n",
    "        command = [\"py\", \"-m\", \"edulint\", \"check\"] + [str(p) for p in file_paths]\n",
    "        result = subprocess.run(command, text=True, capture_output=True)\n",
    "\n",
    "        if result.returncode != 1:\n",
    "            if result.stderr:\n",
    "                return {\n",
    "                    original_id: [(\"SYNTAX_ERROR\", result.stderr.strip())]\n",
    "                    for original_id in code_series.index\n",
    "                }\n",
    "            raise RuntimeError(f\"Subprocess returned non-zero exit status: {result.returncode}\")\n",
    "\n",
    "        parsed_results = {original_id: [] for original_id in code_series.index}\n",
    "        all_messages = _parse_linter_output(result.stdout, temp_file_map)\n",
    "        \n",
    "        for original_id, message_tuple in all_messages:\n",
    "            parsed_results[original_id].append(message_tuple)\n",
    "\n",
    "        return parsed_results\n",
    "\n",
    "    except Exception as e:\n",
    "        raise RuntimeError(f\"Unexpected error during linting: {e}\")\n",
    "    finally:\n",
    "        shutil.rmtree(temp_dir)"
   ]
  },
  {
   "cell_type": "code",
   "execution_count": null,
   "metadata": {},
   "outputs": [],
   "source": [
    "pd.set_option('future.no_silent_downcasting', True)"
   ]
  },
  {
   "cell_type": "code",
   "execution_count": null,
   "metadata": {},
   "outputs": [],
   "source": [
    "democode_messages = generate_linter_messages(items[\"democode\"])\n",
    "democode_messages = [\n",
    "    {'item': idx, 'defect': code}\n",
    "    for idx, code_message_list in democode_messages.items()\n",
    "    for code, _ in code_message_list\n",
    "]\n",
    "democode_messages = pd.DataFrame(democode_messages)\n",
    "democode_messages = democode_messages[democode_messages[\"defect\"].isin(code_to_defect_id.keys())]\n",
    "democode_messages[\"defect\"] = democode_messages[\"defect\"].replace(code_to_defect_id).astype(int)"
   ]
  },
  {
   "cell_type": "code",
   "execution_count": null,
   "metadata": {},
   "outputs": [],
   "source": [
    "solution_messages = generate_linter_messages(items[\"solution\"])\n",
    "solution_messages = [\n",
    "    {'item': idx, 'defect': code}\n",
    "    for idx, code_message_list in solution_messages.items()\n",
    "    for code, _ in code_message_list\n",
    "]\n",
    "solution_messages = pd.DataFrame(solution_messages)\n",
    "solution_messages = solution_messages[solution_messages[\"defect\"].isin(code_to_defect_id.keys())]\n",
    "solution_messages[\"defect\"] = solution_messages[\"defect\"].replace(code_to_defect_id).astype(int)"
   ]
  },
  {
   "cell_type": "code",
   "execution_count": null,
   "metadata": {},
   "outputs": [],
   "source": [
    "common_defects = (defect_presence.groupby(log[\"item\"]).mean() - defect_presence.mean(axis=0)) / defect_presence.std(axis=0)\n",
    "\n",
    "plt.figure(figsize=(20, 10), layout=\"constrained\")\n",
    "\n",
    "legend_markers = [plt.scatter([0], [0], color='red', s=100, marker='o'), plt.scatter([0], [0], color='yellow', s=50, marker='x')]\n",
    "\n",
    "biggest_value = common_defects.abs().values.max()\n",
    "\n",
    "ax = sns.heatmap(\n",
    "    common_defects.T,\n",
    "    xticklabels=task_names,\n",
    "    yticklabels=defect_names,\n",
    "    cmap=\"Blues\",\n",
    "    cbar=True,\n",
    "    vmin=-biggest_value,\n",
    "    vmax=biggest_value\n",
    ")\n",
    "\n",
    "for _, row in solution_messages[solution_messages[\"item\"].isin(highest_variance_tasks)].iterrows():\n",
    "    x_pos = task_names.index(items['name'].loc[row['item']])\n",
    "    y_pos = defect_names.index(defects['defect name'].loc[row['defect']])\n",
    "    ax.scatter(x_pos + 0.5, y_pos + 0.5, color=\"red\", s=100, marker='o')\n",
    "\n",
    "for _, row in democode_messages[democode_messages[\"item\"].isin(highest_variance_tasks)].iterrows():\n",
    "    x_pos = task_names.index(items['name'].loc[row['item']])\n",
    "    y_pos = defect_names.index(defects['defect name'].loc[row['defect']])\n",
    "    ax.scatter(x_pos + 0.5, y_pos + 0.5, color=\"yellow\", s=100, marker='x')\n",
    "\n",
    "plt.title(\"Task-Level Defect Anomalies (Z-scores, Tasks With Highest Variance)\")\n",
    "plt.xlabel(\"\")\n",
    "plt.ylabel(\"\")\n",
    "plt.legend(legend_markers, ['example solution', 'demo code'], title='Defect present in:', loc='lower left')\n",
    "\n",
    "plt.savefig(task_distribution_images / 'defects_in_task_templates.png', dpi=300)\n",
    "plt.close()"
   ]
  }
 ],
 "metadata": {
  "kernelspec": {
   "display_name": ".venv (3.10.7)",
   "language": "python",
   "name": "python3"
  },
  "language_info": {
   "codemirror_mode": {
    "name": "ipython",
    "version": 3
   },
   "file_extension": ".py",
   "mimetype": "text/x-python",
   "name": "python",
   "nbconvert_exporter": "python",
   "pygments_lexer": "ipython3",
   "version": "3.10.7"
  }
 },
 "nbformat": 4,
 "nbformat_minor": 2
}
