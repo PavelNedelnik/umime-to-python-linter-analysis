{
 "cells": [
  {
   "cell_type": "markdown",
   "metadata": {},
   "source": [
    "# loading data"
   ]
  },
  {
   "cell_type": "code",
   "execution_count": null,
   "metadata": {},
   "outputs": [],
   "source": [
    "from pathlib import Path\n",
    "\n",
    "import matplotlib.pyplot as plt\n",
    "import seaborn as sns\n",
    "import plotly.express as px\n",
    "import pandas as pd\n",
    "import numpy as np\n",
    "from ipywidgets import Output\n",
    "from IPython.display import display, HTML\n",
    "\n",
    "\n",
    "from src.code_processing import parse_code_string, generate_linter_messages\n",
    "\n",
    "# Enable interactive backend\n",
    "%matplotlib widget\n",
    "\n",
    "figsize = (10, 7)\n",
    "resolution = 300 # dpi\n",
    "data_path = Path('data')\n",
    "ipython_path = data_path / 'ipython_new'"
   ]
  },
  {
   "cell_type": "code",
   "execution_count": null,
   "metadata": {},
   "outputs": [],
   "source": [
    "## load ipython items\n",
    "items = pd.read_csv(ipython_path / 'item.csv', sep=\";\", index_col=0)\n",
    "\n",
    "# drop unused columns\n",
    "items = items[['name', 'instructions', 'solution', 'democode']]\n",
    "# extract user instructions\n",
    "items[\"instructions\"] = items[\"instructions\"].apply(lambda x: eval(x)[0][1])\n",
    "# extract and decode example solutions\n",
    "items[\"solution\"] = items[\"solution\"].apply(lambda x: eval(x)[0][1]).apply(parse_code_string)\n",
    "items[\"democode\"] = items[\"democode\"].apply(lambda x: eval(x)[0][1]).apply(parse_code_string)"
   ]
  },
  {
   "cell_type": "code",
   "execution_count": null,
   "metadata": {},
   "outputs": [],
   "source": [
    "## load the ipython log\n",
    "log = pd.read_csv(ipython_path / 'log.csv', sep=\";\")\n",
    "\n",
    "# drop unused columns\n",
    "log = log[[\"id\", \"user\", \"item\", \"answer\", \"correct\", \"responseTime\", \"time\"]]\n",
    "# correct data types\n",
    "log[\"time\"] = pd.to_datetime(log[\"time\"])\n",
    "log[\"correct\"] = log[\"correct\"].astype(bool)\n",
    "# drop problematic rows\n",
    "log.dropna(inplace=True)\n",
    "log.drop_duplicates(inplace=True)\n",
    "# decode submissions\n",
    "log[\"answer\"] = log[\"answer\"].apply(parse_code_string)"
   ]
  },
  {
   "cell_type": "code",
   "execution_count": null,
   "metadata": {},
   "outputs": [],
   "source": [
    "only_correct = True\n",
    "if only_correct:\n",
    "    # only correct answers\n",
    "    log = log[log[\"correct\"]]\n",
    "    # only one answer per session, first because EduLint might already be integrated\n",
    "    log = log.reset_index().groupby([\"user\", \"item\"], as_index=False).first().set_index(\"index\")"
   ]
  },
  {
   "cell_type": "code",
   "execution_count": null,
   "metadata": {},
   "outputs": [],
   "source": [
    "# keep only items with at least 100 submission\n",
    "items = items.loc[items.index.isin((log[\"item\"].value_counts() > 100).index)]\n",
    "\n",
    "# filter them out of the log also\n",
    "log = log[log[\"item\"].isin(items.index)]"
   ]
  },
  {
   "cell_type": "code",
   "execution_count": null,
   "metadata": {},
   "outputs": [],
   "source": [
    "## load the defect table\n",
    "defects = pd.read_csv(data_path / 'defects.csv')\n",
    "\n",
    "# drop unused columns\n",
    "defects = defects[[\"defect name\", \"EduLint code\", \"defect type\", \"description\", \"code example\", \"code fix example\", \"severity\", \"id\"]]\n",
    "# drop defects not detected by EduLint\n",
    "defects.dropna(subset=[\"EduLint code\"], inplace=True)\n",
    "# convert EduLint codes from string to tuple\n",
    "defects[\"EduLint code\"] = defects[\"EduLint code\"].apply(lambda x: tuple(map(str.strip, x.split(\",\"))))\n",
    "# drop the \"missing docstring\" defect (not really appropriate in the context)\n",
    "# drop the \"mixed indentation\" defect (it is exceptionally noisy - errors during logging, students copy-pasting, ...)\n",
    "defects.drop([66, 4], axis=0, inplace=True)\n",
    "# create a dictionary mapping EduLint codes to the index of the associated defect\n",
    "code_to_defect_id = {val: idx for idx, val in defects['EduLint code'].explode().items()}"
   ]
  },
  {
   "cell_type": "code",
   "execution_count": null,
   "metadata": {},
   "outputs": [],
   "source": [
    "## load the EduLint messages corresponding to the entries in the ipython log\n",
    "# open the message log\n",
    "messages = pd.read_csv(ipython_path / 'message_log.csv', index_col=0, header=0)\n",
    "\n",
    "# remove some of the messages associated with the \"trailing whitespace\" defect (they are likely logging errors)\n",
    "messages = messages[~messages['message'].isin(['no newline at end of file', 'trailing whitespace'])]\n",
    "\n",
    "# keep only the messages still in the ipython log\n",
    "messages = messages[messages[\"log entry\"].isin(log.index)]\n",
    "\n",
    "# keep only messages with an associated defect\n",
    "messages = messages[messages[\"defect\"].isin(code_to_defect_id.keys())]\n",
    "\n",
    "# use defect ids instead of message codes\n",
    "messages[\"defect\"] = messages[\"defect\"].replace(code_to_defect_id).astype(int)\n",
    "\n",
    "messages.reset_index(drop=True, inplace=True)"
   ]
  },
  {
   "cell_type": "code",
   "execution_count": null,
   "metadata": {},
   "outputs": [],
   "source": [
    "# vectorize defects\n",
    "defect_log = pd.crosstab(messages[\"log entry\"], messages[\"defect\"]).reindex(log.index, fill_value=0)\n",
    "\n",
    "# replace defect counts with presence\n",
    "defect_log = (defect_log > 0).astype(int)\n",
    "\n",
    "# keep only detected defects\n",
    "defects = defects.loc[defects.index.isin(defect_log.columns)]"
   ]
  },
  {
   "cell_type": "markdown",
   "metadata": {},
   "source": [
    "# exploratory analysis"
   ]
  },
  {
   "cell_type": "markdown",
   "metadata": {},
   "source": [
    "## number of session with multiple correct submissions over time"
   ]
  },
  {
   "cell_type": "markdown",
   "metadata": {},
   "source": [
    "Does not seem to be any visible spike with the adaptation of EduLint - Explained: students can't resubmit based on feedback"
   ]
  },
  {
   "cell_type": "markdown",
   "metadata": {},
   "source": [
    "Surprisingly large number of sessions with multiple correct submissions"
   ]
  },
  {
   "cell_type": "markdown",
   "metadata": {},
   "source": [
    "Big dip in correct submissions January 2020"
   ]
  },
  {
   "cell_type": "code",
   "execution_count": null,
   "metadata": {},
   "outputs": [],
   "source": [
    "if not only_correct:\n",
    "    sessions = log.groupby(['user', 'item'])['correct'].sum()\n",
    "    sessions = sessions[sessions > 1]\n",
    "    sessions.index.get_level_values('user').nunique() / log['user'].nunique()"
   ]
  },
  {
   "cell_type": "code",
   "execution_count": null,
   "metadata": {},
   "outputs": [],
   "source": [
    "if not only_correct:\n",
    "    (log.groupby(['user', 'item'])['correct'].sum() > 3).mean()"
   ]
  },
  {
   "cell_type": "code",
   "execution_count": null,
   "metadata": {},
   "outputs": [],
   "source": [
    "if not only_correct:\n",
    "    user_history = log[(log['item'] == 1) & (log['user'] == 12)]\n",
    "    start = user_history['time'].iloc[0]\n",
    "    for i, row in user_history.iterrows():\n",
    "        print(row['answer'])\n",
    "        print(f'Time since last submission: {row[\"time\"] - start}')\n",
    "        start = row['time']\n",
    "        print('-' * 50)"
   ]
  },
  {
   "cell_type": "code",
   "execution_count": null,
   "metadata": {},
   "outputs": [],
   "source": [
    "if not only_correct:\n",
    "    monthly_averages = log.copy()\n",
    "    monthly_averages[\"time\"] = monthly_averages[\"time\"].dt.to_period('M')\n",
    "    monthly_averages = monthly_averages.groupby(['time', 'user', 'item'])['correct'].sum()\n",
    "    not_averages = (monthly_averages > 1).groupby('time').mean()\n",
    "    monthly_averages = monthly_averages.groupby('time').mean()"
   ]
  },
  {
   "cell_type": "code",
   "execution_count": null,
   "metadata": {},
   "outputs": [],
   "source": [
    "if not only_correct:\n",
    "    plt.figure(layout='constrained', figsize=figsize)\n",
    "    plt.plot(not_averages.index.astype(str), not_averages * 100, marker='o', color='b')\n",
    "    plt.xticks(ticks = not_averages.index.astype(str), labels=[time.strftime('%b %Y') for time in not_averages.index], rotation=90)\n",
    "    plt.grid(True)\n",
    "    plt.title(\"% of Sessions with Multiple Correct Submissions per Month\")\n",
    "    plt.savefig('correct_submissions_over_time_percent.png', dpi=300)\n",
    "    plt.show()"
   ]
  },
  {
   "cell_type": "code",
   "execution_count": null,
   "metadata": {},
   "outputs": [],
   "source": [
    "if not only_correct:\n",
    "    plt.figure(layout='constrained', figsize=figsize)\n",
    "    plt.plot(monthly_averages.index.astype(str), monthly_averages, marker='o', color='b')\n",
    "    plt.xticks(ticks = monthly_averages.index.astype(str), labels=[time.strftime('%b %Y') for time in monthly_averages.index], rotation=90)\n",
    "    plt.grid(True)\n",
    "    plt.title(\"Average Number of Correct Submissions per Session per Month\")\n",
    "    plt.savefig('correct_submissions_over_time_average.png', dpi=300)\n",
    "    plt.show()"
   ]
  },
  {
   "cell_type": "markdown",
   "metadata": {},
   "source": [
    "## detected defects"
   ]
  },
  {
   "cell_type": "code",
   "execution_count": null,
   "metadata": {},
   "outputs": [],
   "source": [
    "if not only_correct:\n",
    "    raise RuntimeError(\"Expeects only correct answers.\")"
   ]
  },
  {
   "cell_type": "code",
   "execution_count": null,
   "metadata": {},
   "outputs": [],
   "source": [
    "counts = defect_log.sum(axis=0).sort_values(ascending=False)\n",
    "percentages = counts / len(defect_log) * 100"
   ]
  },
  {
   "cell_type": "code",
   "execution_count": null,
   "metadata": {},
   "outputs": [],
   "source": [
    "fig, ax = plt.subplots(layout=\"constrained\", figsize=figsize)\n",
    "\n",
    "p = ax.bar([defects['defect name'].loc[idx] for idx in counts.index], percentages)\n",
    "\n",
    "ax.bar_label(p, labels = counts, label_type='edge', rotation=45)\n",
    "\n",
    "ax.set_ylabel('% of submissions')\n",
    "plt.xticks(rotation = 45, ha='right')\n",
    "plt.ylim(0, max(percentages) + 5)\n",
    "ax.set_title('Submissions containing a defect ({} submissions in total)'.format(len(defect_log)))\n",
    "\n",
    "#plt.savefig('defect_histogram.png', dpi=300)\n",
    "plt.show()"
   ]
  },
  {
   "cell_type": "code",
   "execution_count": null,
   "metadata": {},
   "outputs": [],
   "source": [
    "plt.figure(figsize=figsize, layout=\"constrained\")\n",
    "correlations = defect_log.corr().values\n",
    "np.fill_diagonal(correlations, 0)\n",
    "defect_names = defects['defect name'].loc[defect_log.columns]\n",
    "sns.heatmap(correlations, xticklabels=defect_names.apply(lambda x: x[:20]), yticklabels=defect_names, vmin=-1, vmax=1, cmap=\"vlag\")\n",
    "\n",
    "plt.xticks(rotation = 45, ha='right')\n",
    "plt.yticks(rotation = 0, ha='right')\n",
    "\n",
    "plt.title('Correlation between the presence defects (pearson)'.format(len(defect_log)))\n",
    "#plt.savefig('defect_correlation.png', dpi=300)\n",
    "plt.show()"
   ]
  },
  {
   "cell_type": "code",
   "execution_count": null,
   "metadata": {},
   "outputs": [],
   "source": [
    "\"\"\"\n",
    "TODO look at defects with a low number of occurances\n",
    "TODO explore codes without an associated defect\n",
    "rare_codes = counts[counts < 100].index\n",
    "\n",
    "counts = counts[counts >= 100]\n",
    "\n",
    "percentages = counts / len(defect_log) * 100\n",
    "fig, ax = plt.subplots(layout=\"constrained\", figsize=figsize)\n",
    "\n",
    "p = ax.bar(counts.index, percentages)\n",
    "\n",
    "ax.bar_label(p, labels = counts, label_type='edge', rotation=45)\n",
    "\n",
    "ax.set_ylabel('% of submissions')\n",
    "plt.xticks(rotation = 45, ha='right')\n",
    "plt.ylim(0, 40)\n",
    "ax.set_title('EduLint codes without a corresponding defect (# of occurances < 100 omitted)'.format(len(defect_log)))\n",
    "\n",
    "#plt.savefig('defect_histogram.png', dpi=300)\n",
    "plt.show()\n",
    "\"\"\""
   ]
  },
  {
   "cell_type": "markdown",
   "metadata": {},
   "source": [
    "## of defects histogram"
   ]
  },
  {
   "cell_type": "code",
   "execution_count": null,
   "metadata": {},
   "outputs": [],
   "source": [
    "counts = defect_log.sum(axis=1).value_counts()\n",
    "\n",
    "num_of_submissions = [str(i) for i in range(5)] + ['>=5']\n",
    "defect_counts= list(counts[:5]) + [counts[5:].sum()]\n",
    "defect_percentage = list(map(lambda x: x / len(defect_log) * 100, defect_counts))\n",
    "\n",
    "fig, ax = plt.subplots(layout=\"constrained\", figsize=figsize)\n",
    "\n",
    "p = ax.bar(num_of_submissions, defect_percentage)\n",
    "\n",
    "ax.bar_label(p, labels = defect_counts, label_type='edge')\n",
    "\n",
    "ax.set_ylabel('% of submissions')\n",
    "ax.set_xlabel('Number of defects')\n",
    "ax.set_title('Submissions by the number of unique defects ({} in total)'.format(len(defect_log)))\n",
    "\n",
    "#plt.savefig('submissions_histogram.png', dpi=300)\n",
    "plt.show()"
   ]
  },
  {
   "cell_type": "code",
   "execution_count": null,
   "metadata": {},
   "outputs": [],
   "source": [
    "counts = defect_log.sum(axis=1).value_counts().cumsum()\n",
    "\n",
    "num_of_submissions = [\"0\"] + [f\"<={i}\" for i in range(1, max(counts.index) + 1)]\n",
    "\n",
    "max_idx = max(counts.index)\n",
    "defect_counts = [\n",
    "    counts.loc[idx] if idx in counts.index else counts.loc[max([j for j in counts.index if j < idx])]\n",
    "    for idx in range(max_idx + 1)\n",
    "]\n",
    "\n",
    "defect_percentage = [(x / len(defect_log)) * 100 for x in defect_counts]\n",
    "\n",
    "fig, ax1 = plt.subplots(layout=\"constrained\", figsize=(10, 6))\n",
    "\n",
    "bars = ax1.bar(num_of_submissions, defect_counts, alpha=0.6, color='blue', label='Absolute counts')\n",
    "\n",
    "ax2 = ax1.twinx()\n",
    "ax2.plot(num_of_submissions, defect_percentage, marker='o', color='red', label='Cumulative %')\n",
    "\n",
    "ax1.set_ylabel('Absolute counts')\n",
    "ax2.set_ylabel('% of submissions')\n",
    "ax1.set_xlabel('Number of defects')\n",
    "ax1.set_title(f'Submissions by the number of unique defects ({len(defect_log)} in total)')\n",
    "\n",
    "ax1.set_ylim(0, len(defect_log))\n",
    "ax2.set_ylim(0, 100)\n",
    "\n",
    "ax1.grid(visible=True, linestyle='--', linewidth=0.5)\n",
    "fig.legend(loc='upper left', bbox_to_anchor=(0.1, 0.9))\n",
    "\n",
    "#plt.savefig('submissions_cumulative_histogram.png', dpi=300)\n",
    "plt.show()"
   ]
  },
  {
   "cell_type": "markdown",
   "metadata": {},
   "source": [
    "## severity"
   ]
  },
  {
   "cell_type": "code",
   "execution_count": null,
   "metadata": {},
   "outputs": [],
   "source": [
    "df = pd.crosstab(defects['severity'], defects['defect type'])\n",
    "for i in range(1, 6):\n",
    "    if i not in df.index:\n",
    "        df.loc[i] = np.zeros(len(df.columns), dtype=int)\n",
    "df.sort_index(inplace=True)\n",
    "\n",
    "fig, ax = plt.subplots(figsize=(10, 8), layout=\"constrained\")\n",
    "\n",
    "sns.heatmap(df, annot=True, cmap=\"Blues\", fmt=\"d\", ax=ax)\n",
    "for i, column in enumerate(df.columns):\n",
    "    ax.scatter(i + 0.5, (df[column] * df.index).sum() / df[column].sum() - 0.5, marker='X', color='red', s=100)\n",
    "ax.invert_yaxis()\n",
    "colorbar = ax.collections[0].colorbar\n",
    "colorbar.set_label('counts', rotation=90, labelpad=15)\n",
    "plt.title('Distribution of defects by severity and type')\n",
    "plt.show()"
   ]
  },
  {
   "cell_type": "markdown",
   "metadata": {},
   "source": [
    "# defect co-occurance"
   ]
  },
  {
   "cell_type": "markdown",
   "metadata": {},
   "source": [
    "## co-occurance matrix"
   ]
  },
  {
   "cell_type": "code",
   "execution_count": null,
   "metadata": {},
   "outputs": [],
   "source": [
    "# co-occurances\n",
    "co_occurances = (defect_log.T.dot(defect_log)).values\n",
    "np.fill_diagonal(co_occurances, 0)\n",
    "defect_names = [defects['defect name'].loc[idx] for idx in defect_log.columns]"
   ]
  },
  {
   "cell_type": "code",
   "execution_count": null,
   "metadata": {},
   "outputs": [],
   "source": [
    "fig = px.imshow(co_occurances, x = defect_names, y = defect_names)\n",
    "fig.update_xaxes(showticklabels=False)\n",
    "fig.update_yaxes(showticklabels=False)\n",
    "fig.update_layout(yaxis={\"dtick\":1},margin={\"t\":0,\"b\":0})\n",
    "fig"
   ]
  },
  {
   "cell_type": "code",
   "execution_count": null,
   "metadata": {},
   "outputs": [],
   "source": [
    "import matplotlib.pyplot as plt\n",
    "import numpy as np\n",
    "from matplotlib.colors import ListedColormap\n",
    "\n",
    "# Your data (assuming 'co_occurances' and 'defect_names' are defined elsewhere)\n",
    "thresholded = co_occurances.copy()\n",
    "thresholded[thresholded < 100] = 0\n",
    "thresholded[thresholded >= 1000] = 3\n",
    "thresholded[thresholded >= 250] = 2\n",
    "thresholded[thresholded >= 100] = 1\n",
    "\n",
    "cmap = ListedColormap(sns.color_palette(\"Blues\", 4))\n",
    "\n",
    "fig, ax = plt.subplots(figsize=figsize, layout=\"constrained\")\n",
    "\n",
    "p = ax.imshow(thresholded, cmap=cmap, vmin=0, vmax=3)\n",
    "\n",
    "ax.set_yticks(np.arange(len(defect_names)))\n",
    "ax.set_yticklabels(defect_names)\n",
    "\n",
    "ax.set_title('Co-occurrence of defects thresholded at different levels')\n",
    "\n",
    "cbar = fig.colorbar(p, ax=ax, ticks=[0, 1, 2, 3], shrink=0.8)\n",
    "cbar.set_label('Thresholded Co-occurrence Levels')\n",
    "\n",
    "cbar.set_ticks([0, 1, 2, 3])\n",
    "cbar.set_ticklabels(['< 100', '100 - 250', '250 - 1000', '>= 1000'])\n",
    "\n",
    "plt.show()\n"
   ]
  },
  {
   "cell_type": "markdown",
   "metadata": {},
   "source": [
    "## by defect category"
   ]
  },
  {
   "cell_type": "code",
   "execution_count": null,
   "metadata": {},
   "outputs": [],
   "source": [
    "categories = defects['defect type'].loc[defect_log.columns]\n",
    "dfs_by_category = {category: defect_log[columns].copy() for category, columns in categories.groupby(categories).groups.items()}\n",
    "categories = categories.unique()\n",
    "NUM_ROWS = 2\n",
    "NUM_COLS = len(categories) // 2\n",
    "\n",
    "\n",
    "for i in range(len(categories)):\n",
    "    this_category = categories[i]\n",
    "    fig, axes = plt.subplots(NUM_ROWS, NUM_COLS, figsize=figsize)\n",
    "    fig.suptitle(\"Programming Defect Co-occurance by Categories: {} (absolute counts)\".format(categories[i]), fontsize=16)\n",
    "    axes = axes.flatten()\n",
    "    for j in range(len(categories)):\n",
    "        other_category = categories[j]\n",
    "        this_df, other_df = dfs_by_category[this_category], dfs_by_category[other_category]\n",
    "        \n",
    "        product_df = this_df.T.dot(other_df)\n",
    "\n",
    "        if this_category == other_category:\n",
    "            np.fill_diagonal(product_df.values, 0)\n",
    "\n",
    "        sns.heatmap(product_df, annot=True, cmap=\"Reds\", fmt=\"d\", ax=axes[j], cbar=False)\n",
    "        axes[j].set_title(other_category)\n",
    "        axes[j].set(xlabel=\"\", ylabel=\"\")\n",
    "        axes[j].set_xticks(np.arange(product_df.shape[1]), labels=defects[\"defect name\"].loc[product_df.columns].apply(lambda x: x[:20]), rotation=40, ha=\"right\")\n",
    "        if j % NUM_COLS == 0:\n",
    "            axes[j].set_yticks(np.arange(product_df.shape[0]), labels=defects[\"defect name\"].loc[product_df.index].apply(lambda x: x[:30]), rotation=0)\n",
    "        else:\n",
    "            axes[j].set_yticks([])\n",
    "        \n",
    "        plt.subplots_adjust(\n",
    "            left=0.25,\n",
    "            bottom=0.25, \n",
    "            right=0.95, \n",
    "            top=0.9, \n",
    "            wspace=0.1, \n",
    "            hspace=0.85\n",
    "        )\n",
    "                \n",
    "        #plt.savefig('co_occurance_{}.png'.format(this_category), dpi=300)\n",
    "    plt.show()"
   ]
  },
  {
   "cell_type": "markdown",
   "metadata": {},
   "source": [
    "## by defect severity"
   ]
  },
  {
   "cell_type": "code",
   "execution_count": null,
   "metadata": {},
   "outputs": [],
   "source": [
    "categories = defects['severity'].loc[defect_log.columns]\n",
    "dfs_by_category = {category: defect_log[columns].copy() for category, columns in categories.groupby(categories).groups.items()}\n",
    "categories = categories.unique()\n",
    "NUM_ROWS = 2\n",
    "NUM_COLS = len(categories) // 2\n",
    "\n",
    "\n",
    "for i in range(len(categories)):\n",
    "    this_category = categories[i]\n",
    "    fig, axes = plt.subplots(NUM_ROWS, NUM_COLS, figsize=figsize)\n",
    "    fig.suptitle(\"Programming Defect Co-occurance by Categories: {} (absolute counts)\".format(categories[i]), fontsize=16)\n",
    "    axes = axes.flatten()\n",
    "    for j in range(len(categories)):\n",
    "        other_category = categories[j]\n",
    "        this_df, other_df = dfs_by_category[this_category], dfs_by_category[other_category]\n",
    "        \n",
    "        product_df = this_df.T.dot(other_df)\n",
    "\n",
    "        if this_category == other_category:\n",
    "            np.fill_diagonal(product_df.values, 0)\n",
    "\n",
    "        sns.heatmap(product_df, annot=True, cmap=\"Reds\", fmt=\"d\", ax=axes[j], cbar=False)\n",
    "        axes[j].set_title(other_category)\n",
    "        axes[j].set(xlabel=\"\", ylabel=\"\")\n",
    "        axes[j].set_xticks(np.arange(product_df.shape[1]), labels=defects[\"defect name\"].loc[product_df.columns].apply(lambda x: x[:20]), rotation=40, ha=\"right\")\n",
    "        if j % NUM_COLS == 0:\n",
    "            axes[j].set_yticks(np.arange(product_df.shape[0]), labels=defects[\"defect name\"].loc[product_df.index].apply(lambda x: x[:30]), rotation=0)\n",
    "        else:\n",
    "            axes[j].set_yticks([])\n",
    "        \n",
    "        plt.subplots_adjust(\n",
    "            left=0.25,\n",
    "            bottom=0.25, \n",
    "            right=0.95, \n",
    "            top=0.9, \n",
    "            wspace=0.1, \n",
    "            hspace=0.85\n",
    "        )\n",
    "                \n",
    "        #plt.savefig('co_occurance_{}.png'.format(this_category), dpi=300)\n",
    "    plt.show()"
   ]
  },
  {
   "cell_type": "markdown",
   "metadata": {},
   "source": [
    "# defects by tasks"
   ]
  },
  {
   "cell_type": "markdown",
   "metadata": {},
   "source": [
    "## task-level defect anomalies"
   ]
  },
  {
   "cell_type": "code",
   "execution_count": null,
   "metadata": {},
   "outputs": [],
   "source": [
    "common_defects = (defect_log.groupby(log[\"item\"]).mean() - defect_log.mean(axis=0)) / defect_log.std(axis=0)\n",
    "highest_variance_tasks = common_defects.var(axis=1).sort_values(ascending=False)[:30].index\n",
    "defect_names = [defects['defect name'].loc[idx] for idx in defect_log.columns]\n",
    "task_names = [items['name'].loc[idx] for idx in highest_variance_tasks]\n",
    "\n",
    "plt.figure(figsize=figsize, layout=\"constrained\")\n",
    "biggest_value = common_defects.abs().values.max()\n",
    "sns.heatmap(common_defects.loc[highest_variance_tasks].T, xticklabels=task_names, yticklabels=defect_names, cmap=\"vlag\", cbar=True, vmin=-biggest_value, vmax=biggest_value)\n",
    "plt.title(\"Task-Level Defect Anomalies (Z-scores, Tasks With Highest Variance)\")\n",
    "plt.xlabel(\"\")\n",
    "plt.ylabel(\"\")\n",
    "\n",
    "# plt.savefig('defect_anomalies.png', dpi=300)\n",
    "plt.show()"
   ]
  },
  {
   "cell_type": "code",
   "execution_count": null,
   "metadata": {},
   "outputs": [],
   "source": [
    "def task_and_defect_description(task, defect):  # noqa: D103\n",
    "    task_row = items.loc[task]\n",
    "    \n",
    "    defect_row = defects.loc[defect]\n",
    "    \n",
    "    return f\"\"\"\n",
    "    <div style=\"display: flex; justify-content: space-between; gap: 20px;\">\n",
    "        <!-- Task Section -->\n",
    "        <div style=\"width: 48%; border: 1px solid #ccc; padding: 10px; border-radius: 5px;\">\n",
    "            <h3>{task_row[\"name\"]}</h3>\n",
    "            <div><strong>Instructions:</strong><br>{task_row[\"instructions\"]}</div>\n",
    "            <div><strong>Solution:</strong><br>\n",
    "                <pre style=\"background-color: #2e2e2e; color: #f5f5f5; padding: 10px; border-radius: 5px; font-family: monospace;\">{task_row[\"solution\"]}</pre>\n",
    "            </div>\n",
    "        </div>\n",
    "        \n",
    "        <!-- Defect Section -->\n",
    "        <div style=\"width: 48%; border: 1px solid #ccc; padding: 10px; border-radius: 5px;\">\n",
    "            <h3>{defect_row[\"defect name\"]}</h3>\n",
    "            <div><strong>Defect Type:</strong> {defect_row[\"defect type\"]}</div>\n",
    "            <div><strong>Severity:</strong> {defect_row[\"severity\"]}</div>\n",
    "            <div><strong>Description:</strong><br>{defect_row[\"description\"]}</div>\n",
    "            \n",
    "            <div style=\"display: flex; justify-content: space-between; margin-top: 20px;\">\n",
    "                <div style=\"width: 48%; padding: 10px;\">\n",
    "                    <strong>Code Example:</strong><br>\n",
    "                    <pre style=\"background-color: #2e2e2e; color: #f5f5f5; padding: 10px; border-radius: 5px; font-family: monospace;\">{defect_row[\"code example\"]}</pre>\n",
    "                </div>\n",
    "                <div style=\"width: 48%; padding: 10px;\">\n",
    "                    <strong>Code Fix Example:</strong><br>\n",
    "                    <pre style=\"background-color: #2e2e2e; color: #f5f5f5; padding: 10px; border-radius: 5px; font-family: monospace;\">{defect_row[\"code fix example\"]}</pre>\n",
    "                </div>\n",
    "            </div>\n",
    "        </div>\n",
    "    </div>\n",
    "    \n",
    "    <!-- Code Snippet Section -->\n",
    "    <div style=\"border: 1px solid #ccc; padding: 10px; margin-top: 20px; border-radius: 5px;\">\n",
    "        <strong>Example Submission:</strong><br>\n",
    "        <pre style=\"background-color: #2e2e2e; color: #f5f5f5; padding: 10px; border-radius: 5px; font-family: monospace;\">{log[(log[\"item\"] == task) & (defect_log[defect])].iloc[0][\"answer\"]}</pre>\n",
    "    </div>\n",
    "    \"\"\""
   ]
  },
  {
   "cell_type": "code",
   "execution_count": null,
   "metadata": {},
   "outputs": [],
   "source": [
    "import matplotlib.pyplot as plt\n",
    "import seaborn as sns\n",
    "import numpy as np\n",
    "from ipywidgets import Output\n",
    "from IPython.display import display, HTML\n",
    "\n",
    "common_defects = (defect_log.groupby(log[\"item\"]).mean() - defect_log.mean(axis=0)) / defect_log.std(axis=0)\n",
    "highest_variance_tasks = common_defects.var(axis=1).sort_values(ascending=False)[:30].index\n",
    "common_defects = common_defects.loc[highest_variance_tasks].T\n",
    "\n",
    "fig, ax = plt.subplots(figsize=(10, 8), layout=\"constrained\")\n",
    "biggest_value = common_defects.abs().values.max() # for axis scale\n",
    "\n",
    "sns.heatmap(\n",
    "    common_defects,\n",
    "    xticklabels=[items['name'].loc[idx] for idx in highest_variance_tasks],\n",
    "    yticklabels=[defects['defect name'].loc[idx] for idx in defect_log.columns],\n",
    "    cmap=\"vlag\",\n",
    "    cbar=True,\n",
    "    vmin=-biggest_value,\n",
    "    vmax=biggest_value,\n",
    "    ax=ax\n",
    ")\n",
    "plt.title(\"Task-Level Defect Anomalies (Z-scores, Tasks With Highest Variance)\")\n",
    "plt.xlabel(\"\")\n",
    "plt.ylabel(\"\")\n",
    "\n",
    "# Create a dedicated output area for the click details\n",
    "click_output = Output()\n",
    "\n",
    "def on_click(event):  # noqa: D103\n",
    "    if event.inaxes == ax:\n",
    "        x, y = int(event.xdata), int(event.ydata)\n",
    "        if 0 <= x < len(task_names) and 0 <= y < len(defect_names):\n",
    "            task = highest_variance_tasks[x]\n",
    "            defect = defect_log.columns[y]\n",
    "            # value = common_defects.iloc[y, x]\n",
    "\n",
    "            # Update the click output area\n",
    "            with click_output:\n",
    "                click_output.clear_output(wait=True)\n",
    "                display(HTML(task_and_defect_description(task, defect)))\n",
    "\n",
    "# Connect the click event\n",
    "fig.canvas.mpl_connect('button_press_event', on_click)\n",
    "\n",
    "# Show the heatmap and output\n",
    "plt.show()\n",
    "display(click_output)"
   ]
  },
  {
   "cell_type": "markdown",
   "metadata": {},
   "source": [
    "## defects in task templates"
   ]
  },
  {
   "cell_type": "code",
   "execution_count": null,
   "metadata": {},
   "outputs": [],
   "source": [
    "democode_messages = items[\"democode\"].apply(generate_linter_messages)\n",
    "democode_messages = [\n",
    "    {'item': idx, 'defect': code}\n",
    "    for idx, code_message_list in democode_messages.items()\n",
    "    for code, _ in code_message_list\n",
    "]\n",
    "democode_messages = pd.DataFrame(democode_messages)\n",
    "democode_messages = democode_messages[democode_messages[\"defect\"].isin(code_to_defect_id.keys())]\n",
    "democode_messages[\"defect\"] = democode_messages[\"defect\"].replace(code_to_defect_id).astype(int)"
   ]
  },
  {
   "cell_type": "code",
   "execution_count": null,
   "metadata": {},
   "outputs": [],
   "source": [
    "solution_messages = items[\"solution\"].apply(generate_linter_messages)\n",
    "solution_messages = [\n",
    "    {'item': idx, 'defect': code}\n",
    "    for idx, code_message_list in solution_messages.items()\n",
    "    for code, _ in code_message_list\n",
    "]\n",
    "solution_messages = pd.DataFrame(solution_messages)\n",
    "solution_messages = solution_messages[solution_messages[\"defect\"].isin(code_to_defect_id.keys())]\n",
    "solution_messages[\"defect\"] = solution_messages[\"defect\"].replace(code_to_defect_id).astype(int)"
   ]
  },
  {
   "cell_type": "code",
   "execution_count": null,
   "metadata": {},
   "outputs": [],
   "source": [
    "legend_markers = [plt.scatter([0], [0], color='green', s=100, marker='o'), plt.scatter([0], [0], color='purple', s=50, marker='x')]\n",
    "\n",
    "plt.figure(figsize=figsize, layout=\"constrained\")\n",
    "\n",
    "biggest_value = common_defects.abs().values.max()\n",
    "\n",
    "ax = sns.heatmap(\n",
    "    common_defects,\n",
    "    xticklabels=task_names,\n",
    "    yticklabels=defect_names,\n",
    "    cmap=\"vlag\",\n",
    "    cbar=True,\n",
    "    vmin=-biggest_value,\n",
    "    vmax=biggest_value\n",
    ")\n",
    "\n",
    "for _, row in solution_messages[solution_messages[\"item\"].isin(highest_variance_tasks)].iterrows():\n",
    "    x_pos = task_names.index(items['name'].loc[row['item']])\n",
    "    y_pos = defect_names.index(defects['defect name'].loc[row['defect']])\n",
    "    ax.scatter(x_pos + 0.5, y_pos + 0.5, color=\"green\", s=100, marker='o')\n",
    "\n",
    "for _, row in democode_messages[democode_messages[\"item\"].isin(highest_variance_tasks)].iterrows():\n",
    "    x_pos = task_names.index(items['name'].loc[row['item']])\n",
    "    y_pos = defect_names.index(defects['defect name'].loc[row['defect']])\n",
    "    ax.scatter(x_pos + 0.5, y_pos + 0.5, color=\"purple\", s=50, marker='x')\n",
    "\n",
    "plt.title(\"Task-Level Defect Anomalies (Z-scores, Tasks With Highest Variance)\")\n",
    "#plt.legend(title='Smoker', loc='upper left', labels=['Hell Yeh', 'Nah Bruh'])\n",
    "plt.xlabel(\"\")\n",
    "plt.ylabel(\"\")\n",
    "plt.legend(legend_markers, ['example solution', 'demo code'], title='Defect present in:', loc='lower left')\n",
    "\n",
    "#plt.savefig('defect_anomalies.png', dpi=300)\n",
    "plt.show()"
   ]
  },
  {
   "cell_type": "markdown",
   "metadata": {},
   "source": [
    "# defect severity"
   ]
  },
  {
   "cell_type": "code",
   "execution_count": null,
   "metadata": {},
   "outputs": [],
   "source": [
    "MAX_COUNT = 20\n",
    "# use counts, not presence\n",
    "defect_counts = pd.crosstab(messages[\"log entry\"], messages[\"defect\"])\n",
    "# histogram for each defect\n",
    "defect_counts = {col: defect_counts[col][defect_counts[col] > 0].value_counts() for col in defect_counts.columns}\n",
    "# fill empty brackets with 0\n",
    "defect_counts = pd.DataFrame(defect_counts).fillna(0).astype(int)\n",
    "for i in range(1, MAX_COUNT):\n",
    "    if i not in defect_counts.index:\n",
    "        defect_counts.loc[i] = np.zeros(len(defect_counts.columns), dtype=int)\n",
    "defect_counts.sort_index(inplace=True)\n",
    "# sum the tail\n",
    "defect_counts.loc[MAX_COUNT - 1] = defect_counts.iloc[MAX_COUNT:].sum(axis=0)\n",
    "defect_counts = defect_counts.iloc[:MAX_COUNT]\n",
    "# normalize the values\n",
    "defect_counts = defect_counts.div(defect_counts.sum(axis=0), axis=1)\n",
    "\n",
    "# order by severity\n",
    "defect_counts = defect_counts[sorted(defect_counts.columns.tolist(), key=lambda x: defects[\"severity\"].loc[x])]\n",
    "\n",
    "# rotate\n",
    "defect_counts = defect_counts.T\n",
    "\n",
    "fig, ax = plt.subplots(figsize=figsize, layout=\"constrained\")\n",
    "\n",
    "sns.heatmap(defect_counts, cmap=\"Blues\", fmt=\"d\", ax=ax)\n",
    "for i, row in enumerate(defect_counts.index):\n",
    "    ax.scatter((defect_counts.loc[row] * defect_counts.columns.values).sum() / defect_counts.loc[row].sum() - 0.5, i + 0.5, marker='X', color='red', s=100)\n",
    "ax.invert_yaxis()\n",
    "ax.set_aspect('equal', 'box')\n",
    "\n",
    "colorbar = ax.collections[0].colorbar\n",
    "colorbar.set_label('% of submissions', rotation=90, labelpad=15)\n",
    "\n",
    "plt.xticks(ticks=np.arange(MAX_COUNT), labels=[str(i) for i in range(1, MAX_COUNT)] + [f\">= {MAX_COUNT}\"], rotation=30)\n",
    "plt.yticks(ticks=np.arange(len(defect_counts.index)), labels=[defects[\"defect name\"].loc[row] for row in defect_counts.index], rotation=0)\n",
    "\n",
    "severity = [defects[\"severity\"].loc[row] for row in defect_counts.index]\n",
    "for idx in range(1, len(severity)):\n",
    "    if severity[idx] != severity[idx - 1]:\n",
    "        plt.axhline(y=idx, color='black', linestyle='--', linewidth=1)\n",
    "\n",
    "plt.xlabel(\"# of instances\")\n",
    "plt.title('Distribution of defect counts')\n",
    "# plt.savefig('num_of_defects.png', dpi=300)\n",
    "plt.show()"
   ]
  },
  {
   "cell_type": "code",
   "execution_count": null,
   "metadata": {},
   "outputs": [],
   "source": [
    "# SWITCH TO ALL SUBMISSIONS!\n",
    "\n",
    "correlations = pd.DataFrame({\n",
    "    task: defect_log[log['item'] == task].corrwith(log['correct'] - 1) for task in log['item'].unique()\n",
    "})\n",
    "counts = defect_log.groupby(log[\"item\"]).sum().T\n",
    "correlations = correlations[counts.columns]\n",
    "correlations[counts < 100] = np.nan\n",
    "\n",
    "highest_variance_tasks = correlations.var(axis=1).sort_values(ascending=False)[:30].index\n",
    "defect_names = [defects['defect name'].loc[idx] for idx in defect_log.columns]\n",
    "task_names = [items['name'].loc[idx] for idx in highest_variance_tasks]\n",
    "\n",
    "plt.figure(figsize=figsize, layout=\"constrained\")\n",
    "sns.heatmap(common_defects.loc[highest_variance_tasks].T, xticklabels=task_names, yticklabels=defect_names, cmap=\"vlag\", cbar=True, vmin=-1, vmax=1)\n",
    "plt.title(\"Correlation between the presence defects and failure (pearson)\")\n",
    "plt.xlabel(\"\")\n",
    "plt.ylabel(\"\")\n",
    "\n",
    "# plt.savefig('success_correlations_across_tasks.png', dpi=300)\n",
    "plt.show()"
   ]
  },
  {
   "cell_type": "markdown",
   "metadata": {},
   "source": [
    "# Exploring specific defect co-occurances"
   ]
  },
  {
   "cell_type": "code",
   "execution_count": null,
   "metadata": {},
   "outputs": [],
   "source": [
    "def wrap_text(text, max_length=100):  # noqa: D103\n",
    "    lines = []\n",
    "    line = []\n",
    "    length = 0\n",
    "\n",
    "    for word in text.split():\n",
    "        if (length := length + len(word) + 1) <= max_length:\n",
    "            line.append(word)\n",
    "        else:\n",
    "            lines.append(\" \".join(line))\n",
    "            line = [word]\n",
    "            length = len(word) + 1\n",
    "    \n",
    "    if line:\n",
    "        lines.append(\" \".join(line))\n",
    "    \n",
    "    return \"\\n\".join(lines)\n",
    "\n",
    "\n",
    "def item_info(idx):  # noqa: D103\n",
    "    row = items.loc[idx]\n",
    "    print('Task: ', row['name'])\n",
    "    print('='*50)\n",
    "    print('Description: ', wrap_text(row['instructions']), sep='\\n')\n",
    "    print('-'*50)\n",
    "    print('Example solution: ', row['solution'], sep='\\n')\n",
    "\n",
    "\n",
    "def defect_info(idx):  # noqa: D103\n",
    "    row = defects.loc[idx]\n",
    "    print(row[\"defect type\"], \": \", row['defect name'])\n",
    "    print('='*50)\n",
    "    print('Description: ', wrap_text(row['description']), sep='\\n')\n",
    "    print('-'*50)\n",
    "    print('Code example: ', row['code example'], sep='\\n')"
   ]
  },
  {
   "cell_type": "code",
   "execution_count": null,
   "metadata": {},
   "outputs": [],
   "source": [
    "defect1, defect2 = 29, 30\n",
    "print(f\"({defect1}, {defect2}) {defects.loc[defect1]['defect name']}, {defects.loc[defect2]['defect name']}\")\n",
    "defect_info(defect1)\n",
    "print(\"\\n\\n\")\n",
    "defect_info(defect2)\n",
    "df = log.loc[defect_log[(defect_log.loc[:, defect1] >= 1) & (defect_log.loc[:, defect2] >= 1)].index]\n",
    "df[\"item\"].value_counts()"
   ]
  },
  {
   "cell_type": "code",
   "execution_count": null,
   "metadata": {},
   "outputs": [],
   "source": [
    "item = 60\n",
    "item_df = df[df[\"item\"] == item]\n",
    "item_info(item)\n",
    "print('-'*50)\n",
    "for i in range(min(len(item_df), 5)):\n",
    "    print(f\"Solution {i + 1}, index: {item_df.index[i]}\", item_df.iloc[i][\"answer\"], sep=\"\\n\")\n",
    "    print(\"-\"*50)"
   ]
  },
  {
   "cell_type": "code",
   "execution_count": null,
   "metadata": {},
   "outputs": [],
   "source": [
    "index = 103332\n"
   ]
  },
  {
   "cell_type": "code",
   "execution_count": null,
   "metadata": {},
   "outputs": [],
   "source": [
    "# defect descriptions\n",
    "defect1_row = defects.loc[defect1, [\"defect name\", \"description\", \"code example\", \"code fix example\"]]\n",
    "defect2_row = defects.loc[defect2, [\"defect name\", \"description\", \"code example\", \"code fix example\"]]\n",
    "defect1_row.index = [\"defect 1 name\", \"defect 1 description\", \"defect 1 code example\", \"defect 1 code fix example\"]\n",
    "defect2_row.index = [\"defect 2 name\", \"defect 2 description\", \"defect 2 code example\", \"defect 2 code fix example\"]\n",
    "\n",
    "# item description\n",
    "item_row = items.loc[item, [\"name\", \"instructions\"]]\n",
    "item_row.index = [\"item name\", \"item instructions\"]\n",
    "\n",
    "# user submission\n",
    "log_row = log.loc[[index]].reset_index()[[\"index\", \"answer\"]].iloc[0]\n",
    "log_row.index = [\"submission index\", \"submission text\"]\n",
    "\n",
    "new_row = pd.concat([item_row, log_row, defect1_row, defect2_row])\n",
    "pd.concat([\n",
    "    pd.read_csv(data_path / \"questions.csv\", sep=\";\", index_col=0),\n",
    "    pd.DataFrame([new_row])\n",
    "], ignore_index=True).to_csv(data_path / \"questions.csv\", sep=\";\")"
   ]
  },
  {
   "cell_type": "code",
   "execution_count": null,
   "metadata": {},
   "outputs": [],
   "source": [
    "#pd.DataFrame([new_row]).to_csv(\"questions.csv\", sep=\";\")"
   ]
  }
 ],
 "metadata": {
  "kernelspec": {
   "display_name": ".venv",
   "language": "python",
   "name": "python3"
  },
  "language_info": {
   "codemirror_mode": {
    "name": "ipython",
    "version": 3
   },
   "file_extension": ".py",
   "mimetype": "text/x-python",
   "name": "python",
   "nbconvert_exporter": "python",
   "pygments_lexer": "ipython3",
   "version": "3.10.7"
  }
 },
 "nbformat": 4,
 "nbformat_minor": 2
}
