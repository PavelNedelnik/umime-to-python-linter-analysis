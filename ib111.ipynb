{
 "cells": [
  {
   "cell_type": "code",
   "execution_count": null,
   "metadata": {},
   "outputs": [],
   "source": [
    "from pathlib import Path\n",
    "import pandas as pd\n",
    "from src.load_scripts import load_defects\n",
    "\n",
    "\n",
    "data_path = Path('data/ib111')\n",
    "\n",
    "log = pd.read_csv(data_path / 'log.csv')\n",
    "messages = pd.read_csv(data_path / 'messages.csv')\n",
    "defects = load_defects('data/defects.csv')"
   ]
  },
  {
   "cell_type": "code",
   "execution_count": null,
   "metadata": {},
   "outputs": [],
   "source": [
    "# dictionary mapping edulint codes to defect ids\n",
    "code_to_id = {val: idx for idx, val in defects['EduLint code'].explode().items()}"
   ]
  },
  {
   "cell_type": "code",
   "execution_count": null,
   "metadata": {},
   "outputs": [],
   "source": [
    "# dropping messages without an assigned defect\n",
    "messages = messages[messages['code'].isin(code_to_id.keys())]\n",
    "messages['defect_id'] = messages['code'].map(code_to_id)\n"
   ]
  },
  {
   "cell_type": "code",
   "execution_count": null,
   "metadata": {},
   "outputs": [],
   "source": [
    "log"
   ]
  },
  {
   "cell_type": "code",
   "execution_count": null,
   "metadata": {},
   "outputs": [],
   "source": [
    "df = messages.merge(log, on='path')"
   ]
  },
  {
   "cell_type": "code",
   "execution_count": null,
   "metadata": {},
   "outputs": [],
   "source": [
    "df.info()"
   ]
  },
  {
   "cell_type": "code",
   "execution_count": null,
   "metadata": {},
   "outputs": [],
   "source": [
    "df = messages.groupby(\"path\").agg({\"defect\": pd.Series}).reset_index()"
   ]
  },
  {
   "cell_type": "code",
   "execution_count": null,
   "metadata": {},
   "outputs": [],
   "source": [
    "from src.code_processing import generate_linter_messages\n",
    "\n",
    "\n",
    "generate_linter_messages(\n",
    "    \"\"\"def greatest_common_divisor(a, b):\n",
    "    s=[]\n",
    "    t=[]\n",
    "    for i in range (a):\n",
    "        if a%(i+1)==0: s.append(i+1)\n",
    "    for j in range (b):\n",
    "        if b%(j+1)==0: s.append(j+1)\n",
    "    for k in range (len(s)):\n",
    "        for l in range (len(s)):\n",
    "            if k>l and s[k]==s[l]:t.append(s[k])\n",
    "    t.sort\n",
    "    return(t[len(t)-1])\"\"\"\n",
    ")"
   ]
  }
 ],
 "metadata": {
  "kernelspec": {
   "display_name": ".venv",
   "language": "python",
   "name": "python3"
  },
  "language_info": {
   "codemirror_mode": {
    "name": "ipython",
    "version": 3
   },
   "file_extension": ".py",
   "mimetype": "text/x-python",
   "name": "python",
   "nbconvert_exporter": "python",
   "pygments_lexer": "ipython3",
   "version": "3.10.7"
  }
 },
 "nbformat": 4,
 "nbformat_minor": 2
}
