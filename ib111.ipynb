{
 "cells": [
  {
   "cell_type": "code",
   "execution_count": null,
   "metadata": {},
   "outputs": [],
   "source": [
    "from pathlib import Path\n",
    "import pandas as pd\n",
    "from src.load_scripts import load_defects\n",
    "\n",
    "\n",
    "data_path = Path('data/ib111')\n",
    "\n",
    "log = pd.read_csv(data_path / 'log.csv')\n",
    "messages = pd.read_csv(data_path / 'messages.csv')\n",
    "defects = load_defects('data/defects.csv')"
   ]
  },
  {
   "cell_type": "code",
   "execution_count": null,
   "metadata": {},
   "outputs": [],
   "source": [
    "# dictionary mapping edulint codes to defect ids\n",
    "code_to_id = {val: idx for idx, val in defects['EduLint code'].explode().items()}"
   ]
  },
  {
   "cell_type": "code",
   "execution_count": null,
   "metadata": {},
   "outputs": [],
   "source": [
    "# dropping messages without an assigned defect\n",
    "messages = messages[messages['code'].isin(code_to_id.keys())]\n",
    "messages['defect_id'] = messages['code'].map(code_to_id)\n"
   ]
  },
  {
   "cell_type": "code",
   "execution_count": null,
   "metadata": {},
   "outputs": [],
   "source": [
    "df = messages.merge(log, on='path')"
   ]
  },
  {
   "cell_type": "code",
   "execution_count": null,
   "metadata": {},
   "outputs": [],
   "source": [
    "df.info()"
   ]
  },
  {
   "cell_type": "code",
   "execution_count": null,
   "metadata": {},
   "outputs": [],
   "source": [
    "df = messages.groupby(\"path\").agg({\"defect\": pd.Series}).reset_index()"
   ]
  },
  {
   "cell_type": "code",
   "execution_count": null,
   "metadata": {},
   "outputs": [],
   "source": [
    "import math\n",
    "from pathlib import Path\n",
    "\n",
    "import dash\n",
    "import dash_bootstrap_components as dbc\n",
    "import numpy as np\n",
    "import pandas as pd\n",
    "import plotly.graph_objs as go\n",
    "import plotly.subplots as sp\n",
    "from dash import Input, Output, dcc, html\n",
    "\n",
    "####################################################################################################\n",
    "##                                            Layout                                              ##\n",
    "####################################################################################################\n",
    "\n",
    "USER_ID = 28594603\n",
    "# USER_ID = 2121562\n",
    "\n",
    "data_path = Path(\"data/ipython_old/cache/\")\n",
    "\n",
    "log = pd.read_csv(data_path / \"log.csv\", sep=\";\", header=0, index_col=0)\n",
    "log[\"time\"] = pd.to_datetime(log[\"time\"])\n",
    "items = pd.read_csv(data_path / \"items.csv\", sep=\";\", header=0, index_col=0)\n",
    "defects = pd.read_csv(data_path / \"defects.csv\", sep=\";\", header=0, index_col=0)\n",
    "defect_log = pd.read_csv(data_path / \"defect_log.csv\", sep=\";\", header=0, index_col=0)\n",
    "\n",
    "user_history = log[log[\"user\"] == USER_ID].sort_values(\"time\")\n",
    "if user_history.shape[0] == 0:\n",
    "    raise ValueError(\"No history for this user.\")\n",
    "\n",
    "user_history[\"final\"] = np.append(user_history[\"item\"].iloc[:-1].values != user_history[\"item\"].iloc[1:].values, True)\n",
    "session_ids = (user_history['time'].diff() > pd.Timedelta(hours=1)).cumsum().tolist()"
   ]
  },
  {
   "cell_type": "code",
   "execution_count": null,
   "metadata": {},
   "outputs": [],
   "source": [
    "####################################################################################################\n",
    "##                                            Layout                                              ##\n",
    "####################################################################################################\n",
    "\n",
    "app = dash.Dash(__name__, external_stylesheets=[dbc.themes.BOOTSTRAP])\n",
    "\n",
    "cols = math.floor(math.sqrt(session_ids[-1] + 1))\n",
    "rows = math.ceil((session_ids[-1] + 1) / cols)\n",
    "\n",
    "session_figure = sp.make_subplots(rows=rows, cols=cols, shared_yaxes='all')\n",
    "for session_id in np.unique(session_ids):\n",
    "    session_data = user_history[session_ids == session_id]\n",
    "    session_figure.add_trace(\n",
    "        go.Scatter(x=session_data[\"time\"], y=session_data[\"answer\"].apply(len), mode=\"markers\", marker=dict(\n",
    "            size=10,\n",
    "            color=session_data[\"correct\"].apply(lambda x: \"green\" if x else \"red\"),\n",
    "            symbol=session_data[\"final\"].apply(lambda x: \"x\" if x else \"circle\"),\n",
    "        )),\n",
    "        col=session_id // rows + 1,  # index starts at 1\n",
    "        row=session_id % rows + 1,  # index starts at 1\n",
    "    )\n",
    "session_figure.update_layout(\n",
    "    margin=dict(l=0,r=0,b=0,t=40),\n",
    "    showlegend=False,\n",
    ")\n",
    "session_figure.update_xaxes(\n",
    "    tickformat=\"%H:%M<br>%d-%m\"\n",
    ")\n",
    "session_figure"
   ]
  },
  {
   "cell_type": "code",
   "execution_count": null,
   "metadata": {},
   "outputs": [],
   "source": [
    "user_history['answer'].apply(len)"
   ]
  }
 ],
 "metadata": {
  "kernelspec": {
   "display_name": ".venv",
   "language": "python",
   "name": "python3"
  },
  "language_info": {
   "codemirror_mode": {
    "name": "ipython",
    "version": 3
   },
   "file_extension": ".py",
   "mimetype": "text/x-python",
   "name": "python",
   "nbconvert_exporter": "python",
   "pygments_lexer": "ipython3",
   "version": "3.10.7"
  }
 },
 "nbformat": 4,
 "nbformat_minor": 2
}
