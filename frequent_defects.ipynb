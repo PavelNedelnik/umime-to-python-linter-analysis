{
 "cells": [
  {
   "cell_type": "markdown",
   "metadata": {},
   "source": [
    "# Loading data"
   ]
  },
  {
   "cell_type": "code",
   "execution_count": 1,
   "metadata": {},
   "outputs": [],
   "source": [
    "import matplotlib.pyplot as plt\n",
    "import plotly.express as px\n",
    "import pandas as pd\n",
    "import numpy as np\n",
    "\n",
    "from pathlib import Path\n",
    "\n",
    "from src.load_scripts import load_ipython_data\n",
    "\n",
    "figsize = (10, 7)\n",
    "resolution = 300 # dpi"
   ]
  },
  {
   "cell_type": "code",
   "execution_count": null,
   "metadata": {},
   "outputs": [],
   "source": [
    "item, defects, log, defect_log = load_ipython_data(Path('data/ipython'), Path('data/defects.csv'))"
   ]
  },
  {
   "cell_type": "markdown",
   "metadata": {},
   "source": [
    "TODO try with only correct/final submissions"
   ]
  },
  {
   "cell_type": "markdown",
   "metadata": {},
   "source": [
    "# Exploration"
   ]
  },
  {
   "cell_type": "markdown",
   "metadata": {},
   "source": [
    "## Defects Histogram"
   ]
  },
  {
   "cell_type": "code",
   "execution_count": 15,
   "metadata": {},
   "outputs": [],
   "source": [
    "counts = defect_log.sum(axis=0).sort_values(ascending=False)\n",
    "percentages = counts / len(defect_log) * 100"
   ]
  },
  {
   "cell_type": "code",
   "execution_count": null,
   "metadata": {},
   "outputs": [],
   "source": [
    "fig, ax = plt.subplots(layout=\"constrained\", figsize=figsize)\n",
    "\n",
    "p = ax.bar([defects['defect name'].loc[idx] for idx in counts.index], percentages)\n",
    "\n",
    "ax.bar_label(p, labels = counts, label_type='edge', rotation=45)\n",
    "\n",
    "ax.set_ylabel('% of submissions')\n",
    "plt.xticks(rotation = 45, ha='right')\n",
    "ax.set_title('Submissions containing a defect ({} submissions in total)'.format(len(defect_log)))\n",
    "\n",
    "#plt.savefig('defect_histogram.png', dpi=300)\n",
    "plt.show()"
   ]
  },
  {
   "cell_type": "markdown",
   "metadata": {},
   "source": [
    "## Submissions Histogram"
   ]
  },
  {
   "cell_type": "code",
   "execution_count": 17,
   "metadata": {},
   "outputs": [],
   "source": [
    "counts = defect_log.sum(axis=1).value_counts()"
   ]
  },
  {
   "cell_type": "code",
   "execution_count": null,
   "metadata": {},
   "outputs": [],
   "source": [
    "num_of_submissions = [str(i) for i in range(5)] + ['>=5']\n",
    "defect_count = list(counts[:5]) + [counts[5:].sum()]\n",
    "defect_percentage = list(map(lambda x: x / len(defect_log) * 100, defect_count))\n",
    "\n",
    "fig, ax = plt.subplots(layout=\"constrained\", figsize=figsize)\n",
    "\n",
    "p = ax.bar(num_of_submissions, defect_percentage)\n",
    "\n",
    "ax.bar_label(p, labels = defect_count, label_type='edge')\n",
    "\n",
    "ax.set_ylabel('% of submissions')\n",
    "ax.set_xlabel('Number of defects')\n",
    "ax.set_title('Submissions by the number of unique defects ({} in total)'.format(len(defect_log)))\n",
    "\n",
    "#plt.savefig('submission_histogram.png', dpi=300)\n",
    "plt.show()"
   ]
  },
  {
   "cell_type": "markdown",
   "metadata": {},
   "source": [
    "## Co-occurance matrix"
   ]
  },
  {
   "cell_type": "code",
   "execution_count": 9,
   "metadata": {},
   "outputs": [],
   "source": [
    "# co-occurances\n",
    "\n",
    "co_occurances = (defect_log.T.dot(defect_log)).values\n",
    "np.fill_diagonal(co_occurances, 0)"
   ]
  },
  {
   "cell_type": "code",
   "execution_count": null,
   "metadata": {},
   "outputs": [],
   "source": [
    "(co_occurances > 250).sum() / 2"
   ]
  },
  {
   "cell_type": "code",
   "execution_count": null,
   "metadata": {},
   "outputs": [],
   "source": [
    "defect_names = [defects['defect name'].loc[idx] for idx in defect_log.columns]\n",
    "\n",
    "fig = px.imshow(co_occurances > 1000, x = defect_names, y = defect_names)\n",
    "fig.update_xaxes(showticklabels=False)\n",
    "fig.update_layout(yaxis={\"dtick\":1},margin={\"t\":0,\"b\":0})\n",
    "fig"
   ]
  },
  {
   "cell_type": "code",
   "execution_count": null,
   "metadata": {},
   "outputs": [],
   "source": [
    "fig, ax = plt.subplots(layout=\"constrained\", figsize=figsize)\n",
    "\n",
    "p = ax.imshow(co_occurances > 1000)\n",
    "\n",
    "ax.set_yticks(np.arange(len(defect_names)), labels=defect_names)\n",
    "\n",
    "for i in range(len(defect_names)):\n",
    "    for j in range(len(defect_names)):\n",
    "        text = ax.text(j, i, np.round(co_occurances[i, j] / len(defect_log) * 100, 1),\n",
    "                       ha=\"center\", va=\"center\", color=\"w\")\n",
    "\n",
    "ax.set_title('Co-occurance of defects (>= 1000 occurances highlighted)')\n",
    "\n",
    "#plt.savefig('co_occurance_1000.png', dpi=300)\n",
    "plt.show()"
   ]
  },
  {
   "cell_type": "code",
   "execution_count": null,
   "metadata": {},
   "outputs": [],
   "source": [
    "fig, ax = plt.subplots(layout=\"constrained\", figsize=figsize)\n",
    "\n",
    "p = ax.imshow(co_occurances > 250)\n",
    "\n",
    "ax.set_yticks(np.arange(len(defect_names)), labels=defect_names)\n",
    "\n",
    "for i in range(len(defect_names)):\n",
    "    for j in range(len(defect_names)):\n",
    "        text = ax.text(j, i, np.round(co_occurances[i, j] / len(defect_log) * 100, 1),\n",
    "                       ha=\"center\", va=\"center\", color=\"w\")\n",
    "        \n",
    "ax.set_title('Co-occurance of defects (>= 250 occurances highlighted)')\n",
    "\n",
    "\n",
    "#plt.savefig('co_occurance_250.png', dpi=300)\n",
    "plt.show()"
   ]
  },
  {
   "cell_type": "code",
   "execution_count": null,
   "metadata": {},
   "outputs": [],
   "source": [
    "fig, ax = plt.subplots(layout=\"constrained\", figsize=figsize)\n",
    "\n",
    "p = ax.imshow(co_occurances > 100)\n",
    "\n",
    "ax.set_yticks(np.arange(len(defect_names)), labels=defect_names)\n",
    "\n",
    "for i in range(len(defect_names)):\n",
    "    for j in range(len(defect_names)):\n",
    "        text = ax.text(j, i, np.round(co_occurances[i, j] / len(defect_log) * 100, 1),\n",
    "                       ha=\"center\", va=\"center\", color=\"w\")\n",
    "        \n",
    "ax.set_title('Co-occurance of defects (>= 100 occurances highlighted)')\n",
    "\n",
    "#plt.savefig('co_occurance_100.png', dpi=300)\n",
    "plt.show()"
   ]
  }
 ],
 "metadata": {
  "kernelspec": {
   "display_name": ".venv",
   "language": "python",
   "name": "python3"
  },
  "language_info": {
   "codemirror_mode": {
    "name": "ipython",
    "version": 3
   },
   "file_extension": ".py",
   "mimetype": "text/x-python",
   "name": "python",
   "nbconvert_exporter": "python",
   "pygments_lexer": "ipython3",
   "version": "3.10.7"
  }
 },
 "nbformat": 4,
 "nbformat_minor": 2
}
