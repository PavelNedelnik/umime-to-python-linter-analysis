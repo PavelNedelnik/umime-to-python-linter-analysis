{
 "cells": [
  {
   "cell_type": "markdown",
   "metadata": {},
   "source": [
    "# Loading data"
   ]
  },
  {
   "cell_type": "code",
   "execution_count": 1,
   "metadata": {},
   "outputs": [],
   "source": [
    "import matplotlib.pyplot as plt\n",
    "import plotly.express as px\n",
    "import pandas as pd\n",
    "import numpy as np\n",
    "\n",
    "from pathlib import Path\n",
    "\n",
    "from src.load_scripts import load_ipython_data\n",
    "\n",
    "figsize = (10, 7)\n",
    "resolution = 300 # dpi"
   ]
  },
  {
   "cell_type": "code",
   "execution_count": 5,
   "metadata": {},
   "outputs": [
    {
     "name": "stdout",
     "output_type": "stream",
     "text": [
      "Loading ipython data...\n",
      "Loading item...Done.\n",
      "Cleaning...\n",
      "\tDropped 8 unused columns\n",
      "\tDecoding instructions and solutions...Done\n",
      "All finished. Returning item.\n",
      "Loading defects...Done.\n",
      "Cleaning...\n",
      "\tDropped 32 unused columns\n",
      "\tDropped 15 defects not detected by EduLint\n",
      "\tCleaning EduLint codes...\tDone.\n",
      "Done.\n",
      "All finished. Returning defects.\n",
      "Loading log... Done. Found 395020 values.\n",
      "Cleaning...\n",
      "\tDropped 817 duplicates.\n",
      "\tDropped 362 rows with missing values.\n",
      "\tConverting types...\n",
      "\t\tTime... Done.\n",
      "\t\tCorrect... Done.\n",
      "\tDone.\n",
      "\tDecoding submissions... Done.\n",
      "\tDropped 334 rows with empty submissions.\n",
      "Done.\n",
      "All finished. Returning log with 393507 values.\n",
      "Loading messages...Done.\n",
      "All finished. Returning messages for 393841 submissions.\n",
      "Merging EduLint messages with log...\n",
      "Done. Dropped 334 submissions from messages. Dropped 0 submissions from log.\n",
      "Assigning defects to EduLint messages...\n",
      "Done.\n",
      "Vectorizing defects...\n",
      "Done.\n",
      "All finished. Returning log, item, defects.\n"
     ]
    }
   ],
   "source": [
    "item, defects, log, defect_log = load_ipython_data(Path('data/ipython'), Path('data/defects.csv'))"
   ]
  },
  {
   "cell_type": "code",
   "execution_count": 6,
   "metadata": {},
   "outputs": [
    {
     "data": {
      "text/html": [
       "<div>\n",
       "<style scoped>\n",
       "    .dataframe tbody tr th:only-of-type {\n",
       "        vertical-align: middle;\n",
       "    }\n",
       "\n",
       "    .dataframe tbody tr th {\n",
       "        vertical-align: top;\n",
       "    }\n",
       "\n",
       "    .dataframe thead th {\n",
       "        text-align: right;\n",
       "    }\n",
       "</style>\n",
       "<table border=\"1\" class=\"dataframe\">\n",
       "  <thead>\n",
       "    <tr style=\"text-align: right;\">\n",
       "      <th></th>\n",
       "      <th>id</th>\n",
       "      <th>user</th>\n",
       "      <th>item</th>\n",
       "      <th>answer</th>\n",
       "      <th>correct</th>\n",
       "      <th>moves</th>\n",
       "      <th>responseTime</th>\n",
       "      <th>time</th>\n",
       "      <th>codes</th>\n",
       "      <th>text</th>\n",
       "      <th>defects</th>\n",
       "    </tr>\n",
       "  </thead>\n",
       "  <tbody>\n",
       "    <tr>\n",
       "      <th>0</th>\n",
       "      <td>8934</td>\n",
       "      <td>2121562</td>\n",
       "      <td>33</td>\n",
       "      <td>def impose_fine(age, beer):\\n    return False</td>\n",
       "      <td>False</td>\n",
       "      <td>-1</td>\n",
       "      <td>4600</td>\n",
       "      <td>2018-08-02 14:14:38</td>\n",
       "      <td>()</td>\n",
       "      <td>()</td>\n",
       "      <td>[]</td>\n",
       "    </tr>\n",
       "    <tr>\n",
       "      <th>1</th>\n",
       "      <td>8935</td>\n",
       "      <td>2121562</td>\n",
       "      <td>33</td>\n",
       "      <td>def impose_fine(age, beer):\\n    return False</td>\n",
       "      <td>False</td>\n",
       "      <td>-1</td>\n",
       "      <td>9000</td>\n",
       "      <td>2018-08-02 14:14:44</td>\n",
       "      <td>()</td>\n",
       "      <td>()</td>\n",
       "      <td>[]</td>\n",
       "    </tr>\n",
       "    <tr>\n",
       "      <th>2</th>\n",
       "      <td>8936</td>\n",
       "      <td>2121562</td>\n",
       "      <td>33</td>\n",
       "      <td>def impose_fine(age, beer):\\n    return False</td>\n",
       "      <td>False</td>\n",
       "      <td>-1</td>\n",
       "      <td>10000</td>\n",
       "      <td>2018-08-02 14:14:45</td>\n",
       "      <td>()</td>\n",
       "      <td>()</td>\n",
       "      <td>[]</td>\n",
       "    </tr>\n",
       "    <tr>\n",
       "      <th>3</th>\n",
       "      <td>8937</td>\n",
       "      <td>2121562</td>\n",
       "      <td>33</td>\n",
       "      <td>def impose_fine(age, beer):\\n    return False</td>\n",
       "      <td>False</td>\n",
       "      <td>-1</td>\n",
       "      <td>10700</td>\n",
       "      <td>2018-08-02 14:14:46</td>\n",
       "      <td>()</td>\n",
       "      <td>()</td>\n",
       "      <td>[]</td>\n",
       "    </tr>\n",
       "    <tr>\n",
       "      <th>4</th>\n",
       "      <td>8938</td>\n",
       "      <td>2121562</td>\n",
       "      <td>33</td>\n",
       "      <td>def impose_fine(age, beer):\\n    return False</td>\n",
       "      <td>False</td>\n",
       "      <td>-1</td>\n",
       "      <td>12200</td>\n",
       "      <td>2018-08-02 14:14:48</td>\n",
       "      <td>()</td>\n",
       "      <td>()</td>\n",
       "      <td>[]</td>\n",
       "    </tr>\n",
       "    <tr>\n",
       "      <th>...</th>\n",
       "      <td>...</td>\n",
       "      <td>...</td>\n",
       "      <td>...</td>\n",
       "      <td>...</td>\n",
       "      <td>...</td>\n",
       "      <td>...</td>\n",
       "      <td>...</td>\n",
       "      <td>...</td>\n",
       "      <td>...</td>\n",
       "      <td>...</td>\n",
       "      <td>...</td>\n",
       "    </tr>\n",
       "    <tr>\n",
       "      <th>395015</th>\n",
       "      <td>427656</td>\n",
       "      <td>38849145</td>\n",
       "      <td>94</td>\n",
       "      <td>def helke(text):\\n    for letter in text:\\n   ...</td>\n",
       "      <td>False</td>\n",
       "      <td>0</td>\n",
       "      <td>752650</td>\n",
       "      <td>2023-09-17 21:17:31</td>\n",
       "      <td>()</td>\n",
       "      <td>()</td>\n",
       "      <td>[]</td>\n",
       "    </tr>\n",
       "    <tr>\n",
       "      <th>395016</th>\n",
       "      <td>427657</td>\n",
       "      <td>38849145</td>\n",
       "      <td>94</td>\n",
       "      <td>def helke(text):\\n    for letter in text:\\n   ...</td>\n",
       "      <td>True</td>\n",
       "      <td>0</td>\n",
       "      <td>899300</td>\n",
       "      <td>2023-09-17 21:19:57</td>\n",
       "      <td>(E251, E251, E251, E251)</td>\n",
       "      <td>(4:27: E251 unexpected spaces around keyword /...</td>\n",
       "      <td>[30, 30, 30, 30]</td>\n",
       "    </tr>\n",
       "    <tr>\n",
       "      <th>395017</th>\n",
       "      <td>427658</td>\n",
       "      <td>38849145</td>\n",
       "      <td>145</td>\n",
       "      <td>def letter_distances(text):\\n    for index, le...</td>\n",
       "      <td>True</td>\n",
       "      <td>0</td>\n",
       "      <td>787950</td>\n",
       "      <td>2023-09-17 21:46:45</td>\n",
       "      <td>(C0103, C0103)</td>\n",
       "      <td>(3:8: C0103 Variable name \"currentLetter\" does...</td>\n",
       "      <td>[32, 32]</td>\n",
       "    </tr>\n",
       "    <tr>\n",
       "      <th>395018</th>\n",
       "      <td>427659</td>\n",
       "      <td>38849145</td>\n",
       "      <td>26</td>\n",
       "      <td>def censorship(text):\\n    result = ''\\n    fo...</td>\n",
       "      <td>True</td>\n",
       "      <td>0</td>\n",
       "      <td>20100</td>\n",
       "      <td>2023-09-17 22:16:37</td>\n",
       "      <td>(E9996,)</td>\n",
       "      <td>(3:4: E9996 This loop will only ever run for o...</td>\n",
       "      <td>[]</td>\n",
       "    </tr>\n",
       "    <tr>\n",
       "      <th>395019</th>\n",
       "      <td>427660</td>\n",
       "      <td>56051198</td>\n",
       "      <td>97</td>\n",
       "      <td>def animals(n):\\n    print(\"ovce\")</td>\n",
       "      <td>False</td>\n",
       "      <td>0</td>\n",
       "      <td>443750</td>\n",
       "      <td>2023-09-17 23:06:56</td>\n",
       "      <td>()</td>\n",
       "      <td>()</td>\n",
       "      <td>[]</td>\n",
       "    </tr>\n",
       "  </tbody>\n",
       "</table>\n",
       "<p>393507 rows × 11 columns</p>\n",
       "</div>"
      ],
      "text/plain": [
       "            id      user  item  \\\n",
       "0         8934   2121562    33   \n",
       "1         8935   2121562    33   \n",
       "2         8936   2121562    33   \n",
       "3         8937   2121562    33   \n",
       "4         8938   2121562    33   \n",
       "...        ...       ...   ...   \n",
       "395015  427656  38849145    94   \n",
       "395016  427657  38849145    94   \n",
       "395017  427658  38849145   145   \n",
       "395018  427659  38849145    26   \n",
       "395019  427660  56051198    97   \n",
       "\n",
       "                                                   answer  correct  moves  \\\n",
       "0           def impose_fine(age, beer):\\n    return False    False     -1   \n",
       "1           def impose_fine(age, beer):\\n    return False    False     -1   \n",
       "2           def impose_fine(age, beer):\\n    return False    False     -1   \n",
       "3           def impose_fine(age, beer):\\n    return False    False     -1   \n",
       "4           def impose_fine(age, beer):\\n    return False    False     -1   \n",
       "...                                                   ...      ...    ...   \n",
       "395015  def helke(text):\\n    for letter in text:\\n   ...    False      0   \n",
       "395016  def helke(text):\\n    for letter in text:\\n   ...     True      0   \n",
       "395017  def letter_distances(text):\\n    for index, le...     True      0   \n",
       "395018  def censorship(text):\\n    result = ''\\n    fo...     True      0   \n",
       "395019                 def animals(n):\\n    print(\"ovce\")    False      0   \n",
       "\n",
       "        responseTime                time                     codes  \\\n",
       "0               4600 2018-08-02 14:14:38                        ()   \n",
       "1               9000 2018-08-02 14:14:44                        ()   \n",
       "2              10000 2018-08-02 14:14:45                        ()   \n",
       "3              10700 2018-08-02 14:14:46                        ()   \n",
       "4              12200 2018-08-02 14:14:48                        ()   \n",
       "...              ...                 ...                       ...   \n",
       "395015        752650 2023-09-17 21:17:31                        ()   \n",
       "395016        899300 2023-09-17 21:19:57  (E251, E251, E251, E251)   \n",
       "395017        787950 2023-09-17 21:46:45            (C0103, C0103)   \n",
       "395018         20100 2023-09-17 22:16:37                  (E9996,)   \n",
       "395019        443750 2023-09-17 23:06:56                        ()   \n",
       "\n",
       "                                                     text           defects  \n",
       "0                                                      ()                []  \n",
       "1                                                      ()                []  \n",
       "2                                                      ()                []  \n",
       "3                                                      ()                []  \n",
       "4                                                      ()                []  \n",
       "...                                                   ...               ...  \n",
       "395015                                                 ()                []  \n",
       "395016  (4:27: E251 unexpected spaces around keyword /...  [30, 30, 30, 30]  \n",
       "395017  (3:8: C0103 Variable name \"currentLetter\" does...          [32, 32]  \n",
       "395018  (3:4: E9996 This loop will only ever run for o...                []  \n",
       "395019                                                 ()                []  \n",
       "\n",
       "[393507 rows x 11 columns]"
      ]
     },
     "execution_count": 6,
     "metadata": {},
     "output_type": "execute_result"
    }
   ],
   "source": [
    "log"
   ]
  },
  {
   "cell_type": "markdown",
   "metadata": {},
   "source": [
    "TODO try with only correct/final submissions"
   ]
  },
  {
   "cell_type": "markdown",
   "metadata": {},
   "source": [
    "# Exploration"
   ]
  },
  {
   "cell_type": "markdown",
   "metadata": {},
   "source": [
    "## Defects Histogram"
   ]
  },
  {
   "cell_type": "code",
   "execution_count": 78,
   "metadata": {},
   "outputs": [],
   "source": [
    "counts = defect_log.sum(axis=0).sort_values(ascending=False)\n",
    "percentages = counts / len(defect_log) * 100"
   ]
  },
  {
   "cell_type": "code",
   "execution_count": 80,
   "metadata": {},
   "outputs": [
    {
     "data": {
      "image/png": "[encoded data removed]",
      "text/plain": [
       "<Figure size 1000x700 with 1 Axes>"
      ]
     },
     "metadata": {},
     "output_type": "display_data"
    }
   ],
   "source": [
    "fig, ax = plt.subplots(layout=\"constrained\", figsize=figsize)\n",
    "\n",
    "p = ax.bar([defects['defect name'].loc[idx] for idx in counts.index], percentages)\n",
    "\n",
    "ax.bar_label(p, labels = counts, label_type='edge', rotation=45)\n",
    "\n",
    "ax.set_ylabel('% of submissions')\n",
    "plt.xticks(rotation = 45, ha='right')\n",
    "ax.set_title('Submissions containing a defect ({} submissions in total)'.format(len(defect_log)))\n",
    "\n",
    "# plt.savefig('histogram.png', dpi=300)\n",
    "plt.show()"
   ]
  },
  {
   "cell_type": "markdown",
   "metadata": {},
   "source": [
    "## Submissions Histogram"
   ]
  },
  {
   "cell_type": "code",
   "execution_count": 72,
   "metadata": {},
   "outputs": [],
   "source": [
    "counts = defect_log.sum(axis=1).value_counts()"
   ]
  },
  {
   "cell_type": "code",
   "execution_count": 74,
   "metadata": {},
   "outputs": [
    {
     "data": {
      "text/plain": [
       "0    207319\n",
       "1    131771\n",
       "2     44921\n",
       "3      7939\n",
       "4      1300\n",
       "5       193\n",
       "6        60\n",
       "7         3\n",
       "8         1\n",
       "Name: count, dtype: int64"
      ]
     },
     "execution_count": 74,
     "metadata": {},
     "output_type": "execute_result"
    }
   ],
   "source": [
    "counts"
   ]
  },
  {
   "cell_type": "code",
   "execution_count": 76,
   "metadata": {},
   "outputs": [
    {
     "data": {
      "image/png": "[encoded data removed]",
      "text/plain": [
       "<Figure size 1000x700 with 1 Axes>"
      ]
     },
     "metadata": {},
     "output_type": "display_data"
    }
   ],
   "source": [
    "num_of_submissions = [str(i) for i in range(5)] + ['>=5']\n",
    "defect_count = list(counts[:5]) + [counts[5:].sum()]\n",
    "defect_percentage = list(map(lambda x: x / len(defect_log) * 100, defect_count))\n",
    "\n",
    "fig, ax = plt.subplots(layout=\"constrained\", figsize=figsize)\n",
    "\n",
    "p = ax.bar(num_of_submissions, defect_percentage)\n",
    "\n",
    "ax.bar_label(p, labels = defect_count, label_type='edge')\n",
    "\n",
    "ax.set_ylabel('% of submissions')\n",
    "ax.set_xlabel('Number of defects')\n",
    "ax.set_title('Submissions by the number of unique defects ({} in total)'.format(len(defect_log)))\n",
    "\n",
    "# plt.savefig('histogram.png', dpi=300)\n",
    "plt.show()"
   ]
  },
  {
   "cell_type": "markdown",
   "metadata": {},
   "source": [
    "## Co-occurance matrix"
   ]
  },
  {
   "cell_type": "code",
   "execution_count": 94,
   "metadata": {},
   "outputs": [],
   "source": [
    "# co-occurances\n",
    "\n",
    "co_occurances = (defect_log.T.dot(defect_log)).values\n",
    "np.fill_diagonal(co_occurances, 0)"
   ]
  },
  {
   "cell_type": "code",
   "execution_count": 90,
   "metadata": {},
   "outputs": [
    {
     "data": {
      "text/plain": [
       "14.0"
      ]
     },
     "execution_count": 90,
     "metadata": {},
     "output_type": "execute_result"
    }
   ],
   "source": [
    "(co_occurances > 1000).sum() / 2"
   ]
  },
  {
   "cell_type": "code",
   "execution_count": 95,
   "metadata": {},
   "outputs": [
    {
     "data": {
      "application/vnd.plotly.v1+json": {
       "config": {
        "plotlyServerURL": "https://plot.ly"
       },
       "data": [
        {
         "coloraxis": "coloraxis",
         "hovertemplate": "x: %{x}<br>y: %{y}<br>color: %{z}<extra></extra>",
         "name": "0",
         "type": "heatmap",
         "xaxis": "x",
         "yaxis": "y",
         "z": [
          [
           0,
           18,
           37,
           142,
           61,
           301,
           183,
           85,
           6618,
           11,
           151,
           1,
           21,
           0,
           10,
           15,
           12,
           36,
           0,
           1,
           1006,
           22,
           1,
           0,
           13
          ],
          [
           18,
           0,
           20,
           20,
           5,
           528,
           10,
           30,
           904,
           0,
           50,
           0,
           4,
           3,
           0,
           6,
           0,
           23,
           0,
           3,
           300,
           9,
           7,
           7,
           0
          ],
          [
           37,
           20,
           0,
           39,
           23,
           106,
           58,
           213,
           1465,
           6,
           51,
           0,
           11,
           0,
           4,
           7,
           2,
           96,
           0,
           0,
           471,
           24,
           0,
           7,
           0
          ],
          [
           142,
           20,
           39,
           0,
           36,
           259,
           62,
           94,
           2335,
           43,
           208,
           0,
           37,
           10,
           27,
           52,
           41,
           39,
           0,
           1,
           1103,
           31,
           2,
           0,
           43
          ],
          [
           61,
           5,
           23,
           36,
           0,
           139,
           23,
           11,
           490,
           0,
           12,
           2,
           0,
           1,
           1,
           1,
           3,
           20,
           0,
           0,
           239,
           1,
           5,
           0,
           22
          ],
          [
           301,
           528,
           106,
           259,
           139,
           0,
           117,
           149,
           8890,
           6,
           352,
           1,
           176,
           12,
           205,
           157,
           49,
           222,
           0,
           4,
           2925,
           71,
           3,
           7,
           2
          ],
          [
           183,
           10,
           58,
           62,
           23,
           117,
           0,
           111,
           2352,
           44,
           82,
           0,
           14,
           3,
           3,
           12,
           0,
           130,
           0,
           0,
           404,
           9,
           26,
           0,
           41
          ],
          [
           85,
           30,
           213,
           94,
           11,
           149,
           111,
           0,
           3129,
           7,
           76,
           0,
           125,
           3,
           2,
           33,
           8,
           261,
           1,
           0,
           1228,
           10,
           3,
           0,
           0
          ],
          [
           6618,
           904,
           1465,
           2335,
           490,
           8890,
           2352,
           3129,
           0,
           343,
           4651,
           23,
           732,
           300,
           275,
           714,
           338,
           4877,
           2,
           28,
           21421,
           900,
           51,
           163,
           87
          ],
          [
           11,
           0,
           6,
           43,
           0,
           6,
           44,
           7,
           343,
           0,
           45,
           0,
           0,
           3,
           0,
           2,
           0,
           1,
           0,
           0,
           134,
           2,
           0,
           72,
           39
          ],
          [
           151,
           50,
           51,
           208,
           12,
           352,
           82,
           76,
           4651,
           45,
           0,
           0,
           18,
           41,
           9,
           83,
           8,
           185,
           0,
           6,
           1177,
           185,
           0,
           7,
           41
          ],
          [
           1,
           0,
           0,
           0,
           2,
           1,
           0,
           0,
           23,
           0,
           0,
           0,
           0,
           0,
           0,
           5,
           0,
           1,
           0,
           0,
           10,
           0,
           0,
           0,
           0
          ],
          [
           21,
           4,
           11,
           37,
           0,
           176,
           14,
           125,
           732,
           0,
           18,
           0,
           0,
           1,
           1,
           16,
           7,
           5,
           0,
           0,
           302,
           38,
           0,
           0,
           0
          ],
          [
           0,
           3,
           0,
           10,
           1,
           12,
           3,
           3,
           300,
           3,
           41,
           0,
           1,
           0,
           1,
           18,
           1,
           4,
           0,
           0,
           106,
           2,
           0,
           0,
           0
          ],
          [
           10,
           0,
           4,
           27,
           1,
           205,
           3,
           2,
           275,
           0,
           9,
           0,
           1,
           1,
           0,
           3,
           0,
           1,
           0,
           0,
           70,
           7,
           0,
           0,
           0
          ],
          [
           15,
           6,
           7,
           52,
           1,
           157,
           12,
           33,
           714,
           2,
           83,
           5,
           16,
           18,
           3,
           0,
           4,
           31,
           0,
           2,
           278,
           20,
           0,
           0,
           0
          ],
          [
           12,
           0,
           2,
           41,
           3,
           49,
           0,
           8,
           338,
           0,
           8,
           0,
           7,
           1,
           0,
           4,
           0,
           11,
           0,
           3,
           129,
           3,
           2,
           0,
           0
          ],
          [
           36,
           23,
           96,
           39,
           20,
           222,
           130,
           261,
           4877,
           1,
           185,
           1,
           5,
           4,
           1,
           31,
           11,
           0,
           0,
           0,
           890,
           17,
           5,
           8,
           0
          ],
          [
           0,
           0,
           0,
           0,
           0,
           0,
           0,
           1,
           2,
           0,
           0,
           0,
           0,
           0,
           0,
           0,
           0,
           0,
           0,
           0,
           1,
           0,
           0,
           0,
           0
          ],
          [
           1,
           3,
           0,
           1,
           0,
           4,
           0,
           0,
           28,
           0,
           6,
           0,
           0,
           0,
           0,
           2,
           3,
           0,
           0,
           0,
           15,
           0,
           0,
           0,
           0
          ],
          [
           1006,
           300,
           471,
           1103,
           239,
           2925,
           404,
           1228,
           21421,
           134,
           1177,
           10,
           302,
           106,
           70,
           278,
           129,
           890,
           1,
           15,
           0,
           233,
           47,
           43,
           38
          ],
          [
           22,
           9,
           24,
           31,
           1,
           71,
           9,
           10,
           900,
           2,
           185,
           0,
           38,
           2,
           7,
           20,
           3,
           17,
           0,
           0,
           233,
           0,
           0,
           0,
           1
          ],
          [
           1,
           7,
           0,
           2,
           5,
           3,
           26,
           3,
           51,
           0,
           0,
           0,
           0,
           0,
           0,
           0,
           2,
           5,
           0,
           0,
           47,
           0,
           0,
           1,
           0
          ],
          [
           0,
           7,
           7,
           0,
           0,
           7,
           0,
           0,
           163,
           72,
           7,
           0,
           0,
           0,
           0,
           0,
           0,
           8,
           0,
           0,
           43,
           0,
           1,
           0,
           0
          ],
          [
           13,
           0,
           0,
           43,
           22,
           2,
           41,
           0,
           87,
           39,
           41,
           0,
           0,
           0,
           0,
           0,
           0,
           0,
           0,
           0,
           38,
           1,
           0,
           0,
           0
          ]
         ]
        }
       ],
       "layout": {
        "coloraxis": {
         "colorscale": [
          [
           0,
           "#0d0887"
          ],
          [
           0.1111111111111111,
           "#46039f"
          ],
          [
           0.2222222222222222,
           "#7201a8"
          ],
          [
           0.3333333333333333,
           "#9c179e"
          ],
          [
           0.4444444444444444,
           "#bd3786"
          ],
          [
           0.5555555555555556,
           "#d8576b"
          ],
          [
           0.6666666666666666,
           "#ed7953"
          ],
          [
           0.7777777777777778,
           "#fb9f3a"
          ],
          [
           0.8888888888888888,
           "#fdca26"
          ],
          [
           1,
           "#f0f921"
          ]
         ]
        },
        "margin": {
         "t": 60
        },
        "template": {
         "data": {
          "bar": [
           {
            "error_x": {
             "color": "#2a3f5f"
            },
            "error_y": {
             "color": "#2a3f5f"
            },
            "marker": {
             "line": {
              "color": "#E5ECF6",
              "width": 0.5
             },
             "pattern": {
              "fillmode": "overlay",
              "size": 10,
              "solidity": 0.2
             }
            },
            "type": "bar"
           }
          ],
          "barpolar": [
           {
            "marker": {
             "line": {
              "color": "#E5ECF6",
              "width": 0.5
             },
             "pattern": {
              "fillmode": "overlay",
              "size": 10,
              "solidity": 0.2
             }
            },
            "type": "barpolar"
           }
          ],
          "carpet": [
           {
            "aaxis": {
             "endlinecolor": "#2a3f5f",
             "gridcolor": "white",
             "linecolor": "white",
             "minorgridcolor": "white",
             "startlinecolor": "#2a3f5f"
            },
            "baxis": {
             "endlinecolor": "#2a3f5f",
             "gridcolor": "white",
             "linecolor": "white",
             "minorgridcolor": "white",
             "startlinecolor": "#2a3f5f"
            },
            "type": "carpet"
           }
          ],
          "choropleth": [
           {
            "colorbar": {
             "outlinewidth": 0,
             "ticks": ""
            },
            "type": "choropleth"
           }
          ],
          "contour": [
           {
            "colorbar": {
             "outlinewidth": 0,
             "ticks": ""
            },
            "colorscale": [
             [
              0,
              "#0d0887"
             ],
             [
              0.1111111111111111,
              "#46039f"
             ],
             [
              0.2222222222222222,
              "#7201a8"
             ],
             [
              0.3333333333333333,
              "#9c179e"
             ],
             [
              0.4444444444444444,
              "#bd3786"
             ],
             [
              0.5555555555555556,
              "#d8576b"
             ],
             [
              0.6666666666666666,
              "#ed7953"
             ],
             [
              0.7777777777777778,
              "#fb9f3a"
             ],
             [
              0.8888888888888888,
              "#fdca26"
             ],
             [
              1,
              "#f0f921"
             ]
            ],
            "type": "contour"
           }
          ],
          "contourcarpet": [
           {
            "colorbar": {
             "outlinewidth": 0,
             "ticks": ""
            },
            "type": "contourcarpet"
           }
          ],
          "heatmap": [
           {
            "colorbar": {
             "outlinewidth": 0,
             "ticks": ""
            },
            "colorscale": [
             [
              0,
              "#0d0887"
             ],
             [
              0.1111111111111111,
              "#46039f"
             ],
             [
              0.2222222222222222,
              "#7201a8"
             ],
             [
              0.3333333333333333,
              "#9c179e"
             ],
             [
              0.4444444444444444,
              "#bd3786"
             ],
             [
              0.5555555555555556,
              "#d8576b"
             ],
             [
              0.6666666666666666,
              "#ed7953"
             ],
             [
              0.7777777777777778,
              "#fb9f3a"
             ],
             [
              0.8888888888888888,
              "#fdca26"
             ],
             [
              1,
              "#f0f921"
             ]
            ],
            "type": "heatmap"
           }
          ],
          "heatmapgl": [
           {
            "colorbar": {
             "outlinewidth": 0,
             "ticks": ""
            },
            "colorscale": [
             [
              0,
              "#0d0887"
             ],
             [
              0.1111111111111111,
              "#46039f"
             ],
             [
              0.2222222222222222,
              "#7201a8"
             ],
             [
              0.3333333333333333,
              "#9c179e"
             ],
             [
              0.4444444444444444,
              "#bd3786"
             ],
             [
              0.5555555555555556,
              "#d8576b"
             ],
             [
              0.6666666666666666,
              "#ed7953"
             ],
             [
              0.7777777777777778,
              "#fb9f3a"
             ],
             [
              0.8888888888888888,
              "#fdca26"
             ],
             [
              1,
              "#f0f921"
             ]
            ],
            "type": "heatmapgl"
           }
          ],
          "histogram": [
           {
            "marker": {
             "pattern": {
              "fillmode": "overlay",
              "size": 10,
              "solidity": 0.2
             }
            },
            "type": "histogram"
           }
          ],
          "histogram2d": [
           {
            "colorbar": {
             "outlinewidth": 0,
             "ticks": ""
            },
            "colorscale": [
             [
              0,
              "#0d0887"
             ],
             [
              0.1111111111111111,
              "#46039f"
             ],
             [
              0.2222222222222222,
              "#7201a8"
             ],
             [
              0.3333333333333333,
              "#9c179e"
             ],
             [
              0.4444444444444444,
              "#bd3786"
             ],
             [
              0.5555555555555556,
              "#d8576b"
             ],
             [
              0.6666666666666666,
              "#ed7953"
             ],
             [
              0.7777777777777778,
              "#fb9f3a"
             ],
             [
              0.8888888888888888,
              "#fdca26"
             ],
             [
              1,
              "#f0f921"
             ]
            ],
            "type": "histogram2d"
           }
          ],
          "histogram2dcontour": [
           {
            "colorbar": {
             "outlinewidth": 0,
             "ticks": ""
            },
            "colorscale": [
             [
              0,
              "#0d0887"
             ],
             [
              0.1111111111111111,
              "#46039f"
             ],
             [
              0.2222222222222222,
              "#7201a8"
             ],
             [
              0.3333333333333333,
              "#9c179e"
             ],
             [
              0.4444444444444444,
              "#bd3786"
             ],
             [
              0.5555555555555556,
              "#d8576b"
             ],
             [
              0.6666666666666666,
              "#ed7953"
             ],
             [
              0.7777777777777778,
              "#fb9f3a"
             ],
             [
              0.8888888888888888,
              "#fdca26"
             ],
             [
              1,
              "#f0f921"
             ]
            ],
            "type": "histogram2dcontour"
           }
          ],
          "mesh3d": [
           {
            "colorbar": {
             "outlinewidth": 0,
             "ticks": ""
            },
            "type": "mesh3d"
           }
          ],
          "parcoords": [
           {
            "line": {
             "colorbar": {
              "outlinewidth": 0,
              "ticks": ""
             }
            },
            "type": "parcoords"
           }
          ],
          "pie": [
           {
            "automargin": true,
            "type": "pie"
           }
          ],
          "scatter": [
           {
            "fillpattern": {
             "fillmode": "overlay",
             "size": 10,
             "solidity": 0.2
            },
            "type": "scatter"
           }
          ],
          "scatter3d": [
           {
            "line": {
             "colorbar": {
              "outlinewidth": 0,
              "ticks": ""
             }
            },
            "marker": {
             "colorbar": {
              "outlinewidth": 0,
              "ticks": ""
             }
            },
            "type": "scatter3d"
           }
          ],
          "scattercarpet": [
           {
            "marker": {
             "colorbar": {
              "outlinewidth": 0,
              "ticks": ""
             }
            },
            "type": "scattercarpet"
           }
          ],
          "scattergeo": [
           {
            "marker": {
             "colorbar": {
              "outlinewidth": 0,
              "ticks": ""
             }
            },
            "type": "scattergeo"
           }
          ],
          "scattergl": [
           {
            "marker": {
             "colorbar": {
              "outlinewidth": 0,
              "ticks": ""
             }
            },
            "type": "scattergl"
           }
          ],
          "scattermapbox": [
           {
            "marker": {
             "colorbar": {
              "outlinewidth": 0,
              "ticks": ""
             }
            },
            "type": "scattermapbox"
           }
          ],
          "scatterpolar": [
           {
            "marker": {
             "colorbar": {
              "outlinewidth": 0,
              "ticks": ""
             }
            },
            "type": "scatterpolar"
           }
          ],
          "scatterpolargl": [
           {
            "marker": {
             "colorbar": {
              "outlinewidth": 0,
              "ticks": ""
             }
            },
            "type": "scatterpolargl"
           }
          ],
          "scatterternary": [
           {
            "marker": {
             "colorbar": {
              "outlinewidth": 0,
              "ticks": ""
             }
            },
            "type": "scatterternary"
           }
          ],
          "surface": [
           {
            "colorbar": {
             "outlinewidth": 0,
             "ticks": ""
            },
            "colorscale": [
             [
              0,
              "#0d0887"
             ],
             [
              0.1111111111111111,
              "#46039f"
             ],
             [
              0.2222222222222222,
              "#7201a8"
             ],
             [
              0.3333333333333333,
              "#9c179e"
             ],
             [
              0.4444444444444444,
              "#bd3786"
             ],
             [
              0.5555555555555556,
              "#d8576b"
             ],
             [
              0.6666666666666666,
              "#ed7953"
             ],
             [
              0.7777777777777778,
              "#fb9f3a"
             ],
             [
              0.8888888888888888,
              "#fdca26"
             ],
             [
              1,
              "#f0f921"
             ]
            ],
            "type": "surface"
           }
          ],
          "table": [
           {
            "cells": {
             "fill": {
              "color": "#EBF0F8"
             },
             "line": {
              "color": "white"
             }
            },
            "header": {
             "fill": {
              "color": "#C8D4E3"
             },
             "line": {
              "color": "white"
             }
            },
            "type": "table"
           }
          ]
         },
         "layout": {
          "annotationdefaults": {
           "arrowcolor": "#2a3f5f",
           "arrowhead": 0,
           "arrowwidth": 1
          },
          "autotypenumbers": "strict",
          "coloraxis": {
           "colorbar": {
            "outlinewidth": 0,
            "ticks": ""
           }
          },
          "colorscale": {
           "diverging": [
            [
             0,
             "#8e0152"
            ],
            [
             0.1,
             "#c51b7d"
            ],
            [
             0.2,
             "#de77ae"
            ],
            [
             0.3,
             "#f1b6da"
            ],
            [
             0.4,
             "#fde0ef"
            ],
            [
             0.5,
             "#f7f7f7"
            ],
            [
             0.6,
             "#e6f5d0"
            ],
            [
             0.7,
             "#b8e186"
            ],
            [
             0.8,
             "#7fbc41"
            ],
            [
             0.9,
             "#4d9221"
            ],
            [
             1,
             "#276419"
            ]
           ],
           "sequential": [
            [
             0,
             "#0d0887"
            ],
            [
             0.1111111111111111,
             "#46039f"
            ],
            [
             0.2222222222222222,
             "#7201a8"
            ],
            [
             0.3333333333333333,
             "#9c179e"
            ],
            [
             0.4444444444444444,
             "#bd3786"
            ],
            [
             0.5555555555555556,
             "#d8576b"
            ],
            [
             0.6666666666666666,
             "#ed7953"
            ],
            [
             0.7777777777777778,
             "#fb9f3a"
            ],
            [
             0.8888888888888888,
             "#fdca26"
            ],
            [
             1,
             "#f0f921"
            ]
           ],
           "sequentialminus": [
            [
             0,
             "#0d0887"
            ],
            [
             0.1111111111111111,
             "#46039f"
            ],
            [
             0.2222222222222222,
             "#7201a8"
            ],
            [
             0.3333333333333333,
             "#9c179e"
            ],
            [
             0.4444444444444444,
             "#bd3786"
            ],
            [
             0.5555555555555556,
             "#d8576b"
            ],
            [
             0.6666666666666666,
             "#ed7953"
            ],
            [
             0.7777777777777778,
             "#fb9f3a"
            ],
            [
             0.8888888888888888,
             "#fdca26"
            ],
            [
             1,
             "#f0f921"
            ]
           ]
          },
          "colorway": [
           "#636efa",
           "#EF553B",
           "#00cc96",
           "#ab63fa",
           "#FFA15A",
           "#19d3f3",
           "#FF6692",
           "#B6E880",
           "#FF97FF",
           "#FECB52"
          ],
          "font": {
           "color": "#2a3f5f"
          },
          "geo": {
           "bgcolor": "white",
           "lakecolor": "white",
           "landcolor": "#E5ECF6",
           "showlakes": true,
           "showland": true,
           "subunitcolor": "white"
          },
          "hoverlabel": {
           "align": "left"
          },
          "hovermode": "closest",
          "mapbox": {
           "style": "light"
          },
          "paper_bgcolor": "white",
          "plot_bgcolor": "#E5ECF6",
          "polar": {
           "angularaxis": {
            "gridcolor": "white",
            "linecolor": "white",
            "ticks": ""
           },
           "bgcolor": "#E5ECF6",
           "radialaxis": {
            "gridcolor": "white",
            "linecolor": "white",
            "ticks": ""
           }
          },
          "scene": {
           "xaxis": {
            "backgroundcolor": "#E5ECF6",
            "gridcolor": "white",
            "gridwidth": 2,
            "linecolor": "white",
            "showbackground": true,
            "ticks": "",
            "zerolinecolor": "white"
           },
           "yaxis": {
            "backgroundcolor": "#E5ECF6",
            "gridcolor": "white",
            "gridwidth": 2,
            "linecolor": "white",
            "showbackground": true,
            "ticks": "",
            "zerolinecolor": "white"
           },
           "zaxis": {
            "backgroundcolor": "#E5ECF6",
            "gridcolor": "white",
            "gridwidth": 2,
            "linecolor": "white",
            "showbackground": true,
            "ticks": "",
            "zerolinecolor": "white"
           }
          },
          "shapedefaults": {
           "line": {
            "color": "#2a3f5f"
           }
          },
          "ternary": {
           "aaxis": {
            "gridcolor": "white",
            "linecolor": "white",
            "ticks": ""
           },
           "baxis": {
            "gridcolor": "white",
            "linecolor": "white",
            "ticks": ""
           },
           "bgcolor": "#E5ECF6",
           "caxis": {
            "gridcolor": "white",
            "linecolor": "white",
            "ticks": ""
           }
          },
          "title": {
           "x": 0.05
          },
          "xaxis": {
           "automargin": true,
           "gridcolor": "white",
           "linecolor": "white",
           "ticks": "",
           "title": {
            "standoff": 15
           },
           "zerolinecolor": "white",
           "zerolinewidth": 2
          },
          "yaxis": {
           "automargin": true,
           "gridcolor": "white",
           "linecolor": "white",
           "ticks": "",
           "title": {
            "standoff": 15
           },
           "zerolinecolor": "white",
           "zerolinewidth": 2
          }
         }
        },
        "xaxis": {
         "anchor": "y",
         "constrain": "domain",
         "domain": [
          0,
          1
         ],
         "scaleanchor": "y"
        },
        "yaxis": {
         "anchor": "x",
         "autorange": "reversed",
         "constrain": "domain",
         "domain": [
          0,
          1
         ]
        }
       }
      }
     },
     "metadata": {},
     "output_type": "display_data"
    }
   ],
   "source": [
    "px.imshow(co_occurances)"
   ]
  },
  {
   "cell_type": "code",
   "execution_count": 85,
   "metadata": {},
   "outputs": [
    {
     "data": {
      "image/png": "[encoded data removed]",
      "text/plain": [
       "<Figure size 1000x700 with 1 Axes>"
      ]
     },
     "metadata": {},
     "output_type": "display_data"
    }
   ],
   "source": [
    "fig, ax = plt.subplots(layout=\"constrained\", figsize=figsize)\n",
    "\n",
    "p = ax.imshow(co_occurances)\n",
    "\n",
    "# plt.savefig('histogram.png', dpi=300)\n",
    "plt.show()"
   ]
  }
 ],
 "metadata": {
  "kernelspec": {
   "display_name": ".venv",
   "language": "python",
   "name": "python3"
  },
  "language_info": {
   "codemirror_mode": {
    "name": "ipython",
    "version": 3
   },
   "file_extension": ".py",
   "mimetype": "text/x-python",
   "name": "python",
   "nbconvert_exporter": "python",
   "pygments_lexer": "ipython3",
   "version": "3.10.7"
  }
 },
 "nbformat": 4,
 "nbformat_minor": 2
}
