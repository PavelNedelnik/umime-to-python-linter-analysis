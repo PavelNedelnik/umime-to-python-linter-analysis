{
 "cells": [
  {
   "cell_type": "markdown",
   "metadata": {},
   "source": [
    "# Setup"
   ]
  },
  {
   "cell_type": "code",
   "execution_count": null,
   "metadata": {},
   "outputs": [],
   "source": [
    "import os\n",
    "import json\n",
    "\n",
    "import pandas as pd\n",
    "\n",
    "from pathlib import Path\n",
    "\n",
    "from src.code_processing import parse_code_string\n",
    "\n",
    "CONFIG = {\n",
    "    \"version\": \"0.0.0\",\n",
    "    \"only_correct\": True,\n",
    "    \"only_final\": True,\n",
    "    \"notes\": \"Final version of the dataset.\",\n",
    "}\n",
    "\n",
    "DATA_PATH = Path(\"data\")\n",
    "IPYTHON_PATH = Path(\"data\") / \"ipython_new\"\n",
    "OUTPUT_PATH = DATA_PATH / \"datasets\" / ('ipython_' + CONFIG[\"version\"])"
   ]
  },
  {
   "cell_type": "markdown",
   "metadata": {},
   "source": [
    "***\n",
    "\n",
    "# Loading and Cleaning Task Information (Items)"
   ]
  },
  {
   "cell_type": "code",
   "execution_count": null,
   "metadata": {},
   "outputs": [],
   "source": [
    "# Load items data\n",
    "items = pd.read_csv(IPYTHON_PATH / \"item.csv\", sep=\";\", index_col=0)\n",
    "\n",
    "# Keep only relevant columns\n",
    "items = items[[\"name\", \"instructions\", \"solution\", \"democode\"]]\n",
    "\n",
    "# Extract user instructions\n",
    "items[\"instructions\"] = items[\"instructions\"].apply(lambda x: eval(x)[0][1])\n",
    "\n",
    "# Extract and decode example solutions\n",
    "items[\"solution\"] = items[\"solution\"].apply(lambda x: eval(x)[0][1]).apply(parse_code_string)\n",
    "items[\"democode\"] = items[\"democode\"].apply(lambda x: eval(x)[0][1]).apply(parse_code_string)\n",
    "\n",
    "# order by difficulty\n",
    "ps_order = [\n",
    "    \"Proměnné a číselné výrazy\",\n",
    "    \"Cyklus for\",\n",
    "    \"Logické výrazy\",\n",
    "    \"Podmíněný příkaz (if): základy\",\n",
    "    \"Cyklus for s vnořenou podmínkou\",\n",
    "    \"Cyklus while\",\n",
    "    \"Podmíněný příkaz (if): těžší\",\n",
    "    \"Posloupnosti\",\n",
    "    \"Úpravy programů\",\n",
    "    \"Řízení výpočtu\",\n",
    "    \"Textové obrázky\",\n",
    "    \"Řetězce: základy\",\n",
    "    \"Seznamy\",\n",
    "    \"Řetězce: těžší\",\n",
    "    \"Seznamy a řetězce: vnořené\",\n",
    "    \"Slovníky\",\n",
    "    \"Záludné\",\n",
    "]\n",
    "\n",
    "# load problem sets\n",
    "ps = pd.read_csv(IPYTHON_PATH / \"ps.csv\", index_col=0, header=0, sep=\";\")\n",
    "ps = ps[ps[\"url\"].apply(lambda x: \"interaktivni-python\" in x)][[\"topic\", \"ordering\"]]\n",
    "ps.rename(columns={\"ordering\": \"topic order\"}, inplace=True)\n",
    "ps[\"difficulty order\"] = ps[\"topic\"].apply(lambda x: ps_order.index(x))\n",
    "\n",
    "# load mapping to items\n",
    "item_to_ps = pd.read_csv(IPYTHON_PATH / \"ps_problem.csv\", index_col=0, header=0, sep=\";\")\n",
    "item_to_ps = item_to_ps[\n",
    "    item_to_ps[\"problem\"].apply(lambda x: x in items.index) & item_to_ps[\"ps\"].apply(lambda x: x in ps.index)\n",
    "]\n",
    "\n",
    "# add to items\n",
    "keep = items.columns.union(ps.columns).tolist() + [\"id\"]\n",
    "items = (\n",
    "    items.reset_index(names=\"id\")\n",
    "    .merge(item_to_ps, left_on=\"id\", right_on=\"problem\")\n",
    "    .merge(ps, left_on=\"ps\", right_index=True)[keep]\n",
    ")\n",
    "items.set_index(\"id\", inplace=True)"
   ]
  },
  {
   "cell_type": "markdown",
   "metadata": {},
   "source": [
    "***\n",
    "\n",
    "# Loading and Cleaning Submissions (Log)"
   ]
  },
  {
   "cell_type": "code",
   "execution_count": null,
   "metadata": {},
   "outputs": [],
   "source": [
    "# Load log data\n",
    "log = pd.read_csv(IPYTHON_PATH / \"log.csv\", sep=\";\")\n",
    "\n",
    "# Keep only relevant columns\n",
    "log = log[[\"id\", \"user\", \"item\", \"answer\", \"correct\", \"responseTime\", \"time\"]]\n",
    "\n",
    "# Convert time column to datetime and correct data types\n",
    "log[\"time\"] = pd.to_datetime(log[\"time\"])\n",
    "log[\"correct\"] = log[\"correct\"].astype(bool)\n",
    "\n",
    "# Sort by time\n",
    "log.sort_values(\"time\", inplace=True)\n",
    "\n",
    "# Drop problematic rows\n",
    "log.dropna(inplace=True)\n",
    "log.drop_duplicates(inplace=True)\n",
    "\n",
    "# Keep only users with at least 5 submissions\n",
    "log = log[log[\"user\"].map(log[\"user\"].value_counts()) >= 5]\n",
    "\n",
    "# Decode submissions\n",
    "log[\"answer\"] = log[\"answer\"].apply(parse_code_string)\n",
    "\n",
    "# Keep only sessions lasting at least 1 minute\n",
    "log = log[log[\"responseTime\"] >= 6e4]"
   ]
  },
  {
   "cell_type": "markdown",
   "metadata": {},
   "source": [
    "***\n",
    "\n",
    "# Additional Filtering"
   ]
  },
  {
   "cell_type": "code",
   "execution_count": null,
   "metadata": {},
   "outputs": [],
   "source": [
    "# Filter out items with duplicate names\n",
    "duplicate_names = items[\"name\"].value_counts() > 1\n",
    "duplicate_names = duplicate_names[duplicate_names].index\n",
    "if len(duplicate_names) > 0:\n",
    "    for item_name in duplicate_names:\n",
    "        # keep only the first entry in items\n",
    "        duplicate_entries = items[items[\"name\"] == item_name].index\n",
    "        shared_id = duplicate_entries[0]\n",
    "        for id in duplicate_entries[1:]:\n",
    "            # drop from items\n",
    "            if id != shared_id:\n",
    "                items = items[items.index != id]\n",
    "            # propagate shared id to log\n",
    "            log.loc[log[\"item\"] == id, \"item\"] = shared_id\n",
    "\n",
    "# Keep only items with at least 100 submissions\n",
    "valid_items = items.index.isin((log[\"item\"].value_counts() > 100).index)\n",
    "items = items.loc[valid_items]\n",
    "\n",
    "# Filter them out of the log also\n",
    "log = log[log[\"item\"].isin(items.index)]"
   ]
  },
  {
   "cell_type": "markdown",
   "metadata": {},
   "source": [
    "***\n",
    "\n",
    "# Loading and Cleaning Defect Information (Defects)"
   ]
  },
  {
   "cell_type": "code",
   "execution_count": null,
   "metadata": {},
   "outputs": [],
   "source": [
    "# Load defects data\n",
    "defects = pd.read_csv(DATA_PATH / \"defects.csv\")\n",
    "\n",
    "# Keep only relevant columns\n",
    "defects = defects[\n",
    "    [\n",
    "        \"defect name\",\n",
    "        \"EduLint code\",\n",
    "        \"defect type\",\n",
    "        \"description\",\n",
    "        \"code example\",\n",
    "        \"code fix example\",\n",
    "        \"severity\",\n",
    "        \"id\",\n",
    "    ]\n",
    "]\n",
    "\n",
    "# Drop defects not detected by EduLint\n",
    "defects.dropna(subset=[\"EduLint code\"], inplace=True)\n",
    "\n",
    "# Convert EduLint codes from string to tuple\n",
    "defects[\"EduLint code\"] = defects[\"EduLint code\"].apply(lambda x: tuple(map(str.strip, x.split(\",\"))))\n",
    "\n",
    "# Drop noisy defects\n",
    "defects.drop([66, 4], axis=0, inplace=True)\n",
    "\n",
    "# Create a dictionary mapping EduLint codes to defect indices\n",
    "code_to_defect_id = {val: idx for idx, val in defects[\"EduLint code\"].explode().items()}\n",
    "\n",
    "# Replace missing values with empty strings\n",
    "defects[\"code fix example\"] = defects[\"code fix example\"].fillna(\"\")\n",
    "defects[\"code example\"] = defects[\"code example\"].fillna(\"\")"
   ]
  },
  {
   "cell_type": "markdown",
   "metadata": {},
   "source": [
    "***\n",
    "\n",
    "# Loading Detected Defects"
   ]
  },
  {
   "cell_type": "code",
   "execution_count": null,
   "metadata": {},
   "outputs": [],
   "source": [
    "# Load message log data\n",
    "messages = pd.read_csv(IPYTHON_PATH / \"message_log.csv\", index_col=0, header=0)\n",
    "\n",
    "# Remove some of the messages associated with the \"trailing whitespace\" defect\n",
    "messages = messages[~messages[\"message\"].isin([\"no newline at end of file\", \"trailing whitespace\"])]\n",
    "\n",
    "# Keep only the messages still in the ipython log\n",
    "messages = messages[messages[\"log entry\"].isin(log.index)]\n",
    "\n",
    "# Keep only messages with an associated defect\n",
    "messages = messages[messages[\"defect\"].isin(code_to_defect_id.keys())]\n",
    "\n",
    "# Use defect IDs instead of message codes\n",
    "messages[\"defect\"] = messages[\"defect\"].replace(code_to_defect_id).astype(int)\n",
    "\n",
    "messages.reset_index(drop=True, inplace=True)\n",
    "\n",
    "# Create a defect log matrix\n",
    "defect_log = pd.crosstab(messages[\"log entry\"], messages[\"defect\"]).reindex(log.index, fill_value=0)\n",
    "\n",
    "# Keep only correct answers\n",
    "if CONFIG[\"only_correct\"]:\n",
    "    log = log[log[\"correct\"]]\n",
    "\n",
    "# Keep only one answer per session\n",
    "if CONFIG[\"only_final\"]:\n",
    "    log = log.reset_index().groupby([\"user\", \"item\"], as_index=False).last().set_index(\"index\")\n",
    "\n",
    "# Apply the filters to the defect log\n",
    "defect_log = defect_log.loc[log.index]\n",
    "\n",
    "# Keep only detected defects\n",
    "defects = defects.loc[defects.index.isin(defect_log.columns)]\n",
    "defect_log = defect_log.loc[:, defects.index]"
   ]
  },
  {
   "cell_type": "markdown",
   "metadata": {},
   "source": [
    "***\n",
    "\n",
    "# Combining to a Final Dataset"
   ]
  },
  {
   "cell_type": "code",
   "execution_count": null,
   "metadata": {},
   "outputs": [],
   "source": [
    "os.makedirs(OUTPUT_PATH, exist_ok=True)\n",
    "\n",
    "json.dump(CONFIG, open(OUTPUT_PATH / f\"config_{CONFIG['version']}.json\", \"w\"))\n",
    "\n",
    "items.to_csv(OUTPUT_PATH / f\"items_{CONFIG['version']}.csv\")\n",
    "defects.to_csv(OUTPUT_PATH / f\"defects_{CONFIG['version']}.csv\")\n",
    "\n",
    "log.to_csv(OUTPUT_PATH / f\"log_{CONFIG['version']}.csv\")\n",
    "defect_log.to_csv(OUTPUT_PATH / f\"defect_log_{CONFIG['version']}.csv\")\n",
    "\n",
    "json.dump(code_to_defect_id, open(OUTPUT_PATH / f\"code_to_defect_id_{CONFIG['version']}.json\", \"w\"))"
   ]
  }
 ],
 "metadata": {
  "kernelspec": {
   "display_name": ".venv (3.10.7)",
   "language": "python",
   "name": "python3"
  },
  "language_info": {
   "codemirror_mode": {
    "name": "ipython",
    "version": 3
   },
   "file_extension": ".py",
   "mimetype": "text/x-python",
   "name": "python",
   "nbconvert_exporter": "python",
   "pygments_lexer": "ipython3",
   "version": "3.10.7"
  }
 },
 "nbformat": 4,
 "nbformat_minor": 4
}
