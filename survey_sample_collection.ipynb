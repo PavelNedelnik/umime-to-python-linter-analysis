{
 "cells": [
  {
   "cell_type": "markdown",
   "metadata": {},
   "source": [
    "# loading data"
   ]
  },
  {
   "cell_type": "code",
   "execution_count": 1,
   "metadata": {},
   "outputs": [],
   "source": [
    "from pathlib import Path\n",
    "\n",
    "import matplotlib.pyplot as plt\n",
    "import seaborn as sns\n",
    "import plotly.express as px\n",
    "import pandas as pd\n",
    "import numpy as np\n",
    "from ipywidgets import Output\n",
    "from IPython.display import display, HTML\n",
    "\n",
    "\n",
    "from src.code_processing import parse_code_string, generate_linter_messages\n",
    "\n",
    "figsize = (10, 7)\n",
    "resolution = 300 # dpi\n",
    "data_path = Path('data')\n",
    "ipython_path = data_path / 'ipython_new'"
   ]
  },
  {
   "cell_type": "code",
   "execution_count": 2,
   "metadata": {},
   "outputs": [],
   "source": [
    "## load ipython items\n",
    "items = pd.read_csv(ipython_path / 'item.csv', sep=\";\", index_col=0)\n",
    "\n",
    "# drop unused columns\n",
    "items = items[['name', 'instructions', 'solution', 'democode']]\n",
    "# extract user instructions\n",
    "items[\"instructions\"] = items[\"instructions\"].apply(lambda x: eval(x)[0][1])\n",
    "# extract and decode example solutions\n",
    "items[\"solution\"] = items[\"solution\"].apply(lambda x: eval(x)[0][1]).apply(parse_code_string)\n",
    "items[\"democode\"] = items[\"democode\"].apply(lambda x: eval(x)[0][1]).apply(parse_code_string)"
   ]
  },
  {
   "cell_type": "code",
   "execution_count": 3,
   "metadata": {},
   "outputs": [],
   "source": [
    "## load the ipython log\n",
    "log = pd.read_csv(ipython_path / 'log.csv', sep=\";\")\n",
    "\n",
    "# drop unused columns\n",
    "log = log[[\"id\", \"user\", \"item\", \"answer\", \"correct\", \"responseTime\", \"time\"]]\n",
    "# correct data types\n",
    "log[\"time\"] = pd.to_datetime(log[\"time\"])\n",
    "log[\"correct\"] = log[\"correct\"].astype(bool)\n",
    "# drop problematic rows\n",
    "log.dropna(inplace=True)\n",
    "log.drop_duplicates(inplace=True)\n",
    "# decode submissions\n",
    "log[\"answer\"] = log[\"answer\"].apply(parse_code_string)\n",
    "# only correct answers\n",
    "log = log[log[\"correct\"]]\n",
    "log.drop('correct', axis=1, inplace=True)\n",
    "# only one answer per session\n",
    "log = log.reset_index().groupby([\"user\", \"item\"], as_index=False).last().set_index(\"index\")\n",
    "# sorted by time\n",
    "log.sort_values(by='time', inplace=True)"
   ]
  },
  {
   "cell_type": "code",
   "execution_count": 4,
   "metadata": {},
   "outputs": [],
   "source": [
    "# keep only items with at least 100 (correct) submission\n",
    "items = items.loc[items.index.isin((log[\"item\"].value_counts() > 100).index)]\n",
    "\n",
    "# filter them out of the log also\n",
    "log = log[log[\"item\"].isin(items.index)]"
   ]
  },
  {
   "cell_type": "code",
   "execution_count": 5,
   "metadata": {},
   "outputs": [],
   "source": [
    "## load the defect table\n",
    "defects = pd.read_csv(data_path / 'defects.csv')\n",
    "\n",
    "# drop unused columns\n",
    "defects = defects[[\"defect name\", \"EduLint code\", \"defect type\", \"description\", \"code example\", \"code fix example\", \"severity\", \"id\"]]\n",
    "# drop defects not detected by EduLint\n",
    "defects.dropna(subset=[\"EduLint code\"], inplace=True)\n",
    "# convert EduLint codes from string to tuple\n",
    "defects[\"EduLint code\"] = defects[\"EduLint code\"].apply(lambda x: tuple(map(str.strip, x.split(\",\"))))\n",
    "# drop the \"missing docstring\" defect (not really appropriate in the context)\n",
    "# drop the \"mixed indentation\" defect (it is exceptionally noisy - errors during logging, students copy-pasting, ...)\n",
    "defects.drop([66, 4], axis=0, inplace=True)\n",
    "# create a dictionary mapping EduLint codes to the index of the associated defect\n",
    "code_to_defect_id = {val: idx for idx, val in defects['EduLint code'].explode().items()}"
   ]
  },
  {
   "cell_type": "code",
   "execution_count": 6,
   "metadata": {},
   "outputs": [
    {
     "name": "stderr",
     "output_type": "stream",
     "text": [
      "C:\\Users\\pnede\\AppData\\Local\\Temp\\ipykernel_130732\\1784967134.py:15: FutureWarning: Downcasting behavior in `replace` is deprecated and will be removed in a future version. To retain the old behavior, explicitly call `result.infer_objects(copy=False)`. To opt-in to the future behavior, set `pd.set_option('future.no_silent_downcasting', True)`\n",
      "  messages[\"defect\"] = messages[\"defect\"].replace(code_to_defect_id).astype(int)\n"
     ]
    }
   ],
   "source": [
    "## load the EduLint messages corresponding to the entries in the ipython log\n",
    "# open the message log\n",
    "messages = pd.read_csv(ipython_path / 'message_log.csv', index_col=0, header=0)\n",
    "\n",
    "# remove some of the messages associated with the \"trailing whitespace\" defect (they are likely logging errors)\n",
    "messages = messages[~messages['message'].isin(['no newline at end of file', 'trailing whitespace'])]\n",
    "\n",
    "# keep only the messages still in the ipython log\n",
    "messages = messages[messages[\"log entry\"].isin(log.index)]\n",
    "\n",
    "# keep only messages with an associated defect\n",
    "messages = messages[messages[\"defect\"].isin(code_to_defect_id.keys())]\n",
    "\n",
    "# use defect ids instead of message codes\n",
    "messages[\"defect\"] = messages[\"defect\"].replace(code_to_defect_id).astype(int)\n",
    "\n",
    "messages.reset_index(drop=True, inplace=True)"
   ]
  },
  {
   "cell_type": "code",
   "execution_count": 7,
   "metadata": {},
   "outputs": [],
   "source": [
    "# vectorize defects\n",
    "defect_log = pd.crosstab(messages[\"log entry\"], messages[\"defect\"]).reindex(log.index, fill_value=0)\n",
    "\n",
    "# replace defect counts with presence\n",
    "defect_log = (defect_log > 0).astype(int)\n",
    "\n",
    "# keep only detected defects\n",
    "defects = defects.loc[defects.index.isin(defect_log.columns)]"
   ]
  },
  {
   "cell_type": "code",
   "execution_count": 8,
   "metadata": {},
   "outputs": [],
   "source": [
    "# experiment with other options then mean\n",
    "item_profiles = defect_log.groupby(log['item']).mean()"
   ]
  },
  {
   "cell_type": "markdown",
   "metadata": {},
   "source": [
    "# random sample"
   ]
  },
  {
   "cell_type": "code",
   "execution_count": 9,
   "metadata": {},
   "outputs": [],
   "source": [
    "submission_df = []\n",
    "submission_index = []\n",
    "defect_df = []\n",
    "for idx, row in log[defect_log.sum(axis=1) >= 2].sample(20, random_state=42).iterrows():\n",
    "    submission_index.append(idx)\n",
    "    submission_row = {}\n",
    "    submission_row['submission'] = row['answer']\n",
    "    submission_row['task name'] = items.loc[row['item']]['name']\n",
    "    submission_row['instructions'] = items.loc[row['item']]['instructions']\n",
    "    submission_df.append(submission_row)\n",
    "\n",
    "    # previously made defects\n",
    "    defect_history = defect_log.loc[\n",
    "        log[(log['user'] == row['user']) & (log['time'] <= row['time'])].sort_values(by='time').index\n",
    "    ].reset_index(drop=True).astype(bool)\n",
    "\n",
    "    for defect in defect_log.loc[idx][defect_log.loc[idx] > 0].index:\n",
    "        defect_row = {}\n",
    "        defect_row['submission id'] = idx\n",
    "        defect_row['defect id'] = defect\n",
    "        defect_row['severity'] = defects.loc[defect]['severity']\n",
    "        defect_row['name'] = defects.loc[defect]['defect name']\n",
    "        defect_row['description'] = defects.loc[defect]['description']\n",
    "        defect_row['code example'] = defects.loc[defect]['code example']\n",
    "        defect_row['code fix example'] = defects.loc[defect]['code fix example']\n",
    "        defect_row['frequency'] = item_profiles.loc[row['item'], defect]\n",
    "        # number of submissions since last encountered\n",
    "        defect_row['last encountered'] = (defect_history.index - defect_history[defect].cumsum().where(defect_history[defect]).ffill()).iloc[-1]\n",
    "        # TODO impact\n",
    "        defect_df.append(defect_row)\n",
    "\n",
    "submission_df = pd.DataFrame(submission_df, index=submission_index)\n",
    "defect_df = pd.DataFrame(defect_df)"
   ]
  },
  {
   "cell_type": "code",
   "execution_count": 42,
   "metadata": {},
   "outputs": [
    {
     "data": {
      "text/html": [
       "<div>\n",
       "<style scoped>\n",
       "    .dataframe tbody tr th:only-of-type {\n",
       "        vertical-align: middle;\n",
       "    }\n",
       "\n",
       "    .dataframe tbody tr th {\n",
       "        vertical-align: top;\n",
       "    }\n",
       "\n",
       "    .dataframe thead th {\n",
       "        text-align: right;\n",
       "    }\n",
       "</style>\n",
       "<table border=\"1\" class=\"dataframe\">\n",
       "  <thead>\n",
       "    <tr style=\"text-align: right;\">\n",
       "      <th></th>\n",
       "      <th>submission</th>\n",
       "      <th>task name</th>\n",
       "      <th>instructions</th>\n",
       "    </tr>\n",
       "  </thead>\n",
       "  <tbody>\n",
       "    <tr>\n",
       "      <th>29624</th>\n",
       "      <td>def chessboard(n):\\n    for i in range(n):\\n  ...</td>\n",
       "      <td>Šachovnice</td>\n",
       "      <td>Napište funkci &lt;b&gt;chessboard(n)&lt;/b&gt;, která vyk...</td>\n",
       "    </tr>\n",
       "    <tr>\n",
       "      <th>299230</th>\n",
       "      <td>def censorship(text):\\n    t = len(text)\\n    ...</td>\n",
       "      <td>Cenzura</td>\n",
       "      <td>Napište funkci &lt;b&gt;censorship(text)&lt;/b&gt;, která ...</td>\n",
       "    </tr>\n",
       "    <tr>\n",
       "      <th>284317</th>\n",
       "      <td>def censor_number(k, n):\\n    p = []\\n    for ...</td>\n",
       "      <td>Číselná cenzura</td>\n",
       "      <td>Napište funkci &lt;b&gt;censor_number(k, n)&lt;/b&gt;, kte...</td>\n",
       "    </tr>\n",
       "    <tr>\n",
       "      <th>78519</th>\n",
       "      <td>def empty_square(n):\\n    for i in range(n):\\n...</td>\n",
       "      <td>Prázdný čtverec</td>\n",
       "      <td>Napište funkci &lt;b&gt;empty_square(n)&lt;/b&gt;, která ...</td>\n",
       "    </tr>\n",
       "    <tr>\n",
       "      <th>38610</th>\n",
       "      <td>def impose_fine(age, beer):\\n    if beer == Tr...</td>\n",
       "      <td>Pokuta</td>\n",
       "      <td>Policista potřebuje pomoct s udělováním pokut....</td>\n",
       "    </tr>\n",
       "  </tbody>\n",
       "</table>\n",
       "</div>"
      ],
      "text/plain": [
       "                                               submission        task name  \\\n",
       "29624   def chessboard(n):\\n    for i in range(n):\\n  ...       Šachovnice   \n",
       "299230  def censorship(text):\\n    t = len(text)\\n    ...          Cenzura   \n",
       "284317  def censor_number(k, n):\\n    p = []\\n    for ...  Číselná cenzura   \n",
       "78519   def empty_square(n):\\n    for i in range(n):\\n...  Prázdný čtverec   \n",
       "38610   def impose_fine(age, beer):\\n    if beer == Tr...           Pokuta   \n",
       "\n",
       "                                             instructions  \n",
       "29624   Napište funkci <b>chessboard(n)</b>, která vyk...  \n",
       "299230  Napište funkci <b>censorship(text)</b>, která ...  \n",
       "284317  Napište funkci <b>censor_number(k, n)</b>, kte...  \n",
       "78519    Napište funkci <b>empty_square(n)</b>, která ...  \n",
       "38610   Policista potřebuje pomoct s udělováním pokut....  "
      ]
     },
     "execution_count": 42,
     "metadata": {},
     "output_type": "execute_result"
    }
   ],
   "source": [
    "submission_df.head()"
   ]
  },
  {
   "cell_type": "code",
   "execution_count": 41,
   "metadata": {},
   "outputs": [
    {
     "data": {
      "text/html": [
       "<div>\n",
       "<style scoped>\n",
       "    .dataframe tbody tr th:only-of-type {\n",
       "        vertical-align: middle;\n",
       "    }\n",
       "\n",
       "    .dataframe tbody tr th {\n",
       "        vertical-align: top;\n",
       "    }\n",
       "\n",
       "    .dataframe thead th {\n",
       "        text-align: right;\n",
       "    }\n",
       "</style>\n",
       "<table border=\"1\" class=\"dataframe\">\n",
       "  <thead>\n",
       "    <tr style=\"text-align: right;\">\n",
       "      <th></th>\n",
       "      <th>submission id</th>\n",
       "      <th>defect id</th>\n",
       "      <th>severity</th>\n",
       "      <th>name</th>\n",
       "      <th>description</th>\n",
       "      <th>code example</th>\n",
       "      <th>code fix example</th>\n",
       "      <th>frequency</th>\n",
       "      <th>last encountered</th>\n",
       "    </tr>\n",
       "  </thead>\n",
       "  <tbody>\n",
       "    <tr>\n",
       "      <th>0</th>\n",
       "      <td>29624</td>\n",
       "      <td>24</td>\n",
       "      <td>3</td>\n",
       "      <td>long line</td>\n",
       "      <td>Line with more than 100 characters.</td>\n",
       "      <td>income = (gross_wages + taxable_interest + (di...</td>\n",
       "      <td>income = (gross_wages\\r\\n          + taxable_i...</td>\n",
       "      <td>0.003668</td>\n",
       "      <td>28.0</td>\n",
       "    </tr>\n",
       "    <tr>\n",
       "      <th>1</th>\n",
       "      <td>29624</td>\n",
       "      <td>39</td>\n",
       "      <td>4</td>\n",
       "      <td>inappropriate whitespace: visible</td>\n",
       "      <td>Violating PEP 8 conventions about whitespace (...</td>\n",
       "      <td>x= 3 *y\\nprint( x, y )</td>\n",
       "      <td>x = 3*y\\nprint(x, y)\\n</td>\n",
       "      <td>0.624358</td>\n",
       "      <td>2.0</td>\n",
       "    </tr>\n",
       "    <tr>\n",
       "      <th>2</th>\n",
       "      <td>299230</td>\n",
       "      <td>6</td>\n",
       "      <td>4</td>\n",
       "      <td>while as for</td>\n",
       "      <td>While loop with the number of iterations known...</td>\n",
       "      <td>i = 0\\nwhile i &lt;= n:\\n    print(i)\\n    i += 1</td>\n",
       "      <td>for i in range(n):\\n    print(i)</td>\n",
       "      <td>0.005170</td>\n",
       "      <td>12.0</td>\n",
       "    </tr>\n",
       "    <tr>\n",
       "      <th>3</th>\n",
       "      <td>299230</td>\n",
       "      <td>12</td>\n",
       "      <td>4</td>\n",
       "      <td>all if branches start/end with identical code</td>\n",
       "      <td>All if/elif/else branches start or end with th...</td>\n",
       "      <td>if cond:\\n    print(\"foo\")\\n    i += 1\\nelse:\\...</td>\n",
       "      <td>if cond:\\n   print(\"foo\")\\nelse:\\n   print(\"ba...</td>\n",
       "      <td>0.014032</td>\n",
       "      <td>14.0</td>\n",
       "    </tr>\n",
       "    <tr>\n",
       "      <th>4</th>\n",
       "      <td>299230</td>\n",
       "      <td>36</td>\n",
       "      <td>2</td>\n",
       "      <td>negated condition with else clause</td>\n",
       "      <td>The code contains an if statement with an else...</td>\n",
       "      <td>if not cond:\\n     # body 1\\nelse:\\n     # body 2</td>\n",
       "      <td>if cond:\\n    # body 2\\nelse:\\n    # body 1</td>\n",
       "      <td>0.089365</td>\n",
       "      <td>14.0</td>\n",
       "    </tr>\n",
       "  </tbody>\n",
       "</table>\n",
       "</div>"
      ],
      "text/plain": [
       "   submission id  defect id  severity  \\\n",
       "0          29624         24         3   \n",
       "1          29624         39         4   \n",
       "2         299230          6         4   \n",
       "3         299230         12         4   \n",
       "4         299230         36         2   \n",
       "\n",
       "                                            name  \\\n",
       "0                                      long line   \n",
       "1              inappropriate whitespace: visible   \n",
       "2                                   while as for   \n",
       "3  all if branches start/end with identical code   \n",
       "4             negated condition with else clause   \n",
       "\n",
       "                                         description  \\\n",
       "0                Line with more than 100 characters.   \n",
       "1  Violating PEP 8 conventions about whitespace (...   \n",
       "2  While loop with the number of iterations known...   \n",
       "3  All if/elif/else branches start or end with th...   \n",
       "4  The code contains an if statement with an else...   \n",
       "\n",
       "                                        code example  \\\n",
       "0  income = (gross_wages + taxable_interest + (di...   \n",
       "1                             x= 3 *y\\nprint( x, y )   \n",
       "2     i = 0\\nwhile i <= n:\\n    print(i)\\n    i += 1   \n",
       "3  if cond:\\n    print(\"foo\")\\n    i += 1\\nelse:\\...   \n",
       "4  if not cond:\\n     # body 1\\nelse:\\n     # body 2   \n",
       "\n",
       "                                    code fix example  frequency  \\\n",
       "0  income = (gross_wages\\r\\n          + taxable_i...   0.003668   \n",
       "1                             x = 3*y\\nprint(x, y)\\n   0.624358   \n",
       "2                   for i in range(n):\\n    print(i)   0.005170   \n",
       "3  if cond:\\n   print(\"foo\")\\nelse:\\n   print(\"ba...   0.014032   \n",
       "4        if cond:\\n    # body 2\\nelse:\\n    # body 1   0.089365   \n",
       "\n",
       "   last encountered  \n",
       "0              28.0  \n",
       "1               2.0  \n",
       "2              12.0  \n",
       "3              14.0  \n",
       "4              14.0  "
      ]
     },
     "execution_count": 41,
     "metadata": {},
     "output_type": "execute_result"
    }
   ],
   "source": [
    "defect_df.head()"
   ]
  },
  {
   "cell_type": "markdown",
   "metadata": {},
   "source": [
    "## filtering"
   ]
  },
  {
   "cell_type": "markdown",
   "metadata": {},
   "source": [
    "Look for uniformative entries that might pollute the survey pool."
   ]
  },
  {
   "cell_type": "code",
   "execution_count": 36,
   "metadata": {},
   "outputs": [
    {
     "name": "stdout",
     "output_type": "stream",
     "text": [
      "38610 def impose_fine(age, beer):\n",
      "    if beer == True and age < 18:\n",
      "        return True\n",
      "    return False\n",
      "59076 def impose_fine(age, beer):\n",
      "    while age < 18 and beer == True:\n",
      "        return True\n",
      "    else: \n",
      "        return False\n",
      "==================================================\n",
      "73706 def alergy_list(a, b):\n",
      "    for i in range(a, b+1):\n",
      "        if i % 5 != 0:\n",
      "        \tprint(i, end=\" \")\n",
      "        elif i % 10 == 0:  \n",
      "            print(i, end=\" \")            \n",
      "    print()\n",
      "287950 def alergy_list(a, b):\n",
      "    for i in range(a,b+1,1):\n",
      "        if i % 10 == 0:\n",
      "            print(i, end=\" \")\n",
      "        elif i % 5 != 0:\n",
      "            print(i, end=\" \")\n",
      "    print()\n",
      "==================================================\n",
      "364394 def near_fifty(n):\n",
      "    if n in range(40,61) or n in range(140,161):\n",
      "        return True\n",
      "    else:\n",
      "        return False\n",
      "175696 def near_fifty(n):\n",
      "    if (n>=40 and n<=60) or (n>=140 and n<=160):\n",
      "        return True\n",
      "    else:return False\n",
      "==================================================\n",
      "198099 def duplication(text):\n",
      "    vystup=\"\"\n",
      "    for znak in text:\n",
      "        \n",
      "        vystup += znak*2\n",
      "    return vystup\n",
      "565657 def duplication(text):\n",
      "    dup_result=\"\"\n",
      "    for i in range(len(text)):\n",
      "        dup_result += text[i]*2\n",
      "    \n",
      "    return dup_result\n",
      "==================================================\n"
     ]
    }
   ],
   "source": [
    "# duplicities - tasks\n",
    "task_names = submission_df['task name'][submission_df['task name'].duplicated(keep=False)].unique()\n",
    "for name in task_names:\n",
    "    for idx in submission_df[submission_df['task name'] == name].index:\n",
    "        print(idx, submission_df.loc[idx]['submission'])\n",
    "    print('=' * 50)"
   ]
  },
  {
   "cell_type": "code",
   "execution_count": null,
   "metadata": {},
   "outputs": [],
   "source": [
    "# defect pairs\n",
    "# TODO check for triples\n",
    "\n",
    "ids = defect_df.groupby('submission id')['defect id'].unique().apply(set).duplicated(keep=False)\n",
    "ids = ids[ids].index\n",
    "submission_df[ids]"
   ]
  },
  {
   "cell_type": "code",
   "execution_count": 61,
   "metadata": {},
   "outputs": [
    {
     "data": {
      "text/plain": [
       "Index([73706, 198099, 287950, 324923, 402206, 565657], dtype='int64', name='submission id')"
      ]
     },
     "execution_count": 61,
     "metadata": {},
     "output_type": "execute_result"
    }
   ],
   "source": [
    "ids"
   ]
  },
  {
   "cell_type": "code",
   "execution_count": 47,
   "metadata": {},
   "outputs": [
    {
     "data": {
      "text/plain": [
       "submission id\n",
       "29624            {24, 39}\n",
       "38610             {17, 3}\n",
       "59076            {17, 33}\n",
       "73706             {5, 39}\n",
       "78519        {76, 71, 39}\n",
       "98002            {77, 39}\n",
       "175696        {3, 55, 39}\n",
       "198099           {76, 39}\n",
       "216886           {36, 38}\n",
       "284317           {76, 61}\n",
       "287950            {5, 39}\n",
       "299230    {12, 39, 6, 36}\n",
       "324923           {53, 39}\n",
       "350702       {62, 38, 39}\n",
       "364394            {3, 39}\n",
       "391489            {3, 38}\n",
       "402206           {53, 39}\n",
       "429324       {26, 76, 39}\n",
       "565657           {76, 39}\n",
       "583215       {72, 37, 39}\n",
       "Name: defect id, dtype: object"
      ]
     },
     "execution_count": 47,
     "metadata": {},
     "output_type": "execute_result"
    }
   ],
   "source": [
    "defect_df.groupby('submission id')['defect id'].unique().apply(set)"
   ]
  },
  {
   "cell_type": "code",
   "execution_count": 12,
   "metadata": {},
   "outputs": [],
   "source": [
    "if False:   \n",
    "    defect_df.to_csv(data_path / 'export' / 'defects.csv', sep=';', index_label='index')\n",
    "    submission_df.to_csv(data_path / 'export' / 'submissions.csv', sep=';', index_label='index')"
   ]
  }
 ],
 "metadata": {
  "kernelspec": {
   "display_name": ".venv",
   "language": "python",
   "name": "python3"
  },
  "language_info": {
   "codemirror_mode": {
    "name": "ipython",
    "version": 3
   },
   "file_extension": ".py",
   "mimetype": "text/x-python",
   "name": "python",
   "nbconvert_exporter": "python",
   "pygments_lexer": "ipython3",
   "version": "3.10.7"
  }
 },
 "nbformat": 4,
 "nbformat_minor": 2
}
