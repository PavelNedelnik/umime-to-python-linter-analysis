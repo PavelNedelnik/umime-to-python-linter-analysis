{
 "cells": [
  {
   "cell_type": "markdown",
   "metadata": {},
   "source": [
    "# loading data"
   ]
  },
  {
   "cell_type": "code",
   "execution_count": null,
   "metadata": {},
   "outputs": [],
   "source": [
    "import matplotlib.pyplot as plt\n",
    "import seaborn as sns\n",
    "import plotly.express as px\n",
    "import pandas as pd\n",
    "import numpy as np\n",
    "\n",
    "from pathlib import Path\n",
    "\n",
    "from src.code_processing import parse_code_string\n",
    "\n",
    "figsize = (10, 7)\n",
    "resolution = 300 # dpi\n",
    "data_path = Path('data')\n",
    "ipython_path = data_path / 'ipython_old'"
   ]
  },
  {
   "cell_type": "code",
   "execution_count": null,
   "metadata": {},
   "outputs": [],
   "source": [
    "## load ipython items\n",
    "items = pd.read_csv(ipython_path / 'item.csv', sep=\";\", index_col=0)\n",
    "\n",
    "# drop unused columns\n",
    "items = items[['name', 'instructions', 'solution']]\n",
    "# extract user instructions\n",
    "items[\"instructions\"] = items[\"instructions\"].apply(lambda x: eval(x)[0][1])\n",
    "# extract and decode example solutions\n",
    "items[\"solution\"] = items[\"solution\"].apply(lambda x: eval(x)[0][1]).apply(parse_code_string)"
   ]
  },
  {
   "cell_type": "code",
   "execution_count": null,
   "metadata": {},
   "outputs": [],
   "source": [
    "## load the ipython log\n",
    "log = pd.read_csv(ipython_path / 'log.csv', sep=\";\")\n",
    "\n",
    "# drop unused columns\n",
    "log = log[[\"id\", \"user\", \"item\", \"answer\", \"correct\", \"responseTime\", \"time\"]]\n",
    "# correct data types\n",
    "log[\"time\"] = pd.to_datetime(log[\"time\"])\n",
    "log[\"correct\"] = log[\"correct\"].astype(bool)\n",
    "# drop problematic rows\n",
    "log.dropna(inplace=True)\n",
    "log.drop_duplicates(inplace=True)\n",
    "# decode submissions\n",
    "log[\"answer\"] = log[\"answer\"].apply(parse_code_string)\n",
    "# only correct answers\n",
    "log = log[log[\"correct\"]]\n",
    "# only one answer per session, first because EduLint might already be integrated\n",
    "log = log.reset_index().groupby([\"user\", \"item\"], as_index=False).first().set_index(\"index\")"
   ]
  },
  {
   "cell_type": "code",
   "execution_count": null,
   "metadata": {},
   "outputs": [],
   "source": [
    "# keep only items with at least 100 submission\n",
    "items = items.loc[items.index.isin((log[\"item\"].value_counts() > 100).index)]\n",
    "\n",
    "# filter them out of the log also\n",
    "log = log[log[\"item\"].isin(items.index)]"
   ]
  },
  {
   "cell_type": "code",
   "execution_count": null,
   "metadata": {},
   "outputs": [],
   "source": [
    "## load the defect table\n",
    "defects = pd.read_csv(data_path / 'defects.csv')\n",
    "\n",
    "# drop unused columns\n",
    "defects = defects[[\"defect name\", \"EduLint code\", \"defect type\", \"description\", \"code example\", \"code fix example\", \"severity\", \"id\"]]\n",
    "# drop defects not detected by EduLint\n",
    "defects.dropna(subset=[\"EduLint code\"], inplace=True)\n",
    "# convert EduLint codes from string to tuple\n",
    "defects[\"EduLint code\"] = defects[\"EduLint code\"].apply(lambda x: tuple(map(str.strip, x.split(\",\"))))\n",
    "# create a dictionary mapping EduLint codes to the index of the associated defect\n",
    "code_to_defect_id = {val: idx for idx, val in defects['EduLint code'].explode().items()}"
   ]
  },
  {
   "cell_type": "code",
   "execution_count": null,
   "metadata": {},
   "outputs": [],
   "source": [
    "## load the EduLint messages corresponding to the entries in the ipython log\n",
    "# open the message log\n",
    "with open(ipython_path / \"messages.txt\", \"r\") as f:\n",
    "    messages = [eval(line) for line in f.readlines()]\n",
    "# create a dataframe\n",
    "messages = [\n",
    "    {'log entry': idx, 'defect': code, 'message': message}\n",
    "    for idx, code_message_list in messages\n",
    "    for code, message in code_message_list\n",
    "]\n",
    "messages = pd.DataFrame(messages)\n",
    "\n",
    "# keep only the messages still in the ipython log\n",
    "messages = messages[messages[\"log entry\"].isin(log.index)]\n",
    "\n",
    "# keep only messages with an associated defect\n",
    "messages = messages[messages[\"defect\"].isin(code_to_defect_id.keys())]\n",
    "\n",
    "# use defect ids instead of message codes\n",
    "messages[\"defect\"] = messages[\"defect\"].replace(code_to_defect_id).astype(int)"
   ]
  },
  {
   "cell_type": "code",
   "execution_count": null,
   "metadata": {},
   "outputs": [],
   "source": [
    "# vectorize defects\n",
    "defect_log = pd.crosstab(messages[\"log entry\"], messages[\"defect\"]).reindex(log.index, fill_value=0)\n",
    "\n",
    "# replace defect counts with presence\n",
    "defect_log = (defect_log > 0).astype(int)\n",
    "\n",
    "# keep only detected defects\n",
    "defects = defects.loc[defects.index.isin(defect_log.columns)]"
   ]
  },
  {
   "cell_type": "markdown",
   "metadata": {},
   "source": [
    "# utils"
   ]
  },
  {
   "cell_type": "code",
   "execution_count": null,
   "metadata": {},
   "outputs": [],
   "source": [
    "from IPython.display import display, HTML\n",
    "\n",
    "def display_task(idx, show=True):\n",
    "    row = items.loc[idx]\n",
    "    text = f\"\"\"\n",
    "    <div style=\"border: 1px solid #ccc; padding: 10px; margin-bottom: 10px; border-radius: 5px;\">\n",
    "        <h3>{row[\"name\"]}</h3>\n",
    "        <div><strong>Instructions:</strong><br>{row[\"instructions\"]}</div>\n",
    "        <div><strong>Solution:</strong><br><pre style=\"background-color: #2e2e2e; color: #f5f5f5; padding: 10px; border-radius: 5px; font-family: monospace;\">{row[\"solution\"]}</pre></div>\n",
    "    </div>\n",
    "    \"\"\"\n",
    "    \n",
    "    if show:\n",
    "        display(HTML(text))\n",
    "    return text\n",
    "\n",
    "\n",
    "def display_defect(idx, show=True):\n",
    "    row = defects.loc[idx]\n",
    "    \n",
    "    text = f\"\"\"\n",
    "    <div style=\"border: 1px solid #ccc; padding: 10px; margin-bottom: 10px; border-radius: 5px;\">\n",
    "        <h3>{row[\"defect name\"]}</h3>\n",
    "        <div><strong>Defect Type:</strong> {row[\"defect type\"]}</div>\n",
    "        <div><strong>Severity:</strong> {row[\"severity\"]}</div>\n",
    "        <div><strong>Description:</strong><br>{row[\"description\"]}</div>\n",
    "        \n",
    "        <div style=\"display: flex; justify-content: space-between; margin-top: 20px;\">\n",
    "            <div style=\"width: 48%; padding: 10px;\">\n",
    "                <strong>Code Example:</strong><br>\n",
    "                <pre style=\"background-color: #2e2e2e; color: #f5f5f5; padding: 10px; border-radius: 5px; font-family: monospace;\">\n",
    "{row[\"code example\"]}</pre>\n",
    "            </div>\n",
    "            <div style=\"width: 48%; padding: 10px;\">\n",
    "                <strong>Code Fix Example:</strong><br>\n",
    "                <pre style=\"background-color: #2e2e2e; color: #f5f5f5; padding: 10px; border-radius: 5px; font-family: monospace;\">\n",
    "{row[\"code fix example\"]}</pre>\n",
    "            </div>\n",
    "        </div>\n",
    "    </div>\n",
    "    \"\"\"\n",
    "    \n",
    "    if show:\n",
    "        display(HTML(text))\n",
    "    return text\n",
    "\n",
    "\n",
    "def display_task_and_defect(task, defect, show=True):\n",
    "    task_row = items.loc[task]\n",
    "    \n",
    "    defect_row = defects.loc[defect]\n",
    "    \n",
    "    text = f\"\"\"\n",
    "    <div style=\"display: flex; justify-content: space-between; gap: 20px;\">\n",
    "        <!-- Task Section -->\n",
    "        <div style=\"width: 48%; border: 1px solid #ccc; padding: 10px; border-radius: 5px;\">\n",
    "            <h3>{task_row[\"name\"]}</h3>\n",
    "            <div><strong>Instructions:</strong><br>{task_row[\"instructions\"]}</div>\n",
    "            <div><strong>Solution:</strong><br>\n",
    "                <pre style=\"background-color: #2e2e2e; color: #f5f5f5; padding: 10px; border-radius: 5px; font-family: monospace;\">\n",
    "{task_row[\"solution\"]}</pre>\n",
    "            </div>\n",
    "        </div>\n",
    "        \n",
    "        <!-- Defect Section -->\n",
    "        <div style=\"width: 48%; border: 1px solid #ccc; padding: 10px; border-radius: 5px;\">\n",
    "            <h3>{defect_row[\"defect name\"]}</h3>\n",
    "            <div><strong>Defect Type:</strong> {defect_row[\"defect type\"]}</div>\n",
    "            <div><strong>Severity:</strong> {defect_row[\"severity\"]}</div>\n",
    "            <div><strong>Description:</strong><br>{defect_row[\"description\"]}</div>\n",
    "            \n",
    "            <div style=\"display: flex; justify-content: space-between; margin-top: 20px;\">\n",
    "                <div style=\"width: 48%; padding: 10px;\">\n",
    "                    <strong>Code Example:</strong><br>\n",
    "                    <pre style=\"background-color: #2e2e2e; color: #f5f5f5; padding: 10px; border-radius: 5px; font-family: monospace;\">\n",
    "{defect_row[\"code example\"]}</pre>\n",
    "                </div>\n",
    "                <div style=\"width: 48%; padding: 10px;\">\n",
    "                    <strong>Code Fix Example:</strong><br>\n",
    "                    <pre style=\"background-color: #2e2e2e; color: #f5f5f5; padding: 10px; border-radius: 5px; font-family: monospace;\">\n",
    "{defect_row[\"code fix example\"]}</pre>\n",
    "                </div>\n",
    "            </div>\n",
    "        </div>\n",
    "    </div>\n",
    "    \n",
    "    <!-- Code Snippet Section -->\n",
    "    <div style=\"border: 1px solid #ccc; padding: 10px; margin-top: 20px; border-radius: 5px;\">\n",
    "        <strong>Example Submission:</strong><br>\n",
    "        <pre style=\"background-color: #2e2e2e; color: #f5f5f5; padding: 10px; border-radius: 5px; font-family: monospace;\">\n",
    "{log[(log[\"item\"] == task) & (defect_log[defect])].iloc[0][\"answer\"]}</pre>\n",
    "    </div>\n",
    "    \"\"\"\n",
    "    if show:\n",
    "        display(HTML(text))\n",
    "    return text"
   ]
  },
  {
   "cell_type": "markdown",
   "metadata": {},
   "source": [
    "# detected defects"
   ]
  },
  {
   "cell_type": "code",
   "execution_count": null,
   "metadata": {},
   "outputs": [],
   "source": [
    "counts = defect_log.sum(axis=0).sort_values(ascending=False)\n",
    "percentages = counts / len(defect_log) * 100"
   ]
  },
  {
   "cell_type": "code",
   "execution_count": null,
   "metadata": {},
   "outputs": [],
   "source": [
    "fig, ax = plt.subplots(layout=\"constrained\", figsize=figsize)\n",
    "\n",
    "p = ax.bar([defects['defect name'].loc[idx] for idx in counts.index], percentages)\n",
    "\n",
    "ax.bar_label(p, labels = counts, label_type='edge', rotation=45)\n",
    "\n",
    "ax.set_ylabel('% of submissions')\n",
    "plt.xticks(rotation = 45, ha='right')\n",
    "plt.ylim(0, max(percentages) + 5)\n",
    "ax.set_title('Submissions containing a defect ({} submissions in total)'.format(len(defect_log)))\n",
    "\n",
    "#plt.savefig('defect_histogram.png', dpi=300)\n",
    "plt.show()"
   ]
  },
  {
   "cell_type": "code",
   "execution_count": null,
   "metadata": {},
   "outputs": [],
   "source": [
    "\"\"\"TODO\n",
    "rare_codes = counts[counts < 100].index\n",
    "\n",
    "counts = counts[counts >= 100]\n",
    "\n",
    "percentages = counts / len(defect_log) * 100\n",
    "fig, ax = plt.subplots(layout=\"constrained\", figsize=figsize)\n",
    "\n",
    "p = ax.bar(counts.index, percentages)\n",
    "\n",
    "ax.bar_label(p, labels = counts, label_type='edge', rotation=45)\n",
    "\n",
    "ax.set_ylabel('% of submissions')\n",
    "plt.xticks(rotation = 45, ha='right')\n",
    "plt.ylim(0, 40)\n",
    "ax.set_title('EduLint codes without a corresponding defect (# of occurances < 100 omitted)'.format(len(defect_log)))\n",
    "\n",
    "#plt.savefig('defect_histogram.png', dpi=300)\n",
    "plt.show()\n",
    "\"\"\""
   ]
  },
  {
   "cell_type": "markdown",
   "metadata": {},
   "source": [
    "# \\# of defects histogram"
   ]
  },
  {
   "cell_type": "code",
   "execution_count": null,
   "metadata": {},
   "outputs": [],
   "source": [
    "counts = defect_log.sum(axis=1).value_counts()\n",
    "\n",
    "num_of_submissions = [str(i) for i in range(5)] + ['>=5']\n",
    "defect_counts= list(counts[:5]) + [counts[5:].sum()]\n",
    "defect_percentage = list(map(lambda x: x / len(defect_log) * 100, defect_counts))\n",
    "\n",
    "fig, ax = plt.subplots(layout=\"constrained\", figsize=figsize)\n",
    "\n",
    "p = ax.bar(num_of_submissions, defect_percentage)\n",
    "\n",
    "ax.bar_label(p, labels = defect_counts, label_type='edge')\n",
    "\n",
    "ax.set_ylabel('% of submissions')\n",
    "ax.set_xlabel('Number of defects')\n",
    "ax.set_title('Submissions by the number of unique defects ({} in total)'.format(len(defect_log)))\n",
    "\n",
    "#plt.savefig('submissions_histogram.png', dpi=300)\n",
    "plt.show()"
   ]
  },
  {
   "cell_type": "code",
   "execution_count": null,
   "metadata": {},
   "outputs": [],
   "source": [
    "counts = defect_log.sum(axis=1).value_counts().cumsum()\n",
    "\n",
    "num_of_submissions = [\"0\"] + [f\"<={i}\" for i in range(1, max(counts.index) + 1)]\n",
    "\n",
    "max_idx = max(counts.index)\n",
    "defect_counts = [\n",
    "    counts.loc[idx] if idx in counts.index else counts.loc[max([j for j in counts.index if j < idx])]\n",
    "    for idx in range(max_idx + 1)\n",
    "]\n",
    "\n",
    "defect_percentage = [(x / len(defect_log)) * 100 for x in defect_counts]\n",
    "\n",
    "fig, ax1 = plt.subplots(layout=\"constrained\", figsize=(10, 6))\n",
    "\n",
    "bars = ax1.bar(num_of_submissions, defect_counts, alpha=0.6, color='blue', label='Absolute counts')\n",
    "\n",
    "ax2 = ax1.twinx()\n",
    "ax2.plot(num_of_submissions, defect_percentage, marker='o', color='red', label='Cumulative %')\n",
    "\n",
    "ax1.set_ylabel('Absolute counts')\n",
    "ax2.set_ylabel('% of submissions')\n",
    "ax1.set_xlabel('Number of defects')\n",
    "ax1.set_title(f'Submissions by the number of unique defects ({len(defect_log)} in total)')\n",
    "\n",
    "ax1.set_ylim(0, len(defect_log))\n",
    "ax2.set_ylim(0, 100)\n",
    "\n",
    "ax1.grid(visible=True, linestyle='--', linewidth=0.5)\n",
    "fig.legend(loc='upper left', bbox_to_anchor=(0.1, 0.9))\n",
    "\n",
    "#plt.savefig('submissions_cumulative_histogram.png', dpi=300)\n",
    "plt.show()"
   ]
  },
  {
   "cell_type": "markdown",
   "metadata": {},
   "source": [
    "# defect co-occurance"
   ]
  },
  {
   "cell_type": "markdown",
   "metadata": {},
   "source": [
    "## co-occurance matrix"
   ]
  },
  {
   "cell_type": "code",
   "execution_count": null,
   "metadata": {},
   "outputs": [],
   "source": [
    "# co-occurances\n",
    "co_occurances = (defect_log.T.dot(defect_log)).values\n",
    "np.fill_diagonal(co_occurances, 0)\n",
    "defect_names = [defects['defect name'].loc[idx] for idx in defect_log.columns]"
   ]
  },
  {
   "cell_type": "code",
   "execution_count": null,
   "metadata": {},
   "outputs": [],
   "source": [
    "fig = px.imshow(co_occurances, x = defect_names, y = defect_names)\n",
    "fig.update_xaxes(showticklabels=False)\n",
    "fig.update_layout(yaxis={\"dtick\":1},margin={\"t\":0,\"b\":0})\n",
    "fig"
   ]
  },
  {
   "cell_type": "code",
   "execution_count": null,
   "metadata": {},
   "outputs": [],
   "source": [
    "fig, ax = plt.subplots(layout=\"constrained\", figsize=figsize)\n",
    "\n",
    "p = ax.imshow(co_occurances)\n",
    "\n",
    "ax.set_yticks(np.arange(len(defect_names)), labels=defect_names)\n",
    "\n",
    "for i in range(len(defect_names)):\n",
    "    for j in range(len(defect_names)):\n",
    "        text = ax.text(j, i, np.round(co_occurances[i, j] / len(defect_log) * 100, 1),\n",
    "                       ha=\"center\", va=\"center\", color=\"w\")\n",
    "\n",
    "ax.set_title('Co-occurance of defects (% of all submissions)')\n",
    "\n",
    "#plt.savefig('co_occurance.png', dpi=300)\n",
    "plt.show()"
   ]
  },
  {
   "cell_type": "code",
   "execution_count": null,
   "metadata": {},
   "outputs": [],
   "source": [
    "fig, ax = plt.subplots(layout=\"constrained\", figsize=figsize)\n",
    "\n",
    "p = ax.imshow(co_occurances > 1000)\n",
    "\n",
    "ax.set_yticks(np.arange(len(defect_names)), labels=defect_names)\n",
    "\n",
    "for i in range(len(defect_names)):\n",
    "    for j in range(len(defect_names)):\n",
    "        text = ax.text(j, i, np.round(co_occurances[i, j] / len(defect_log) * 100, 1),\n",
    "                       ha=\"center\", va=\"center\", color=\"w\")\n",
    "\n",
    "ax.set_title('Co-occurance of defects (>= 1000 occurances highlighted)')\n",
    "\n",
    "#plt.savefig('co_occurance_1000.png', dpi=300)\n",
    "plt.show()"
   ]
  },
  {
   "cell_type": "code",
   "execution_count": null,
   "metadata": {},
   "outputs": [],
   "source": [
    "fig, ax = plt.subplots(layout=\"constrained\", figsize=figsize)\n",
    "\n",
    "p = ax.imshow(co_occurances > 250)\n",
    "\n",
    "ax.set_yticks(np.arange(len(defect_names)), labels=defect_names)\n",
    "\n",
    "for i in range(len(defect_names)):\n",
    "    for j in range(len(defect_names)):\n",
    "        text = ax.text(j, i, np.round(co_occurances[i, j] / len(defect_log) * 100, 1),\n",
    "                       ha=\"center\", va=\"center\", color=\"w\")\n",
    "        \n",
    "ax.set_title('Co-occurance of defects (>= 250 occurances highlighted)')\n",
    "\n",
    "\n",
    "#plt.savefig('co_occurance_250.png', dpi=300)\n",
    "plt.show()"
   ]
  },
  {
   "cell_type": "code",
   "execution_count": null,
   "metadata": {},
   "outputs": [],
   "source": [
    "fig, ax = plt.subplots(layout=\"constrained\", figsize=figsize)\n",
    "\n",
    "p = ax.imshow(co_occurances > 100)\n",
    "\n",
    "ax.set_yticks(np.arange(len(defect_names)), labels=defect_names)\n",
    "\n",
    "for i in range(len(defect_names)):\n",
    "    for j in range(len(defect_names)):\n",
    "        text = ax.text(j, i, np.round(co_occurances[i, j] / len(defect_log) * 100, 1),\n",
    "                       ha=\"center\", va=\"center\", color=\"w\")\n",
    "        \n",
    "ax.set_title('Co-occurance of defects (>= 100 occurances highlighted)')\n",
    "\n",
    "#plt.savefig('co_occurance_100.png', dpi=300)\n",
    "plt.show()"
   ]
  },
  {
   "cell_type": "markdown",
   "metadata": {},
   "source": [
    "## by defect category"
   ]
  },
  {
   "cell_type": "code",
   "execution_count": null,
   "metadata": {},
   "outputs": [],
   "source": [
    "# co-occurances\n",
    "co_occurances = (defect_log.T.dot(defect_log)).values\n",
    "np.fill_diagonal(co_occurances, 0)\n",
    "defect_names = [defects['defect name'].loc[idx] for idx in defect_log.columns]"
   ]
  },
  {
   "cell_type": "code",
   "execution_count": null,
   "metadata": {},
   "outputs": [],
   "source": [
    "categories = defects['defect type'].loc[defect_log.columns]\n",
    "dfs_by_category = {category: defect_log[columns].copy() for category, columns in categories.groupby(categories).groups.items()}\n",
    "categories = categories.unique()\n",
    "NUM_ROWS = 2\n",
    "NUM_COLS = len(categories) // 2\n",
    "\n",
    "\n",
    "for i in range(len(categories)):\n",
    "    this_category = categories[i]\n",
    "    fig, axes = plt.subplots(NUM_ROWS, NUM_COLS, figsize=figsize)\n",
    "    fig.suptitle(\"Programming Defect Co-occurance by Categories: {} (absolute counts)\".format(categories[i]), fontsize=16)\n",
    "    axes = axes.flatten()\n",
    "    for j in range(len(categories)):\n",
    "        other_category = categories[j]\n",
    "        this_df, other_df = dfs_by_category[this_category], dfs_by_category[other_category]\n",
    "        \n",
    "        # Compute cross product between two category DataFrames\n",
    "        product_df = this_df.T.dot(other_df)\n",
    "\n",
    "        if this_category == other_category:\n",
    "            np.fill_diagonal(product_df.values, 0)\n",
    "\n",
    "        sns.heatmap(product_df, annot=True, cmap=\"Reds\", fmt=\"d\", ax=axes[j], cbar=False)\n",
    "        axes[j].set_title(other_category)\n",
    "        axes[j].set(xlabel=\"\", ylabel=\"\")\n",
    "        axes[j].set_xticks(np.arange(product_df.shape[1]), labels=defects[\"defect name\"].loc[product_df.columns].apply(lambda x: x[:20]), rotation=40, ha=\"right\")\n",
    "        if j % NUM_COLS == 0:\n",
    "            axes[j].set_yticks(np.arange(product_df.shape[0]), labels=defects[\"defect name\"].loc[product_df.index].apply(lambda x: x[:30]), rotation=0)\n",
    "        else:\n",
    "            axes[j].set_yticks([])\n",
    "        \n",
    "        plt.subplots_adjust(\n",
    "            left=0.25,\n",
    "            bottom=0.25, \n",
    "            right=0.95, \n",
    "            top=0.9, \n",
    "            wspace=0.1, \n",
    "            hspace=0.85\n",
    "        )\n",
    "                \n",
    "        #plt.savefig('co_occurance_{}.png'.format(this_category), dpi=300)\n",
    "    plt.show()"
   ]
  },
  {
   "cell_type": "markdown",
   "metadata": {},
   "source": [
    "# Defects in tasks"
   ]
  },
  {
   "cell_type": "code",
   "execution_count": null,
   "metadata": {},
   "outputs": [],
   "source": [
    "common_defects = (defect_log.groupby(log[\"item\"]).mean() - defect_log.mean(axis=0)) / defect_log.std(axis=0)"
   ]
  },
  {
   "cell_type": "code",
   "execution_count": null,
   "metadata": {},
   "outputs": [],
   "source": [
    "highest_variance_tasks = common_defects.var(axis=1).sort_values(ascending=False)[:30].index\n",
    "defect_names = [defects['defect name'].loc[idx] for idx in defect_log.columns]\n",
    "task_names = [items['name'].loc[idx] for idx in highest_variance_tasks]\n",
    "\n",
    "plt.figure(figsize=figsize, layout=\"constrained\")\n",
    "biggest_value = common_defects.abs().values.max()\n",
    "# sns.heatmap(common_defects.loc[highest_variance_tasks].T, xticklabels=task_names, yticklabels=defect_names, cmap=\"vlag\", cbar=True, vmin=-biggest_value, vmax=biggest_value)\n",
    "sns.heatmap(common_defects.loc[highest_variance_tasks].T, cmap=\"vlag\", cbar=True, vmin=-biggest_value, vmax=biggest_value)\n",
    "plt.title(\"Task-Level Defect Anomalies (Z-scores, Tasks With Highest Variance)\")\n",
    "plt.xlabel(\"\")\n",
    "plt.ylabel(\"\")\n",
    "\n",
    "# plt.savefig('defect_anomalies.png', dpi=300)\n",
    "plt.show()"
   ]
  },
  {
   "cell_type": "markdown",
   "metadata": {},
   "source": [
    "# Exploring specific defect co-occurances"
   ]
  },
  {
   "cell_type": "code",
   "execution_count": null,
   "metadata": {},
   "outputs": [],
   "source": [
    "def wrap_text(text, max_length=100):\n",
    "    lines = []\n",
    "    line = []\n",
    "    length = 0\n",
    "\n",
    "    for word in text.split():\n",
    "        if (length := length + len(word) + 1) <= max_length:\n",
    "            line.append(word)\n",
    "        else:\n",
    "            lines.append(\" \".join(line))\n",
    "            line = [word]\n",
    "            length = len(word) + 1\n",
    "    \n",
    "    if line:\n",
    "        lines.append(\" \".join(line))\n",
    "    \n",
    "    return \"\\n\".join(lines)\n",
    "\n",
    "\n",
    "def item_info(idx):\n",
    "    row = items.loc[idx]\n",
    "    print('Task: ', row['name'])\n",
    "    print('='*50)\n",
    "    print('Description: ', wrap_text(row['instructions']), sep='\\n')\n",
    "    print('-'*50)\n",
    "    print('Example solution: ', row['solution'], sep='\\n')\n",
    "\n",
    "\n",
    "def defect_info(idx):\n",
    "    row = defects.loc[idx]\n",
    "    print(row[\"defect type\"], \": \", row['defect name'])\n",
    "    print('='*50)\n",
    "    print('Description: ', wrap_text(row['description']), sep='\\n')\n",
    "    print('-'*50)\n",
    "    print('Code example: ', row['code example'], sep='\\n')"
   ]
  },
  {
   "cell_type": "code",
   "execution_count": null,
   "metadata": {},
   "outputs": [],
   "source": [
    "defect1, defect2 = 29, 30\n",
    "print(f\"({defect1}, {defect2}) {defects.loc[defect1]['defect name']}, {defects.loc[defect2]['defect name']}\")\n",
    "defect_info(defect1)\n",
    "print(\"\\n\\n\")\n",
    "defect_info(defect2)\n",
    "df = log.loc[defect_log[(defect_log.loc[:, defect1] >= 1) & (defect_log.loc[:, defect2] >= 1)].index]\n",
    "df[\"item\"].value_counts()"
   ]
  },
  {
   "cell_type": "code",
   "execution_count": null,
   "metadata": {},
   "outputs": [],
   "source": [
    "item = 60\n",
    "item_df = df[df[\"item\"] == item]\n",
    "item_info(item)\n",
    "print('-'*50)\n",
    "for i in range(min(len(item_df), 5)):\n",
    "    print(f\"Solution {i + 1}, index: {item_df.index[i]}\", item_df.iloc[i][\"answer\"], sep=\"\\n\")\n",
    "    print(\"-\"*50)"
   ]
  },
  {
   "cell_type": "code",
   "execution_count": null,
   "metadata": {},
   "outputs": [],
   "source": [
    "index = 103332\n"
   ]
  },
  {
   "cell_type": "code",
   "execution_count": null,
   "metadata": {},
   "outputs": [],
   "source": [
    "# defect descriptions\n",
    "defect1_row = defects.loc[defect1, [\"defect name\", \"description\", \"code example\", \"code fix example\"]]\n",
    "defect2_row = defects.loc[defect2, [\"defect name\", \"description\", \"code example\", \"code fix example\"]]\n",
    "defect1_row.index = [\"defect 1 name\", \"defect 1 description\", \"defect 1 code example\", \"defect 1 code fix example\"]\n",
    "defect2_row.index = [\"defect 2 name\", \"defect 2 description\", \"defect 2 code example\", \"defect 2 code fix example\"]\n",
    "\n",
    "# item description\n",
    "item_row = items.loc[item, [\"name\", \"instructions\"]]\n",
    "item_row.index = [\"item name\", \"item instructions\"]\n",
    "\n",
    "# user submission\n",
    "log_row = log.loc[[index]].reset_index()[[\"index\", \"answer\"]].iloc[0]\n",
    "log_row.index = [\"submission index\", \"submission text\"]\n",
    "\n",
    "new_row = pd.concat([item_row, log_row, defect1_row, defect2_row])\n",
    "pd.concat([\n",
    "    pd.read_csv(data_path / \"questions.csv\", sep=\";\", index_col=0),\n",
    "    pd.DataFrame([new_row])\n",
    "], ignore_index=True).to_csv(data_path / \"questions.csv\", sep=\";\")"
   ]
  },
  {
   "cell_type": "code",
   "execution_count": null,
   "metadata": {},
   "outputs": [],
   "source": [
    "#pd.DataFrame([new_row]).to_csv(\"questions.csv\", sep=\";\")"
   ]
  }
 ],
 "metadata": {
  "kernelspec": {
   "display_name": ".venv",
   "language": "python",
   "name": "python3"
  },
  "language_info": {
   "codemirror_mode": {
    "name": "ipython",
    "version": 3
   },
   "file_extension": ".py",
   "mimetype": "text/x-python",
   "name": "python",
   "nbconvert_exporter": "python",
   "pygments_lexer": "ipython3",
   "version": "3.10.7"
  }
 },
 "nbformat": 4,
 "nbformat_minor": 2
}
